{
  "nbformat": 4,
  "nbformat_minor": 0,
  "metadata": {
    "colab": {
      "name": "more advanced data struture.ipynb",
      "provenance": [],
      "authorship_tag": "ABX9TyNiKxtakXUMFIElRSvMvauX",
      "include_colab_link": true
    },
    "kernelspec": {
      "name": "python3",
      "display_name": "Python 3"
    }
  },
  "cells": [
    {
      "cell_type": "markdown",
      "metadata": {
        "id": "view-in-github",
        "colab_type": "text"
      },
      "source": [
        "<a href=\"https://colab.research.google.com/github/darunrat/data_viz/blob/main/more_advanced_data_struture.ipynb\" target=\"_parent\"><img src=\"https://colab.research.google.com/assets/colab-badge.svg\" alt=\"Open In Colab\"/></a>"
      ]
    },
    {
      "cell_type": "code",
      "metadata": {
        "id": "iP3xHbteiXnc"
      },
      "source": [
        ""
      ],
      "execution_count": null,
      "outputs": []
    },
    {
      "cell_type": "markdown",
      "metadata": {
        "id": "sL4AkNJvl7Jt"
      },
      "source": [
        "![137014165_242646240711839_6140614906362406573_n.png](data:image/png;base64,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)"
      ]
    },
    {
      "cell_type": "markdown",
      "metadata": {
        "id": "4I8sC9SmoJfU"
      },
      "source": [
        "# dictionary\r\n",
        "สามารถ index ด้วยอะไรก็ได้ แต่ลำดับจะหายไป"
      ]
    },
    {
      "cell_type": "code",
      "metadata": {
        "id": "jsxcMpC5nl4n"
      },
      "source": [
        "ex_dict={'a':10,'1':1,'stat':5}  #cury brackets ในการบอกว่าเป็น dict"
      ],
      "execution_count": null,
      "outputs": []
    },
    {
      "cell_type": "code",
      "metadata": {
        "colab": {
          "base_uri": "https://localhost:8080/"
        },
        "id": "YoZp4TR7pCCn",
        "outputId": "6120b4af-7077-46ef-cca4-40f17000dbaa"
      },
      "source": [
        "ex_dict['stat']"
      ],
      "execution_count": null,
      "outputs": [
        {
          "output_type": "execute_result",
          "data": {
            "text/plain": [
              "5"
            ]
          },
          "metadata": {
            "tags": []
          },
          "execution_count": 11
        }
      ]
    },
    {
      "cell_type": "code",
      "metadata": {
        "colab": {
          "base_uri": "https://localhost:8080/"
        },
        "id": "R3yXBOvopgRg",
        "outputId": "5faee3f0-9bcb-4034-b5c0-327076d729e8"
      },
      "source": [
        "ex_dict['a']"
      ],
      "execution_count": null,
      "outputs": [
        {
          "output_type": "execute_result",
          "data": {
            "text/plain": [
              "10"
            ]
          },
          "metadata": {
            "tags": []
          },
          "execution_count": 12
        }
      ]
    },
    {
      "cell_type": "code",
      "metadata": {
        "colab": {
          "base_uri": "https://localhost:8080/"
        },
        "id": "qwjW9uk6pgdW",
        "outputId": "20055ce6-e985-45f5-f86c-26a526d766af"
      },
      "source": [
        "ex_dict['1']"
      ],
      "execution_count": null,
      "outputs": [
        {
          "output_type": "execute_result",
          "data": {
            "text/plain": [
              "1"
            ]
          },
          "metadata": {
            "tags": []
          },
          "execution_count": 13
        }
      ]
    },
    {
      "cell_type": "code",
      "metadata": {
        "id": "59WtLLpipB_B"
      },
      "source": [
        "ex2_dict={1:'one',2:'two',3:'three'}"
      ],
      "execution_count": null,
      "outputs": []
    },
    {
      "cell_type": "code",
      "metadata": {
        "colab": {
          "base_uri": "https://localhost:8080/",
          "height": 34
        },
        "id": "n7c7f83wpB8f",
        "outputId": "a63c81e7-bddd-4811-941a-39a7eb585d86"
      },
      "source": [
        "ex2_dict[2]"
      ],
      "execution_count": null,
      "outputs": [
        {
          "output_type": "execute_result",
          "data": {
            "application/vnd.google.colaboratory.intrinsic+json": {
              "type": "string"
            },
            "text/plain": [
              "'two'"
            ]
          },
          "metadata": {
            "tags": []
          },
          "execution_count": 10
        }
      ]
    },
    {
      "cell_type": "markdown",
      "metadata": {
        "id": "LpKDHBlPqTfD"
      },
      "source": [
        "# การเพิ่มสมาชิกใน dict"
      ]
    },
    {
      "cell_type": "code",
      "metadata": {
        "id": "EZKjVPDbpBNY"
      },
      "source": [
        "ex2_dict[0]='zero'"
      ],
      "execution_count": null,
      "outputs": []
    },
    {
      "cell_type": "code",
      "metadata": {
        "colab": {
          "base_uri": "https://localhost:8080/"
        },
        "id": "rZXCwJFhqsWj",
        "outputId": "29ed9334-7084-4147-e01a-294182c19e11"
      },
      "source": [
        "ex2_dict"
      ],
      "execution_count": null,
      "outputs": [
        {
          "output_type": "execute_result",
          "data": {
            "text/plain": [
              "{0: 'zero', 1: 'one', 2: 'two', 3: 'three'}"
            ]
          },
          "metadata": {
            "tags": []
          },
          "execution_count": 15
        }
      ]
    },
    {
      "cell_type": "markdown",
      "metadata": {
        "id": "bYTLS1sUq761"
      },
      "source": [
        "## คำสั่ง"
      ]
    },
    {
      "cell_type": "code",
      "metadata": {
        "colab": {
          "base_uri": "https://localhost:8080/"
        },
        "id": "esyjiwnOq0re",
        "outputId": "a5873138-9787-447e-b65a-302cd0561f53"
      },
      "source": [
        "ex2_dict.keys()"
      ],
      "execution_count": null,
      "outputs": [
        {
          "output_type": "execute_result",
          "data": {
            "text/plain": [
              "dict_keys([1, 2, 3, 0])"
            ]
          },
          "metadata": {
            "tags": []
          },
          "execution_count": 16
        }
      ]
    },
    {
      "cell_type": "code",
      "metadata": {
        "colab": {
          "base_uri": "https://localhost:8080/"
        },
        "id": "IpPwx8nyrEix",
        "outputId": "7c8a5462-ab71-40cb-c194-9ff60c2b24b7"
      },
      "source": [
        "for index in ex2_dict.keys():\r\n",
        "  print(index)"
      ],
      "execution_count": null,
      "outputs": [
        {
          "output_type": "stream",
          "text": [
            "1\n",
            "2\n",
            "3\n",
            "0\n"
          ],
          "name": "stdout"
        }
      ]
    },
    {
      "cell_type": "code",
      "metadata": {
        "colab": {
          "base_uri": "https://localhost:8080/"
        },
        "id": "6uQsbCC7rONp",
        "outputId": "227c498e-499b-4706-aa78-f11d20be8b27"
      },
      "source": [
        "ex2_dict.values()"
      ],
      "execution_count": null,
      "outputs": [
        {
          "output_type": "execute_result",
          "data": {
            "text/plain": [
              "dict_values(['one', 'two', 'three', 'zero'])"
            ]
          },
          "metadata": {
            "tags": []
          },
          "execution_count": 18
        }
      ]
    },
    {
      "cell_type": "code",
      "metadata": {
        "colab": {
          "base_uri": "https://localhost:8080/"
        },
        "id": "0ieQmwWkrvfX",
        "outputId": "ca3cedcf-39b5-462f-d726-cfe94b8b06b9"
      },
      "source": [
        "index"
      ],
      "execution_count": null,
      "outputs": [
        {
          "output_type": "execute_result",
          "data": {
            "text/plain": [
              "0"
            ]
          },
          "metadata": {
            "tags": []
          },
          "execution_count": 19
        }
      ]
    },
    {
      "cell_type": "markdown",
      "metadata": {
        "id": "yLHLcMeOstiO"
      },
      "source": [
        "dictเอาไปใช้ร่วมกับ data frame ของ pandas"
      ]
    },
    {
      "cell_type": "markdown",
      "metadata": {
        "id": "hDY6jtZPtG1Z"
      },
      "source": [
        "#Numpy Array (arry n มิติ)\r\n",
        "![image.png](data:image/png;base64,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)"
      ]
    },
    {
      "cell_type": "markdown",
      "metadata": {
        "id": "ZIQ57vZ3t8yP"
      },
      "source": [
        "input คือ poockage ที่ทพงานเกี่ยวกับ arry ของตัวเลข(ที่มีคนเขียนขึ้นมาและนิยมใช้)\r\n",
        "\r\n",
        "numpy -> number pytthon"
      ]
    },
    {
      "cell_type": "markdown",
      "metadata": {
        "id": "Q0elMzN5u7w7"
      },
      "source": [
        "# สร้าง numpy array"
      ]
    },
    {
      "cell_type": "code",
      "metadata": {
        "id": "QtniLFICssce"
      },
      "source": [
        "import numpy #วิธีเรียกใช้งาน package"
      ],
      "execution_count": null,
      "outputs": []
    },
    {
      "cell_type": "code",
      "metadata": {
        "colab": {
          "base_uri": "https://localhost:8080/"
        },
        "id": "7QQ6RfZhucqR",
        "outputId": "13245572-2714-4ad7-a483-b39d8664bfc2"
      },
      "source": [
        "ex_2d_array=numpy.array([[5.2,3.0,4.5],[9.1,0.1,0.3]])\r\n",
        "print(ex2_2d_array)"
      ],
      "execution_count": null,
      "outputs": [
        {
          "output_type": "stream",
          "text": [
            "[[5.2 3.  4.5]\n",
            " [9.1 0.1 0.3]]\n"
          ],
          "name": "stdout"
        }
      ]
    },
    {
      "cell_type": "markdown",
      "metadata": {
        "id": "rG8n0VGKvBe5"
      },
      "source": [
        "# การชี้ค่าใน numpy array"
      ]
    },
    {
      "cell_type": "code",
      "metadata": {
        "colab": {
          "base_uri": "https://localhost:8080/"
        },
        "id": "Ja4B6_tUu7Lc",
        "outputId": "bf57d67a-a02a-453d-e520-12bcfc420e3e"
      },
      "source": [
        "ex_2d_array[1,2]"
      ],
      "execution_count": null,
      "outputs": [
        {
          "output_type": "execute_result",
          "data": {
            "text/plain": [
              "0.3"
            ]
          },
          "metadata": {
            "tags": []
          },
          "execution_count": 54
        }
      ]
    },
    {
      "cell_type": "code",
      "metadata": {
        "colab": {
          "base_uri": "https://localhost:8080/"
        },
        "id": "wCohKzRLu5hq",
        "outputId": "dd6f02e6-1eba-4408-fd3c-aac0bff0f88c"
      },
      "source": [
        "list_x=[[5.2,3.0,4.5],[9.1,0.1,0.3]]\r\n",
        "print(len(list_x))"
      ],
      "execution_count": null,
      "outputs": [
        {
          "output_type": "stream",
          "text": [
            "2\n"
          ],
          "name": "stdout"
        }
      ]
    },
    {
      "cell_type": "code",
      "metadata": {
        "colab": {
          "base_uri": "https://localhost:8080/"
        },
        "id": "UbSJ4yE6wDfT",
        "outputId": "3a806588-c245-4c69-d2fb-4970041567a0"
      },
      "source": [
        "print(list_x[1])"
      ],
      "execution_count": null,
      "outputs": [
        {
          "output_type": "stream",
          "text": [
            "[9.1, 1.0, 0.3]\n"
          ],
          "name": "stdout"
        }
      ]
    },
    {
      "cell_type": "code",
      "metadata": {
        "colab": {
          "base_uri": "https://localhost:8080/"
        },
        "id": "_A9madEU9A2a",
        "outputId": "b331801e-36cf-4da0-e754-655f762f8965"
      },
      "source": [
        "print(list_x[1][2])"
      ],
      "execution_count": null,
      "outputs": [
        {
          "output_type": "stream",
          "text": [
            "0.3\n"
          ],
          "name": "stdout"
        }
      ]
    },
    {
      "cell_type": "markdown",
      "metadata": {
        "id": "SU1IajL_x_1V"
      },
      "source": [
        "# operation"
      ]
    },
    {
      "cell_type": "code",
      "metadata": {
        "colab": {
          "base_uri": "https://localhost:8080/"
        },
        "id": "_WpIOgXxwjVQ",
        "outputId": "b9d87db9-af65-47b6-e592-08c413133f9c"
      },
      "source": [
        "ex2_2d_array = numpy.array([[1,0,0],[0,0,1]])\r\n",
        "print(ex2_2d_array)\r\n",
        "print(ex_2d_array)"
      ],
      "execution_count": null,
      "outputs": [
        {
          "output_type": "stream",
          "text": [
            "[[1 0 0]\n",
            " [0 0 1]]\n",
            "[[5.2 3.  4.5]\n",
            " [9.1 0.1 0.3]]\n"
          ],
          "name": "stdout"
        }
      ]
    },
    {
      "cell_type": "code",
      "metadata": {
        "colab": {
          "base_uri": "https://localhost:8080/"
        },
        "id": "JKJuHIIYyYZ3",
        "outputId": "7c9483aa-9f57-40a5-f736-955be9ff7ec6"
      },
      "source": [
        "ex_2d_array.shape"
      ],
      "execution_count": null,
      "outputs": [
        {
          "output_type": "execute_result",
          "data": {
            "text/plain": [
              "(2, 3)"
            ]
          },
          "metadata": {
            "tags": []
          },
          "execution_count": 66
        }
      ]
    },
    {
      "cell_type": "code",
      "metadata": {
        "colab": {
          "base_uri": "https://localhost:8080/"
        },
        "id": "S0bSNoe30g7U",
        "outputId": "bd6e0ea4-a01d-4226-d46f-b02c49a4aeaf"
      },
      "source": [
        "ex_2d_array+ex2_2d_array"
      ],
      "execution_count": null,
      "outputs": [
        {
          "output_type": "execute_result",
          "data": {
            "text/plain": [
              "array([[6.2, 3. , 4.5],\n",
              "       [9.1, 0.1, 1.3]])"
            ]
          },
          "metadata": {
            "tags": []
          },
          "execution_count": 69
        }
      ]
    },
    {
      "cell_type": "code",
      "metadata": {
        "id": "yx3mp0J71J6m"
      },
      "source": [
        "list_x=[[5.2,3.0,4.5],[9.1,1.0,0.3]]\r\n",
        "list_x2=[[1,0,0],[0,0,1]]"
      ],
      "execution_count": null,
      "outputs": []
    },
    {
      "cell_type": "code",
      "metadata": {
        "colab": {
          "base_uri": "https://localhost:8080/"
        },
        "id": "emjI4DGo3QSm",
        "outputId": "b60483e4-2995-4104-cff9-37675db557bd"
      },
      "source": [
        "list_x+list_x2"
      ],
      "execution_count": null,
      "outputs": [
        {
          "output_type": "execute_result",
          "data": {
            "text/plain": [
              "[[5.2, 3.0, 4.5], [9.1, 1.0, 0.3], [1, 0, 0], [0, 0, 1]]"
            ]
          },
          "metadata": {
            "tags": []
          },
          "execution_count": 71
        }
      ]
    },
    {
      "cell_type": "code",
      "metadata": {
        "colab": {
          "base_uri": "https://localhost:8080/"
        },
        "id": "Uf2Ga_4t4LOM",
        "outputId": "b2b633f5-aef4-4161-a4c3-bc71ccd5d700"
      },
      "source": [
        "ex_2d_array-ex2_2d_array"
      ],
      "execution_count": null,
      "outputs": [
        {
          "output_type": "execute_result",
          "data": {
            "text/plain": [
              "array([[ 4.2,  3. ,  4.5],\n",
              "       [ 9.1,  0.1, -0.7]])"
            ]
          },
          "metadata": {
            "tags": []
          },
          "execution_count": 72
        }
      ]
    },
    {
      "cell_type": "code",
      "metadata": {
        "colab": {
          "base_uri": "https://localhost:8080/"
        },
        "id": "FOTl7fcZ4UDJ",
        "outputId": "260d0a58-7961-499f-bf7b-a56ba571280a"
      },
      "source": [
        "ex_2d_array*ex2_2d_array"
      ],
      "execution_count": null,
      "outputs": [
        {
          "output_type": "execute_result",
          "data": {
            "text/plain": [
              "array([[5.2, 0. , 0. ],\n",
              "       [0. , 0. , 0.3]])"
            ]
          },
          "metadata": {
            "tags": []
          },
          "execution_count": 73
        }
      ]
    },
    {
      "cell_type": "code",
      "metadata": {
        "colab": {
          "base_uri": "https://localhost:8080/"
        },
        "id": "NqGvxXfA4Sk9",
        "outputId": "ee43a5c4-2dfd-49aa-c994-634904342d42"
      },
      "source": [
        "print(ex_2d_array)\r\n",
        "print(ex_2d_array.T)"
      ],
      "execution_count": null,
      "outputs": [
        {
          "output_type": "stream",
          "text": [
            "[[5.2 3.  4.5]\n",
            " [9.1 0.1 0.3]]\n",
            "[[5.2 9.1]\n",
            " [3.  0.1]\n",
            " [4.5 0.3]]\n"
          ],
          "name": "stdout"
        }
      ]
    },
    {
      "cell_type": "code",
      "metadata": {
        "colab": {
          "base_uri": "https://localhost:8080/"
        },
        "id": "CIAJFdrn4985",
        "outputId": "9cf91766-036d-467d-9aab-6f0c1ea252ee"
      },
      "source": [
        "dot_mat=numpy.dot(ex_2d_array,ex2_2d_array.T)\r\n",
        "print(dot_mat)"
      ],
      "execution_count": null,
      "outputs": [
        {
          "output_type": "stream",
          "text": [
            "[[5.2 4.5]\n",
            " [9.1 0.3]]\n"
          ],
          "name": "stdout"
        }
      ]
    },
    {
      "cell_type": "code",
      "metadata": {
        "colab": {
          "base_uri": "https://localhost:8080/"
        },
        "id": "lubEV_hJ5N39",
        "outputId": "a25f9bbe-8a5b-4b6b-fca3-c343db830eb5"
      },
      "source": [
        "\r\n",
        "numpy.linalg.det(dot_mat)"
      ],
      "execution_count": null,
      "outputs": [
        {
          "output_type": "execute_result",
          "data": {
            "text/plain": [
              "-39.389999999999986"
            ]
          },
          "metadata": {
            "tags": []
          },
          "execution_count": 92
        }
      ]
    },
    {
      "cell_type": "markdown",
      "metadata": {
        "id": "KEjycuQW3wIo"
      },
      "source": [
        "## search google -> web ของ pacckage สำหรับ operation อื่นๆ"
      ]
    },
    {
      "cell_type": "code",
      "metadata": {
        "id": "bt5Mo0h_5x6C"
      },
      "source": [
        ""
      ],
      "execution_count": null,
      "outputs": []
    },
    {
      "cell_type": "markdown",
      "metadata": {
        "id": "y5f8SGUV5dm6"
      },
      "source": [
        "## matrix slicing"
      ]
    },
    {
      "cell_type": "code",
      "metadata": {
        "colab": {
          "base_uri": "https://localhost:8080/"
        },
        "id": "fv87A94K3P-b",
        "outputId": "01fdfaad-09c1-4e90-dd48-72eade36387d"
      },
      "source": [
        "print(ex_2d_array)"
      ],
      "execution_count": null,
      "outputs": [
        {
          "output_type": "stream",
          "text": [
            "[[5.2 3.  4.5]\n",
            " [9.1 0.1 0.3]]\n"
          ],
          "name": "stdout"
        }
      ]
    },
    {
      "cell_type": "code",
      "metadata": {
        "colab": {
          "base_uri": "https://localhost:8080/"
        },
        "id": "7Qa5k9ZS3P2n",
        "outputId": "f9b3f7e0-46e0-4d5b-d593-1a542908e225"
      },
      "source": [
        "ex_2d_array[1,1]"
      ],
      "execution_count": null,
      "outputs": [
        {
          "output_type": "execute_result",
          "data": {
            "text/plain": [
              "0.1"
            ]
          },
          "metadata": {
            "tags": []
          },
          "execution_count": 79
        }
      ]
    },
    {
      "cell_type": "code",
      "metadata": {
        "colab": {
          "base_uri": "https://localhost:8080/"
        },
        "id": "7CuhSfFP3Plz",
        "outputId": "66db20d6-4c00-442a-ec14-d73090fc137d"
      },
      "source": [
        "ex_2d_array[1,1:]"
      ],
      "execution_count": null,
      "outputs": [
        {
          "output_type": "execute_result",
          "data": {
            "text/plain": [
              "array([0.1, 0.3])"
            ]
          },
          "metadata": {
            "tags": []
          },
          "execution_count": 80
        }
      ]
    },
    {
      "cell_type": "code",
      "metadata": {
        "colab": {
          "base_uri": "https://localhost:8080/"
        },
        "id": "x-NP8ZUK58Ve",
        "outputId": "a63f26c2-5fcb-4798-dbaa-e830d5c48a0e"
      },
      "source": [
        "ex_2d_array[:,:2]"
      ],
      "execution_count": null,
      "outputs": [
        {
          "output_type": "execute_result",
          "data": {
            "text/plain": [
              "array([[5.2, 3. ],\n",
              "       [9.1, 0.1]])"
            ]
          },
          "metadata": {
            "tags": []
          },
          "execution_count": 81
        }
      ]
    },
    {
      "cell_type": "markdown",
      "metadata": {
        "id": "IKO3WuJB5hhe"
      },
      "source": [
        "random,one,zero"
      ]
    },
    {
      "cell_type": "markdown",
      "metadata": {
        "id": "Yyam-q637IFG"
      },
      "source": [
        "## HW5 เขียน function คูณ matrix แล้ว test กับ matrix ขนาด\r\n",
        "\r\n",
        "\r\n",
        "*   (2,3)*(3,2)\r\n",
        "*    (4,4)*(4,1)\r\n",
        "*    (2,2)*(2,2)\r\n",
        "\r\n"
      ]
    },
    {
      "cell_type": "code",
      "metadata": {
        "id": "KpcyU-yR_-Cq"
      },
      "source": [
        "import numpy "
      ],
      "execution_count": 188,
      "outputs": []
    },
    {
      "cell_type": "code",
      "metadata": {
        "id": "TTevqQuN5khs",
        "colab": {
          "base_uri": "https://localhost:8080/"
        },
        "outputId": "fa540ff2-c49c-44e5-fd32-cce0d41d4ce5"
      },
      "source": [
        "list_a=numpy.array([[7,8,9],[2,4,6]]) #2*3\r\n",
        "list_a\r\n"
      ],
      "execution_count": 189,
      "outputs": [
        {
          "output_type": "execute_result",
          "data": {
            "text/plain": [
              "array([[7, 8, 9],\n",
              "       [2, 4, 6]])"
            ]
          },
          "metadata": {
            "tags": []
          },
          "execution_count": 189
        }
      ]
    },
    {
      "cell_type": "code",
      "metadata": {
        "colab": {
          "base_uri": "https://localhost:8080/"
        },
        "id": "IcoihDDqCIgg",
        "outputId": "99a42485-5278-41fc-da95-462455a228b3"
      },
      "source": [
        "list_b=numpy.array([[6,8],[7,9],[1,2]])#3*2\r\n",
        "list_b"
      ],
      "execution_count": 190,
      "outputs": [
        {
          "output_type": "execute_result",
          "data": {
            "text/plain": [
              "array([[6, 8],\n",
              "       [7, 9],\n",
              "       [1, 2]])"
            ]
          },
          "metadata": {
            "tags": []
          },
          "execution_count": 190
        }
      ]
    },
    {
      "cell_type": "code",
      "metadata": {
        "colab": {
          "base_uri": "https://localhost:8080/"
        },
        "id": "dFya5HbW-3-4",
        "outputId": "8aead973-2b81-4885-b75e-5b67dfa4c341"
      },
      "source": [
        "list_c=numpy.array([[2,3,3,2],[4,4,4,1],[2,2,1,3],[4,5,3,2]] )#4*4\r\n",
        "list_c"
      ],
      "execution_count": 191,
      "outputs": [
        {
          "output_type": "execute_result",
          "data": {
            "text/plain": [
              "array([[2, 3, 3, 2],\n",
              "       [4, 4, 4, 1],\n",
              "       [2, 2, 1, 3],\n",
              "       [4, 5, 3, 2]])"
            ]
          },
          "metadata": {
            "tags": []
          },
          "execution_count": 191
        }
      ]
    },
    {
      "cell_type": "code",
      "metadata": {
        "colab": {
          "base_uri": "https://localhost:8080/"
        },
        "id": "xjQ8Uo0zwaMj",
        "outputId": "31e93d82-f9a7-456e-9a74-4e38ec65cff5"
      },
      "source": [
        "\r\n",
        "list_d=numpy.array([[1],[2],[3],[4]]) #4*1\r\n",
        "list_d"
      ],
      "execution_count": 192,
      "outputs": [
        {
          "output_type": "execute_result",
          "data": {
            "text/plain": [
              "array([[1],\n",
              "       [2],\n",
              "       [3],\n",
              "       [4]])"
            ]
          },
          "metadata": {
            "tags": []
          },
          "execution_count": 192
        }
      ]
    },
    {
      "cell_type": "code",
      "metadata": {
        "id": "VQcDAOtvxgd3",
        "colab": {
          "base_uri": "https://localhost:8080/"
        },
        "outputId": "c00dcfff-04fd-4f74-8d47-c1db3a991993"
      },
      "source": [
        "list_e=numpy.array([[6,1],[2,7]])#2*2\r\n",
        "list_e"
      ],
      "execution_count": 193,
      "outputs": [
        {
          "output_type": "execute_result",
          "data": {
            "text/plain": [
              "array([[6, 1],\n",
              "       [2, 7]])"
            ]
          },
          "metadata": {
            "tags": []
          },
          "execution_count": 193
        }
      ]
    },
    {
      "cell_type": "code",
      "metadata": {
        "colab": {
          "base_uri": "https://localhost:8080/"
        },
        "id": "8ju_eO2n2Ewe",
        "outputId": "2dd2b554-6100-4e5c-fa4b-3e614bf66168"
      },
      "source": [
        "list_f=numpy.array([[5,3],[2,3]]) #2*2\r\n",
        "list_f"
      ],
      "execution_count": 194,
      "outputs": [
        {
          "output_type": "execute_result",
          "data": {
            "text/plain": [
              "array([[5, 3],\n",
              "       [2, 3]])"
            ]
          },
          "metadata": {
            "tags": []
          },
          "execution_count": 194
        }
      ]
    },
    {
      "cell_type": "code",
      "metadata": {
        "id": "YQnD36Ve2Fdt"
      },
      "source": [
        "def mul_list(a, b):\r\n",
        "   m=[[0 for row in range(len(b[0]))] for col in range(len(a))]\r\n",
        "  \r\n",
        "   for i in range(len(a)):\r\n",
        "     for j in range(len(b[0])):\r\n",
        "       for k in range(len(b)):\r\n",
        "            m[i][j] += a[i][k]*b[k][j] \r\n",
        "   r = numpy.matrix(m)\r\n",
        "   return r"
      ],
      "execution_count": 203,
      "outputs": []
    },
    {
      "cell_type": "code",
      "metadata": {
        "colab": {
          "base_uri": "https://localhost:8080/"
        },
        "id": "AM8X_apc5dEW",
        "outputId": "38950d19-26a5-4e9f-b047-d1b74cc597b3"
      },
      "source": [
        "mul_list(list_a,list_b)"
      ],
      "execution_count": 204,
      "outputs": [
        {
          "output_type": "execute_result",
          "data": {
            "text/plain": [
              "matrix([[107, 146],\n",
              "        [ 46,  64]])"
            ]
          },
          "metadata": {
            "tags": []
          },
          "execution_count": 204
        }
      ]
    },
    {
      "cell_type": "code",
      "metadata": {
        "colab": {
          "base_uri": "https://localhost:8080/"
        },
        "id": "6fkhD4qE8A3N",
        "outputId": "2fa2ca56-1de6-4336-94c2-366eb26c3c50"
      },
      "source": [
        "mul_list(list_c,list_d)"
      ],
      "execution_count": 205,
      "outputs": [
        {
          "output_type": "execute_result",
          "data": {
            "text/plain": [
              "matrix([[25],\n",
              "        [28],\n",
              "        [21],\n",
              "        [31]])"
            ]
          },
          "metadata": {
            "tags": []
          },
          "execution_count": 205
        }
      ]
    },
    {
      "cell_type": "code",
      "metadata": {
        "colab": {
          "base_uri": "https://localhost:8080/"
        },
        "id": "kgYnqEO3IXq3",
        "outputId": "349a4e95-eb3d-41b6-dd56-3649acbba605"
      },
      "source": [
        "mul_list(list_e,list_f)"
      ],
      "execution_count": 206,
      "outputs": [
        {
          "output_type": "execute_result",
          "data": {
            "text/plain": [
              "matrix([[32, 21],\n",
              "        [24, 27]])"
            ]
          },
          "metadata": {
            "tags": []
          },
          "execution_count": 206
        }
      ]
    },
    {
      "cell_type": "markdown",
      "metadata": {
        "id": "OObnt8SCDdYI"
      },
      "source": [
        "...."
      ]
    },
    {
      "cell_type": "code",
      "metadata": {
        "colab": {
          "base_uri": "https://localhost:8080/"
        },
        "id": "4cFEbMvH-V6S",
        "outputId": "0615e3d3-e962-415a-d998-35f825732c17"
      },
      "source": [
        "numpy.dot(list_a,list_b) "
      ],
      "execution_count": 211,
      "outputs": [
        {
          "output_type": "execute_result",
          "data": {
            "text/plain": [
              "array([[107, 146],\n",
              "       [ 46,  64]])"
            ]
          },
          "metadata": {
            "tags": []
          },
          "execution_count": 211
        }
      ]
    },
    {
      "cell_type": "code",
      "metadata": {
        "colab": {
          "base_uri": "https://localhost:8080/"
        },
        "id": "LEFUjJndBbTl",
        "outputId": "599939fe-0461-4b1e-e561-327ba768a60e"
      },
      "source": [
        "numpy.dot(list_c,list_d)"
      ],
      "execution_count": 212,
      "outputs": [
        {
          "output_type": "execute_result",
          "data": {
            "text/plain": [
              "array([[25],\n",
              "       [28],\n",
              "       [21],\n",
              "       [31]])"
            ]
          },
          "metadata": {
            "tags": []
          },
          "execution_count": 212
        }
      ]
    },
    {
      "cell_type": "code",
      "metadata": {
        "colab": {
          "base_uri": "https://localhost:8080/"
        },
        "id": "C5s0LX3CImko",
        "outputId": "8d473735-9eb6-4dc9-ae62-afefb143062e"
      },
      "source": [
        "numpy.dot(list_e,list_f)"
      ],
      "execution_count": 213,
      "outputs": [
        {
          "output_type": "execute_result",
          "data": {
            "text/plain": [
              "array([[32, 21],\n",
              "       [24, 27]])"
            ]
          },
          "metadata": {
            "tags": []
          },
          "execution_count": 213
        }
      ]
    },
    {
      "cell_type": "code",
      "metadata": {
        "id": "m6oUtrHbInLh"
      },
      "source": [
        ""
      ],
      "execution_count": null,
      "outputs": []
    }
  ]
}