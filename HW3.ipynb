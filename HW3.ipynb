{
  "nbformat": 4,
  "nbformat_minor": 0,
  "metadata": {
    "colab": {
      "name": "HW3.ipynb",
      "provenance": [],
      "authorship_tag": "ABX9TyNZBx/jHqSO+4Uq3Y4CGLGL",
      "include_colab_link": true
    },
    "kernelspec": {
      "name": "python3",
      "display_name": "Python 3"
    }
  },
  "cells": [
    {
      "cell_type": "markdown",
      "metadata": {
        "id": "view-in-github",
        "colab_type": "text"
      },
      "source": [
        "<a href=\"https://colab.research.google.com/github/darunrat/data_viz/blob/main/HW3.ipynb\" target=\"_parent\"><img src=\"https://colab.research.google.com/assets/colab-badge.svg\" alt=\"Open In Colab\"/></a>"
      ]
    },
    {
      "cell_type": "markdown",
      "metadata": {
        "id": "vrX5qxPu7ATr"
      },
      "source": [
        "#การบ้านที่3\r\n",
        "#####ให้สร้าง list ของเวลา แล้ววนรูปเรียกฟังก์ชันคำนวณเวลาเป็นวินาที\r\n"
      ]
    },
    {
      "cell_type": "code",
      "metadata": {
        "id": "Sxz5KrwjdDBO"
      },
      "source": [
        "def time_name(timesec) :\r\n",
        "  T=timesec.split(':')\r\n",
        "  H=int(T[0])*3600\r\n",
        "  M=int(T[1])*60\r\n",
        "  S=int(T[2])\r\n",
        "  Totle=f'เวลา{timesec}={H+M+S}วินาที'\r\n",
        "  print(Totle)\r\n"
      ],
      "execution_count": 12,
      "outputs": []
    },
    {
      "cell_type": "code",
      "metadata": {
        "id": "rI6j5r5V8w73",
        "colab": {
          "base_uri": "https://localhost:8080/"
        },
        "outputId": "1e6169a8-84ec-463b-b00e-e669f38737a6"
      },
      "source": [
        "time_name( '12:30:15' )\r\n",
        "time_name( '13:41:07' )\r\n",
        "time_name( '12:53:15' )\r\n",
        "time_name( '00:59:25' )\r\n",
        "time_name( '11:11:11' )\r\n",
        "time_name( '16:06:09' )"
      ],
      "execution_count": 13,
      "outputs": [
        {
          "output_type": "stream",
          "text": [
            "เวลา12:30:15=45015วินาที\n",
            "เวลา13:41:07=49267วินาที\n",
            "เวลา12:53:15=46395วินาที\n",
            "เวลา00:59:25=3565วินาที\n",
            "เวลา11:11:11=40271วินาที\n",
            "เวลา16:06:09=57969วินาที\n"
          ],
          "name": "stdout"
        }
      ]
    },
    {
      "cell_type": "code",
      "metadata": {
        "id": "6nG77fMtLJ7g"
      },
      "source": [
        "list_time = ['12:30:15','13:41:07' ,'12:53:15' ,'00:59:25' ,' 11:11:11' , '16:06:09']"
      ],
      "execution_count": 37,
      "outputs": []
    },
    {
      "cell_type": "code",
      "metadata": {
        "colab": {
          "base_uri": "https://localhost:8080/"
        },
        "id": "bus8GcdoLoaF",
        "outputId": "e28f1ba3-f655-4d1f-f965-462a5a13ecff"
      },
      "source": [
        "for i in list_time :\r\n",
        "  time_name(i)"
      ],
      "execution_count": 42,
      "outputs": [
        {
          "output_type": "stream",
          "text": [
            "เวลา12:30:15=45015วินาที\n",
            "เวลา13:41:07=49267วินาที\n",
            "เวลา12:53:15=46395วินาที\n",
            "เวลา00:59:25=3565วินาที\n",
            "เวลา 11:11:11=40271วินาที\n",
            "เวลา16:06:09=57969วินาที\n"
          ],
          "name": "stdout"
        }
      ]
    },
    {
      "cell_type": "code",
      "metadata": {
        "id": "2AHxCdpdgex3"
      },
      "source": [
        ""
      ],
      "execution_count": null,
      "outputs": []
    }
  ]
}