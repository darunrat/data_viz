{
  "nbformat": 4,
  "nbformat_minor": 0,
  "metadata": {
    "colab": {
      "name": "Visuailze Data Comparison.ipynb",
      "provenance": [],
      "authorship_tag": "ABX9TyMhErhowoPLTs955sCoKy5J",
      "include_colab_link": true
    },
    "kernelspec": {
      "name": "python3",
      "display_name": "Python 3"
    },
    "language_info": {
      "name": "python"
    }
  },
  "cells": [
    {
      "cell_type": "markdown",
      "metadata": {
        "id": "view-in-github",
        "colab_type": "text"
      },
      "source": [
        "<a href=\"https://colab.research.google.com/github/darunrat/data_viz/blob/main/Visuailze_Data_Comparison.ipynb\" target=\"_parent\"><img src=\"https://colab.research.google.com/assets/colab-badge.svg\" alt=\"Open In Colab\"/></a>"
      ]
    },
    {
      "cell_type": "code",
      "metadata": {
        "id": "ACFRIJ2_IGkb"
      },
      "source": [
        "import pandas as pd\n",
        "import os\n",
        "from datetime import datetime \n",
        "import datetime as dt"
      ],
      "execution_count": 36,
      "outputs": []
    },
    {
      "cell_type": "code",
      "metadata": {
        "colab": {
          "base_uri": "https://localhost:8080/",
          "height": 496
        },
        "id": "78jENCACKdWm",
        "outputId": "50c4a817-3876-4c7d-e5d1-22a9d764fa59"
      },
      "source": [
        "data = pd.read_csv('/content/search_request.csv')\n",
        "data.head()"
      ],
      "execution_count": 15,
      "outputs": [
        {
          "output_type": "execute_result",
          "data": {
            "text/html": [
              "<div>\n",
              "<style scoped>\n",
              "    .dataframe tbody tr th:only-of-type {\n",
              "        vertical-align: middle;\n",
              "    }\n",
              "\n",
              "    .dataframe tbody tr th {\n",
              "        vertical-align: top;\n",
              "    }\n",
              "\n",
              "    .dataframe thead th {\n",
              "        text-align: right;\n",
              "    }\n",
              "</style>\n",
              "<table border=\"1\" class=\"dataframe\">\n",
              "  <thead>\n",
              "    <tr style=\"text-align: right;\">\n",
              "      <th></th>\n",
              "      <th>Unnamed: 0</th>\n",
              "      <th>search_id</th>\n",
              "      <th>search_timestamp</th>\n",
              "      <th>user_agent</th>\n",
              "      <th>q</th>\n",
              "      <th>user_id</th>\n",
              "      <th>session_id</th>\n",
              "      <th>number_of_result</th>\n",
              "      <th>lat</th>\n",
              "      <th>long</th>\n",
              "    </tr>\n",
              "  </thead>\n",
              "  <tbody>\n",
              "    <tr>\n",
              "      <th>0</th>\n",
              "      <td>0</td>\n",
              "      <td>683de889-f923-494e-9d46-44a3d67b7259</td>\n",
              "      <td>2018-06-14 12:34:35.449</td>\n",
              "      <td>Wongnai/8.17.3 rv:8.17.3.3921 (iPhone5,4; iOS;...</td>\n",
              "      <td>NaN</td>\n",
              "      <td>NaN</td>\n",
              "      <td>5lqjjikta19d296mo7g2h1k86p</td>\n",
              "      <td>18.0</td>\n",
              "      <td>12.634739</td>\n",
              "      <td>101.463177</td>\n",
              "    </tr>\n",
              "    <tr>\n",
              "      <th>1</th>\n",
              "      <td>1</td>\n",
              "      <td>4a811230-ffa4-4631-a4c8-5d0394137d02</td>\n",
              "      <td>2018-06-14 17:11:19.469</td>\n",
              "      <td>Mozilla/5.0 (iPhone; CPU iPhone OS 11_4 like M...</td>\n",
              "      <td>NaN</td>\n",
              "      <td>NaN</td>\n",
              "      <td>1r3iotmp0o9slom91stdt9vivc</td>\n",
              "      <td>10.0</td>\n",
              "      <td>14.800882</td>\n",
              "      <td>102.533777</td>\n",
              "    </tr>\n",
              "    <tr>\n",
              "      <th>2</th>\n",
              "      <td>2</td>\n",
              "      <td>7ad6ee8e-438e-4bea-9183-74dcef9e358e</td>\n",
              "      <td>2018-06-14 13:22:31.736</td>\n",
              "      <td>Mozilla/5.0 (Linux; Android 7.0; SAMSUNG SM-J7...</td>\n",
              "      <td>NaN</td>\n",
              "      <td>NaN</td>\n",
              "      <td>5ci1eo4v5u9dha4ppgu94ue7p6</td>\n",
              "      <td>8.0</td>\n",
              "      <td>13.738260</td>\n",
              "      <td>100.371405</td>\n",
              "    </tr>\n",
              "    <tr>\n",
              "      <th>3</th>\n",
              "      <td>3</td>\n",
              "      <td>0c17a5f5-fa89-40f4-ae94-a8659268f827</td>\n",
              "      <td>2018-06-02 12:37:27.331</td>\n",
              "      <td>Mozilla/5.0 (Linux; Android 7.1.1; SM-N950F Bu...</td>\n",
              "      <td>NaN</td>\n",
              "      <td>NaN</td>\n",
              "      <td>39n535qgje9kpojp0grhfj8umk</td>\n",
              "      <td>12.0</td>\n",
              "      <td>12.666877</td>\n",
              "      <td>101.860838</td>\n",
              "    </tr>\n",
              "    <tr>\n",
              "      <th>4</th>\n",
              "      <td>4</td>\n",
              "      <td>6870dc3a-5602-44fc-80ed-df0a7783df9d</td>\n",
              "      <td>2018-06-02 11:19:22.404</td>\n",
              "      <td>Mozilla/5.0 (iPhone; CPU iPhone OS 11_3_1 like...</td>\n",
              "      <td>NaN</td>\n",
              "      <td>NaN</td>\n",
              "      <td>5pa03h6lj691to60erver1l8o4</td>\n",
              "      <td>14.0</td>\n",
              "      <td>12.237242</td>\n",
              "      <td>99.879998</td>\n",
              "    </tr>\n",
              "  </tbody>\n",
              "</table>\n",
              "</div>"
            ],
            "text/plain": [
              "   Unnamed: 0                             search_id  ...        lat        long\n",
              "0           0  683de889-f923-494e-9d46-44a3d67b7259  ...  12.634739  101.463177\n",
              "1           1  4a811230-ffa4-4631-a4c8-5d0394137d02  ...  14.800882  102.533777\n",
              "2           2  7ad6ee8e-438e-4bea-9183-74dcef9e358e  ...  13.738260  100.371405\n",
              "3           3  0c17a5f5-fa89-40f4-ae94-a8659268f827  ...  12.666877  101.860838\n",
              "4           4  6870dc3a-5602-44fc-80ed-df0a7783df9d  ...  12.237242   99.879998\n",
              "\n",
              "[5 rows x 10 columns]"
            ]
          },
          "metadata": {
            "tags": []
          },
          "execution_count": 15
        }
      ]
    },
    {
      "cell_type": "code",
      "metadata": {
        "id": "Y7SlSFRuKd37"
      },
      "source": [
        ""
      ],
      "execution_count": null,
      "outputs": []
    },
    {
      "cell_type": "code",
      "metadata": {
        "id": "wn612_S_KeIr"
      },
      "source": [
        ""
      ],
      "execution_count": null,
      "outputs": []
    },
    {
      "cell_type": "markdown",
      "metadata": {
        "id": "aB7AfjzUKjdK"
      },
      "source": [
        "# เตรียมข้อมูล"
      ]
    },
    {
      "cell_type": "markdown",
      "metadata": {
        "id": "H0cI9JzLK21z"
      },
      "source": [
        "##### แปลงข้อมูลบอกเวลาให้เป็นตัวแปรชนิด detetime"
      ]
    },
    {
      "cell_type": "code",
      "metadata": {
        "id": "JP_b0eFmNtHa"
      },
      "source": [
        "data['search_timetamp']=pd.to_datetime(data['search_timestamp'],format='%Y-%m-%d %H:%M:%S',errors='coerce')"
      ],
      "execution_count": 16,
      "outputs": []
    },
    {
      "cell_type": "markdown",
      "metadata": {
        "id": "JwyaCdkzMVwy"
      },
      "source": [
        "# Bar chart (กราฟแท่ง)"
      ]
    },
    {
      "cell_type": "markdown",
      "metadata": {
        "id": "foPN5BbQMbe6"
      },
      "source": [
        "#####(กราฟผลไม้)"
      ]
    },
    {
      "cell_type": "markdown",
      "metadata": {
        "id": "uhY8bx-aNdlz"
      },
      "source": [
        "###### สร้างกราฟเปรียบเทียบปริมาณ คนเข้าใช้ web wongnai.com เพื่อค้นหาร้านอาหารในแต่ล่ะวัน"
      ]
    },
    {
      "cell_type": "markdown",
      "metadata": {
        "id": "hbeQ9FyqNdga"
      },
      "source": [
        "quiz 6"
      ]
    },
    {
      "cell_type": "code",
      "metadata": {
        "id": "dmgPGX1uOmoz"
      },
      "source": [
        "from matplotlib import pyplot as plt"
      ],
      "execution_count": 26,
      "outputs": []
    },
    {
      "cell_type": "code",
      "metadata": {
        "id": "1UF3X4m2Ou-T"
      },
      "source": [
        "plt.bar([1,2,3,4,5,6,7],data[data['search_timestamp']])"
      ],
      "execution_count": null,
      "outputs": []
    },
    {
      "cell_type": "code",
      "metadata": {
        "colab": {
          "base_uri": "https://localhost:8080/"
        },
        "id": "8QNWLMJPK1zK",
        "outputId": "14025756-a0ab-46b5-952d-58ac8abd6931"
      },
      "source": [
        "data['search_timestamp']"
      ],
      "execution_count": 22,
      "outputs": [
        {
          "output_type": "execute_result",
          "data": {
            "text/plain": [
              "0         2018-06-14 12:34:35.449\n",
              "1         2018-06-14 17:11:19.469\n",
              "2         2018-06-14 13:22:31.736\n",
              "3         2018-06-02 12:37:27.331\n",
              "4         2018-06-02 11:19:22.404\n",
              "                   ...           \n",
              "686555    2018-06-03 11:20:41.815\n",
              "686556    2018-06-03 08:15:22.098\n",
              "686557    2018-06-03 11:52:10.684\n",
              "686558    2018-06-03 09:20:32.207\n",
              "686559     2018-06-03 09:55:44.72\n",
              "Name: search_timestamp, Length: 686560, dtype: object"
            ]
          },
          "metadata": {
            "tags": []
          },
          "execution_count": 22
        }
      ]
    },
    {
      "cell_type": "markdown",
      "metadata": {
        "id": "mX2JhKR_R3XB"
      },
      "source": [
        "เฉลย "
      ]
    },
    {
      "cell_type": "code",
      "metadata": {
        "colab": {
          "base_uri": "https://localhost:8080/",
          "height": 966
        },
        "id": "gImOSRjlVw64",
        "outputId": "975719f7-7f7a-47eb-d967-50be1ec101b0"
      },
      "source": [
        "data[\"search_timestamp\"] = pd.to_datetime(data[\"search_timestamp\"])\n",
        "data"
      ],
      "execution_count": 41,
      "outputs": [
        {
          "output_type": "execute_result",
          "data": {
            "text/html": [
              "<div>\n",
              "<style scoped>\n",
              "    .dataframe tbody tr th:only-of-type {\n",
              "        vertical-align: middle;\n",
              "    }\n",
              "\n",
              "    .dataframe tbody tr th {\n",
              "        vertical-align: top;\n",
              "    }\n",
              "\n",
              "    .dataframe thead th {\n",
              "        text-align: right;\n",
              "    }\n",
              "</style>\n",
              "<table border=\"1\" class=\"dataframe\">\n",
              "  <thead>\n",
              "    <tr style=\"text-align: right;\">\n",
              "      <th></th>\n",
              "      <th>Unnamed: 0</th>\n",
              "      <th>search_id</th>\n",
              "      <th>search_timestamp</th>\n",
              "      <th>user_agent</th>\n",
              "      <th>q</th>\n",
              "      <th>user_id</th>\n",
              "      <th>session_id</th>\n",
              "      <th>number_of_result</th>\n",
              "      <th>lat</th>\n",
              "      <th>long</th>\n",
              "      <th>search_timetamp</th>\n",
              "    </tr>\n",
              "  </thead>\n",
              "  <tbody>\n",
              "    <tr>\n",
              "      <th>0</th>\n",
              "      <td>0</td>\n",
              "      <td>683de889-f923-494e-9d46-44a3d67b7259</td>\n",
              "      <td>2018-06-14 12:34:35.449</td>\n",
              "      <td>Wongnai/8.17.3 rv:8.17.3.3921 (iPhone5,4; iOS;...</td>\n",
              "      <td>NaN</td>\n",
              "      <td>NaN</td>\n",
              "      <td>5lqjjikta19d296mo7g2h1k86p</td>\n",
              "      <td>18.0</td>\n",
              "      <td>12.634739</td>\n",
              "      <td>101.463177</td>\n",
              "      <td>2018-06-14 12:34:35.449</td>\n",
              "    </tr>\n",
              "    <tr>\n",
              "      <th>1</th>\n",
              "      <td>1</td>\n",
              "      <td>4a811230-ffa4-4631-a4c8-5d0394137d02</td>\n",
              "      <td>2018-06-14 17:11:19.469</td>\n",
              "      <td>Mozilla/5.0 (iPhone; CPU iPhone OS 11_4 like M...</td>\n",
              "      <td>NaN</td>\n",
              "      <td>NaN</td>\n",
              "      <td>1r3iotmp0o9slom91stdt9vivc</td>\n",
              "      <td>10.0</td>\n",
              "      <td>14.800882</td>\n",
              "      <td>102.533777</td>\n",
              "      <td>2018-06-14 17:11:19.469</td>\n",
              "    </tr>\n",
              "    <tr>\n",
              "      <th>2</th>\n",
              "      <td>2</td>\n",
              "      <td>7ad6ee8e-438e-4bea-9183-74dcef9e358e</td>\n",
              "      <td>2018-06-14 13:22:31.736</td>\n",
              "      <td>Mozilla/5.0 (Linux; Android 7.0; SAMSUNG SM-J7...</td>\n",
              "      <td>NaN</td>\n",
              "      <td>NaN</td>\n",
              "      <td>5ci1eo4v5u9dha4ppgu94ue7p6</td>\n",
              "      <td>8.0</td>\n",
              "      <td>13.738260</td>\n",
              "      <td>100.371405</td>\n",
              "      <td>2018-06-14 13:22:31.736</td>\n",
              "    </tr>\n",
              "    <tr>\n",
              "      <th>3</th>\n",
              "      <td>3</td>\n",
              "      <td>0c17a5f5-fa89-40f4-ae94-a8659268f827</td>\n",
              "      <td>2018-06-02 12:37:27.331</td>\n",
              "      <td>Mozilla/5.0 (Linux; Android 7.1.1; SM-N950F Bu...</td>\n",
              "      <td>NaN</td>\n",
              "      <td>NaN</td>\n",
              "      <td>39n535qgje9kpojp0grhfj8umk</td>\n",
              "      <td>12.0</td>\n",
              "      <td>12.666877</td>\n",
              "      <td>101.860838</td>\n",
              "      <td>2018-06-02 12:37:27.331</td>\n",
              "    </tr>\n",
              "    <tr>\n",
              "      <th>4</th>\n",
              "      <td>4</td>\n",
              "      <td>6870dc3a-5602-44fc-80ed-df0a7783df9d</td>\n",
              "      <td>2018-06-02 11:19:22.404</td>\n",
              "      <td>Mozilla/5.0 (iPhone; CPU iPhone OS 11_3_1 like...</td>\n",
              "      <td>NaN</td>\n",
              "      <td>NaN</td>\n",
              "      <td>5pa03h6lj691to60erver1l8o4</td>\n",
              "      <td>14.0</td>\n",
              "      <td>12.237242</td>\n",
              "      <td>99.879998</td>\n",
              "      <td>2018-06-02 11:19:22.404</td>\n",
              "    </tr>\n",
              "    <tr>\n",
              "      <th>...</th>\n",
              "      <td>...</td>\n",
              "      <td>...</td>\n",
              "      <td>...</td>\n",
              "      <td>...</td>\n",
              "      <td>...</td>\n",
              "      <td>...</td>\n",
              "      <td>...</td>\n",
              "      <td>...</td>\n",
              "      <td>...</td>\n",
              "      <td>...</td>\n",
              "      <td>...</td>\n",
              "    </tr>\n",
              "    <tr>\n",
              "      <th>686555</th>\n",
              "      <td>686565</td>\n",
              "      <td>d7bc210e-2a8d-4921-9c29-71611a92f8bb</td>\n",
              "      <td>2018-06-03 11:20:41.815</td>\n",
              "      <td>okhttp/3.9.0;WongnaiAndroid 8.16.5.1;samsung;S...</td>\n",
              "      <td>NaN</td>\n",
              "      <td>26911.0</td>\n",
              "      <td>4jr3c1m7ls80hqan33g79ts528</td>\n",
              "      <td>22.0</td>\n",
              "      <td>13.731042</td>\n",
              "      <td>100.569708</td>\n",
              "      <td>2018-06-03 11:20:41.815</td>\n",
              "    </tr>\n",
              "    <tr>\n",
              "      <th>686556</th>\n",
              "      <td>686566</td>\n",
              "      <td>d76fe631-73d4-4e55-804b-c16d90aa37df</td>\n",
              "      <td>2018-06-03 08:15:22.098</td>\n",
              "      <td>okhttp/3.9.0;WongnaiAndroid 8.16.5.1;samsung;S...</td>\n",
              "      <td>NaN</td>\n",
              "      <td>3493.0</td>\n",
              "      <td>61h6h527lk9ikq2svl289qo480</td>\n",
              "      <td>22.0</td>\n",
              "      <td>12.807533</td>\n",
              "      <td>100.985711</td>\n",
              "      <td>2018-06-03 08:15:22.098</td>\n",
              "    </tr>\n",
              "    <tr>\n",
              "      <th>686557</th>\n",
              "      <td>686567</td>\n",
              "      <td>e01c867c-02cf-4d2c-ba84-5e21a51eb09f</td>\n",
              "      <td>2018-06-03 11:52:10.684</td>\n",
              "      <td>okhttp/3.9.0;WongnaiAndroid 8.16.5.1;samsung;S...</td>\n",
              "      <td>NaN</td>\n",
              "      <td>81160.0</td>\n",
              "      <td>6kfi9a3klh8lhbj703gv0qjpbe</td>\n",
              "      <td>22.0</td>\n",
              "      <td>12.703813</td>\n",
              "      <td>100.890225</td>\n",
              "      <td>2018-06-03 11:52:10.684</td>\n",
              "    </tr>\n",
              "    <tr>\n",
              "      <th>686558</th>\n",
              "      <td>686568</td>\n",
              "      <td>17a614ca-2dc2-467c-8b3a-09c560ae9f6c</td>\n",
              "      <td>2018-06-03 09:20:32.207</td>\n",
              "      <td>okhttp/3.9.0;WongnaiAndroid 8.16.5.1;samsung;S...</td>\n",
              "      <td>NaN</td>\n",
              "      <td>NaN</td>\n",
              "      <td>7q11a5aa2e9c79jj9247hqcf1o</td>\n",
              "      <td>22.0</td>\n",
              "      <td>13.735836</td>\n",
              "      <td>100.584646</td>\n",
              "      <td>2018-06-03 09:20:32.207</td>\n",
              "    </tr>\n",
              "    <tr>\n",
              "      <th>686559</th>\n",
              "      <td>686569</td>\n",
              "      <td>bb0aa846-5fb8-4e2b-a2d2-5f908f13ba1c</td>\n",
              "      <td>2018-06-03 09:55:44.720</td>\n",
              "      <td>NaN</td>\n",
              "      <td>NaN</td>\n",
              "      <td>NaN</td>\n",
              "      <td>NaN</td>\n",
              "      <td>NaN</td>\n",
              "      <td>NaN</td>\n",
              "      <td>NaN</td>\n",
              "      <td>2018-06-03 09:55:44.720</td>\n",
              "    </tr>\n",
              "  </tbody>\n",
              "</table>\n",
              "<p>686560 rows × 11 columns</p>\n",
              "</div>"
            ],
            "text/plain": [
              "        Unnamed: 0  ...         search_timetamp\n",
              "0                0  ... 2018-06-14 12:34:35.449\n",
              "1                1  ... 2018-06-14 17:11:19.469\n",
              "2                2  ... 2018-06-14 13:22:31.736\n",
              "3                3  ... 2018-06-02 12:37:27.331\n",
              "4                4  ... 2018-06-02 11:19:22.404\n",
              "...            ...  ...                     ...\n",
              "686555      686565  ... 2018-06-03 11:20:41.815\n",
              "686556      686566  ... 2018-06-03 08:15:22.098\n",
              "686557      686567  ... 2018-06-03 11:52:10.684\n",
              "686558      686568  ... 2018-06-03 09:20:32.207\n",
              "686559      686569  ... 2018-06-03 09:55:44.720\n",
              "\n",
              "[686560 rows x 11 columns]"
            ]
          },
          "metadata": {
            "tags": []
          },
          "execution_count": 41
        }
      ]
    },
    {
      "cell_type": "code",
      "metadata": {
        "id": "ZAYLO3cyVnFX"
      },
      "source": [
        "import matplotlib.pyplot as plt"
      ],
      "execution_count": 59,
      "outputs": []
    },
    {
      "cell_type": "code",
      "metadata": {
        "colab": {
          "base_uri": "https://localhost:8080/"
        },
        "id": "_MGD8iliNcn1",
        "outputId": "7ff18219-bb27-420b-9f4c-7b3ed31e764f"
      },
      "source": [
        "data[data['search_timestamp'].dt.dayofweek==0].shape[0]"
      ],
      "execution_count": 60,
      "outputs": [
        {
          "output_type": "execute_result",
          "data": {
            "text/plain": [
              "71523"
            ]
          },
          "metadata": {
            "tags": []
          },
          "execution_count": 60
        }
      ]
    },
    {
      "cell_type": "markdown",
      "metadata": {
        "id": "Fy1FbAHNZbGg"
      },
      "source": [
        "https://medium.com/@kanyawee.work/%E0%B9%81%E0%B8%AA%E0%B8%94%E0%B8%87%E0%B8%9C%E0%B8%A5%E0%B8%A0%E0%B8%B2%E0%B8%A9%E0%B8%B2%E0%B9%84%E0%B8%97%E0%B8%A2%E0%B9%83%E0%B8%99%E0%B8%81%E0%B8%A3%E0%B8%B2%E0%B8%9F%E0%B8%82%E0%B8%AD%E0%B8%87-matplotlib-%E0%B8%9A%E0%B8%99-google-colab-37210d9a9f31"
      ]
    },
    {
      "cell_type": "code",
      "metadata": {
        "id": "aUyGijRsXs5w"
      },
      "source": [
        "!wget -q https://github.com/Phonbopit/sarabun-webfont/raw/master/fonts/thsarabunnew-webfont.ttf"
      ],
      "execution_count": 61,
      "outputs": []
    },
    {
      "cell_type": "code",
      "metadata": {
        "id": "1TyRuzEpXsEZ"
      },
      "source": [
        "import matplotlib as mpl\n",
        "mpl.font_manager.fontManager.addfont('thsarabunnew-webfont.ttf')\n",
        "mpl.rc('font', family='TH Sarabun New')"
      ],
      "execution_count": 62,
      "outputs": []
    },
    {
      "cell_type": "code",
      "metadata": {
        "colab": {
          "base_uri": "https://localhost:8080/",
          "height": 295
        },
        "id": "I0EDW7LoSM-p",
        "outputId": "2c220fd8-67f5-45c6-8b06-c1557c13e630"
      },
      "source": [
        "plt.bar([1,2,3,4,5,6,7],[data[data['search_timestamp'].dt.dayofweek == 0].shape[0],\n",
        "                                data[data['search_timestamp'].dt.dayofweek == 1].shape[0],\n",
        "                                data[data['search_timestamp'].dt.dayofweek == 2].shape[0],\n",
        "                                data[data['search_timestamp'].dt.dayofweek == 3].shape[0],\n",
        "                                data[data['search_timestamp'].dt.dayofweek == 4].shape[0],\n",
        "                                data[data['search_timestamp'].dt.dayofweek == 5].shape[0],\n",
        "                                data[data['search_timestamp'].dt.dayofweek == 6].shape[0]],\n",
        "                               tick_label=['Monday','Tuesday','Wendnesday','Thursday','Friday','Saturday','Sunday'])\n",
        "plt.xlabel('Days')\n",
        "plt.ylabel('Number of Requests')\n",
        "plt.title(' กราฟแท่งเปรียบเทียบปริมาณ คนเข้าใช้เพื่อค้นหาร้านอาหาร ในแต่ละวัน');"
      ],
      "execution_count": 64,
      "outputs": [
        {
          "output_type": "display_data",
          "data": {
            "image/png": "[encoded data removed]",
            "text/plain": [
              "<Figure size 432x288 with 1 Axes>"
            ]
          },
          "metadata": {
            "tags": [],
            "needs_background": "light"
          }
        }
      ]
    },
    {
      "cell_type": "code",
      "metadata": {
        "colab": {
          "base_uri": "https://localhost:8080/",
          "height": 198
        },
        "id": "rHXkBY6sTdCb",
        "outputId": "97f90115-7867-4d80-89ed-c52bc12a6cc9"
      },
      "source": [
        "data[(data['search_timestamp'].dt.dayofweek==0)\n",
        " & (data['search_timestamp'].dt.time<time(hour=12))\n",
        " & (data['search_timestamp'].dt.time>=time(hour=11))]"
      ],
      "execution_count": 70,
      "outputs": [
        {
          "output_type": "error",
          "ename": "NameError",
          "evalue": "ignored",
          "traceback": [
            "\u001b[0;31m---------------------------------------------------------------------------\u001b[0m",
            "\u001b[0;31mNameError\u001b[0m                                 Traceback (most recent call last)",
            "\u001b[0;32m<ipython-input-70-68875f4f8860>\u001b[0m in \u001b[0;36m<module>\u001b[0;34m()\u001b[0m\n\u001b[1;32m      1\u001b[0m data[(data['search_timestamp'].dt.dayofweek==0)\n\u001b[1;32m      2\u001b[0m  \u001b[0;34m&\u001b[0m \u001b[0;34m(\u001b[0m\u001b[0mdata\u001b[0m\u001b[0;34m[\u001b[0m\u001b[0;34m'search_timestamp'\u001b[0m\u001b[0;34m]\u001b[0m\u001b[0;34m.\u001b[0m\u001b[0mdt\u001b[0m\u001b[0;34m.\u001b[0m\u001b[0mtime\u001b[0m\u001b[0;34m<\u001b[0m\u001b[0mtime\u001b[0m\u001b[0;34m(\u001b[0m\u001b[0mhour\u001b[0m\u001b[0;34m=\u001b[0m\u001b[0;36m12\u001b[0m\u001b[0;34m)\u001b[0m\u001b[0;34m)\u001b[0m\u001b[0;34m\u001b[0m\u001b[0;34m\u001b[0m\u001b[0m\n\u001b[0;32m----> 3\u001b[0;31m  & (data['search_timestamp'].dt.time>=time(hour=11))]\n\u001b[0m",
            "\u001b[0;31mNameError\u001b[0m: name 'time' is not defined"
          ]
        }
      ]
    },
    {
      "cell_type": "code",
      "metadata": {
        "id": "cztDFPDQaI2z"
      },
      "source": [
        ""
      ],
      "execution_count": null,
      "outputs": []
    }
  ]
}