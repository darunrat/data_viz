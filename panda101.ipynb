{
  "nbformat": 4,
  "nbformat_minor": 0,
  "metadata": {
    "colab": {
      "name": "panda101.ipynb",
      "provenance": [],
      "authorship_tag": "ABX9TyMqMuZqsuLsIgUsBse3aVKr",
      "include_colab_link": true
    },
    "kernelspec": {
      "name": "python3",
      "display_name": "Python 3"
    }
  },
  "cells": [
    {
      "cell_type": "markdown",
      "metadata": {
        "id": "view-in-github",
        "colab_type": "text"
      },
      "source": [
        "<a href=\"https://colab.research.google.com/github/darunrat/data_viz/blob/main/panda101.ipynb\" target=\"_parent\"><img src=\"https://colab.research.google.com/assets/colab-badge.svg\" alt=\"Open In Colab\"/></a>"
      ]
    },
    {
      "cell_type": "code",
      "metadata": {
        "id": "DgctoWbImBT_"
      },
      "source": [
        "import pandas as pd"
      ],
      "execution_count": 1,
      "outputs": []
    },
    {
      "cell_type": "code",
      "metadata": {
        "colab": {
          "base_uri": "https://localhost:8080/"
        },
        "id": "k4d2VS__m7li",
        "outputId": "22d7fc8d-8e1c-44a7-80d1-134a448e43b6"
      },
      "source": [
        "from google.colab import drive\r\n",
        "drive.mount('/content/drive')"
      ],
      "execution_count": 3,
      "outputs": [
        {
          "output_type": "stream",
          "text": [
            "Drive already mounted at /content/drive; to attempt to forcibly remount, call drive.mount(\"/content/drive\", force_remount=True).\n"
          ],
          "name": "stdout"
        }
      ]
    },
    {
      "cell_type": "code",
      "metadata": {
        "id": "2CJ_d0n2n84x"
      },
      "source": [
        "import os\r\n",
        "path = '/content/drive/My Drive/dataviz_2021'"
      ],
      "execution_count": 4,
      "outputs": []
    },
    {
      "cell_type": "code",
      "metadata": {
        "colab": {
          "base_uri": "https://localhost:8080/"
        },
        "id": "JFyhttUCrOeg",
        "outputId": "ba4c75de-7c55-40c5-a3ee-e2e2f45f7e59"
      },
      "source": [
        "covid_file_path = os.path.join(path,'pm-18-jan-2021.csv')\r\n",
        "print(covid_file_path)"
      ],
      "execution_count": 5,
      "outputs": [
        {
          "output_type": "stream",
          "text": [
            "/content/drive/My Drive/dataviz_2021/pm-18-jan-2021.csv\n"
          ],
          "name": "stdout"
        }
      ]
    },
    {
      "cell_type": "code",
      "metadata": {
        "colab": {
          "base_uri": "https://localhost:8080/"
        },
        "id": "XIoDI6Curo7J",
        "outputId": "32657503-4e99-45aa-a26e-13daafd2813e"
      },
      "source": [
        "a = path + '/pm-18-jan-2021.csv'\r\n",
        "print(a)"
      ],
      "execution_count": 6,
      "outputs": [
        {
          "output_type": "stream",
          "text": [
            "/content/drive/My Drive/dataviz_2021/pm-18-jan-2021.csv\n"
          ],
          "name": "stdout"
        }
      ]
    },
    {
      "cell_type": "markdown",
      "metadata": {
        "id": "D5jRcj5hs8a-"
      },
      "source": [
        "load data to memory"
      ]
    },
    {
      "cell_type": "code",
      "metadata": {
        "colab": {
          "base_uri": "https://localhost:8080/",
          "height": 1000
        },
        "id": "Ayx97ORvr_TY",
        "outputId": "3b6f6e19-ecab-4b46-a630-52f6471cd0b4"
      },
      "source": [
        "data_covid = pd.read_csv(covid_file_path)\r\n",
        "data_covid"
      ],
      "execution_count": 118,
      "outputs": [
        {
          "output_type": "execute_result",
          "data": {
            "text/html": [
              "<div>\n",
              "<style scoped>\n",
              "    .dataframe tbody tr th:only-of-type {\n",
              "        vertical-align: middle;\n",
              "    }\n",
              "\n",
              "    .dataframe tbody tr th {\n",
              "        vertical-align: top;\n",
              "    }\n",
              "\n",
              "    .dataframe thead th {\n",
              "        text-align: right;\n",
              "    }\n",
              "</style>\n",
              "<table border=\"1\" class=\"dataframe\">\n",
              "  <thead>\n",
              "    <tr style=\"text-align: right;\">\n",
              "      <th></th>\n",
              "      <th>No.</th>\n",
              "      <th>announce_date</th>\n",
              "      <th>notification_date</th>\n",
              "      <th>sex</th>\n",
              "      <th>age</th>\n",
              "      <th>nationality</th>\n",
              "      <th>province_of_isolation</th>\n",
              "      <th>province_of_onset</th>\n",
              "      <th>district_of_onset</th>\n",
              "      <th>risk</th>\n",
              "    </tr>\n",
              "  </thead>\n",
              "  <tbody>\n",
              "    <tr>\n",
              "      <th>0</th>\n",
              "      <td>1</td>\n",
              "      <td>1/12/2020</td>\n",
              "      <td>NaN</td>\n",
              "      <td>หญิง</td>\n",
              "      <td>61.0</td>\n",
              "      <td>China</td>\n",
              "      <td>กรุงเทพมหานคร</td>\n",
              "      <td>กรุงเทพมหานคร</td>\n",
              "      <td>NaN</td>\n",
              "      <td>คนต่างชาติเดินทางมาจากต่างประเทศ</td>\n",
              "    </tr>\n",
              "    <tr>\n",
              "      <th>1</th>\n",
              "      <td>2</td>\n",
              "      <td>1/17/2020</td>\n",
              "      <td>NaN</td>\n",
              "      <td>หญิง</td>\n",
              "      <td>74.0</td>\n",
              "      <td>China</td>\n",
              "      <td>กรุงเทพมหานคร</td>\n",
              "      <td>กรุงเทพมหานคร</td>\n",
              "      <td>NaN</td>\n",
              "      <td>คนต่างชาติเดินทางมาจากต่างประเทศ</td>\n",
              "    </tr>\n",
              "    <tr>\n",
              "      <th>2</th>\n",
              "      <td>3</td>\n",
              "      <td>1/22/2020</td>\n",
              "      <td>NaN</td>\n",
              "      <td>หญิง</td>\n",
              "      <td>73.0</td>\n",
              "      <td>Thailand</td>\n",
              "      <td>นครปฐม</td>\n",
              "      <td>นครปฐม</td>\n",
              "      <td>เมือง</td>\n",
              "      <td>คนต่างชาติเดินทางมาจากต่างประเทศ</td>\n",
              "    </tr>\n",
              "    <tr>\n",
              "      <th>3</th>\n",
              "      <td>4</td>\n",
              "      <td>1/22/2020</td>\n",
              "      <td>NaN</td>\n",
              "      <td>ชาย</td>\n",
              "      <td>68.0</td>\n",
              "      <td>China</td>\n",
              "      <td>กรุงเทพมหานคร</td>\n",
              "      <td>กรุงเทพมหานคร</td>\n",
              "      <td>NaN</td>\n",
              "      <td>คนต่างชาติเดินทางมาจากต่างประเทศ</td>\n",
              "    </tr>\n",
              "    <tr>\n",
              "      <th>4</th>\n",
              "      <td>5</td>\n",
              "      <td>1/24/2020</td>\n",
              "      <td>NaN</td>\n",
              "      <td>หญิง</td>\n",
              "      <td>66.0</td>\n",
              "      <td>China</td>\n",
              "      <td>นนทบุรี</td>\n",
              "      <td>กรุงเทพมหานคร</td>\n",
              "      <td>NaN</td>\n",
              "      <td>คนต่างชาติเดินทางมาจากต่างประเทศ</td>\n",
              "    </tr>\n",
              "    <tr>\n",
              "      <th>...</th>\n",
              "      <td>...</td>\n",
              "      <td>...</td>\n",
              "      <td>...</td>\n",
              "      <td>...</td>\n",
              "      <td>...</td>\n",
              "      <td>...</td>\n",
              "      <td>...</td>\n",
              "      <td>...</td>\n",
              "      <td>...</td>\n",
              "      <td>...</td>\n",
              "    </tr>\n",
              "    <tr>\n",
              "      <th>12418</th>\n",
              "      <td>12419</td>\n",
              "      <td>1/18/2021</td>\n",
              "      <td>1/17/2021</td>\n",
              "      <td>หญิง</td>\n",
              "      <td>28.0</td>\n",
              "      <td>Thailand</td>\n",
              "      <td>สมุทรปราการ</td>\n",
              "      <td>สมุทรปราการ</td>\n",
              "      <td>เมือง</td>\n",
              "      <td>สถานบันเทิง</td>\n",
              "    </tr>\n",
              "    <tr>\n",
              "      <th>12419</th>\n",
              "      <td>12420</td>\n",
              "      <td>1/18/2021</td>\n",
              "      <td>1/17/2021</td>\n",
              "      <td>หญิง</td>\n",
              "      <td>27.0</td>\n",
              "      <td>Thailand</td>\n",
              "      <td>สมุทรปราการ</td>\n",
              "      <td>สมุทรปราการ</td>\n",
              "      <td>เมือง</td>\n",
              "      <td>สัมผัสใกล้ชิดกับผู้ป่วยยืนยันรายก่อนหน้านี้</td>\n",
              "    </tr>\n",
              "    <tr>\n",
              "      <th>12420</th>\n",
              "      <td>12421</td>\n",
              "      <td>1/18/2021</td>\n",
              "      <td>1/17/2021</td>\n",
              "      <td>ชาย</td>\n",
              "      <td>10.0</td>\n",
              "      <td>Thailand</td>\n",
              "      <td>ชลบุรี</td>\n",
              "      <td>ชลบุรี</td>\n",
              "      <td>สัตหีบ</td>\n",
              "      <td>สัมผัสใกล้ชิดกับผู้ป่วยยืนยันรายก่อนหน้านี้</td>\n",
              "    </tr>\n",
              "    <tr>\n",
              "      <th>12421</th>\n",
              "      <td>12422</td>\n",
              "      <td>1/18/2021</td>\n",
              "      <td>1/17/2021</td>\n",
              "      <td>ชาย</td>\n",
              "      <td>52.0</td>\n",
              "      <td>Thailand</td>\n",
              "      <td>ชลบุรี</td>\n",
              "      <td>ชลบุรี</td>\n",
              "      <td>ศรีราชา</td>\n",
              "      <td>Cluster ชลบุรี โรงเบียร์ 90</td>\n",
              "    </tr>\n",
              "    <tr>\n",
              "      <th>12422</th>\n",
              "      <td>12423</td>\n",
              "      <td>1/18/2021</td>\n",
              "      <td>1/17/2021</td>\n",
              "      <td>ชาย</td>\n",
              "      <td>51.0</td>\n",
              "      <td>Thailand</td>\n",
              "      <td>ระยอง</td>\n",
              "      <td>ระยอง</td>\n",
              "      <td>แกลง</td>\n",
              "      <td>สัมผัสใกล้ชิดกับผู้ป่วยยืนยันรายก่อนหน้านี้</td>\n",
              "    </tr>\n",
              "  </tbody>\n",
              "</table>\n",
              "<p>12423 rows × 10 columns</p>\n",
              "</div>"
            ],
            "text/plain": [
              "         No.  ...                                         risk\n",
              "0          1  ...             คนต่างชาติเดินทางมาจากต่างประเทศ\n",
              "1          2  ...             คนต่างชาติเดินทางมาจากต่างประเทศ\n",
              "2          3  ...             คนต่างชาติเดินทางมาจากต่างประเทศ\n",
              "3          4  ...             คนต่างชาติเดินทางมาจากต่างประเทศ\n",
              "4          5  ...             คนต่างชาติเดินทางมาจากต่างประเทศ\n",
              "...      ...  ...                                          ...\n",
              "12418  12419  ...                                  สถานบันเทิง\n",
              "12419  12420  ...  สัมผัสใกล้ชิดกับผู้ป่วยยืนยันรายก่อนหน้านี้\n",
              "12420  12421  ...  สัมผัสใกล้ชิดกับผู้ป่วยยืนยันรายก่อนหน้านี้\n",
              "12421  12422  ...                  Cluster ชลบุรี โรงเบียร์ 90\n",
              "12422  12423  ...  สัมผัสใกล้ชิดกับผู้ป่วยยืนยันรายก่อนหน้านี้\n",
              "\n",
              "[12423 rows x 10 columns]"
            ]
          },
          "metadata": {
            "tags": []
          },
          "execution_count": 118
        }
      ]
    },
    {
      "cell_type": "code",
      "metadata": {
        "colab": {
          "base_uri": "https://localhost:8080/",
          "height": 734
        },
        "id": "f_2SBPoRtPzD",
        "outputId": "88fb68d2-4469-4176-b5eb-3d6ce7f2a0b7"
      },
      "source": [
        "data_covid.head()"
      ],
      "execution_count": 119,
      "outputs": [
        {
          "output_type": "execute_result",
          "data": {
            "text/html": [
              "<div>\n",
              "<style scoped>\n",
              "    .dataframe tbody tr th:only-of-type {\n",
              "        vertical-align: middle;\n",
              "    }\n",
              "\n",
              "    .dataframe tbody tr th {\n",
              "        vertical-align: top;\n",
              "    }\n",
              "\n",
              "    .dataframe thead th {\n",
              "        text-align: right;\n",
              "    }\n",
              "</style>\n",
              "<table border=\"1\" class=\"dataframe\">\n",
              "  <thead>\n",
              "    <tr style=\"text-align: right;\">\n",
              "      <th></th>\n",
              "      <th>No.</th>\n",
              "      <th>announce_date</th>\n",
              "      <th>notification_date</th>\n",
              "      <th>sex</th>\n",
              "      <th>age</th>\n",
              "      <th>nationality</th>\n",
              "      <th>province_of_isolation</th>\n",
              "      <th>province_of_onset</th>\n",
              "      <th>district_of_onset</th>\n",
              "      <th>risk</th>\n",
              "    </tr>\n",
              "  </thead>\n",
              "  <tbody>\n",
              "    <tr>\n",
              "      <th>0</th>\n",
              "      <td>1</td>\n",
              "      <td>1/12/2020</td>\n",
              "      <td>NaN</td>\n",
              "      <td>หญิง</td>\n",
              "      <td>61.0</td>\n",
              "      <td>China</td>\n",
              "      <td>กรุงเทพมหานคร</td>\n",
              "      <td>กรุงเทพมหานคร</td>\n",
              "      <td>NaN</td>\n",
              "      <td>คนต่างชาติเดินทางมาจากต่างประเทศ</td>\n",
              "    </tr>\n",
              "    <tr>\n",
              "      <th>1</th>\n",
              "      <td>2</td>\n",
              "      <td>1/17/2020</td>\n",
              "      <td>NaN</td>\n",
              "      <td>หญิง</td>\n",
              "      <td>74.0</td>\n",
              "      <td>China</td>\n",
              "      <td>กรุงเทพมหานคร</td>\n",
              "      <td>กรุงเทพมหานคร</td>\n",
              "      <td>NaN</td>\n",
              "      <td>คนต่างชาติเดินทางมาจากต่างประเทศ</td>\n",
              "    </tr>\n",
              "    <tr>\n",
              "      <th>2</th>\n",
              "      <td>3</td>\n",
              "      <td>1/22/2020</td>\n",
              "      <td>NaN</td>\n",
              "      <td>หญิง</td>\n",
              "      <td>73.0</td>\n",
              "      <td>Thailand</td>\n",
              "      <td>นครปฐม</td>\n",
              "      <td>นครปฐม</td>\n",
              "      <td>เมือง</td>\n",
              "      <td>คนต่างชาติเดินทางมาจากต่างประเทศ</td>\n",
              "    </tr>\n",
              "    <tr>\n",
              "      <th>3</th>\n",
              "      <td>4</td>\n",
              "      <td>1/22/2020</td>\n",
              "      <td>NaN</td>\n",
              "      <td>ชาย</td>\n",
              "      <td>68.0</td>\n",
              "      <td>China</td>\n",
              "      <td>กรุงเทพมหานคร</td>\n",
              "      <td>กรุงเทพมหานคร</td>\n",
              "      <td>NaN</td>\n",
              "      <td>คนต่างชาติเดินทางมาจากต่างประเทศ</td>\n",
              "    </tr>\n",
              "    <tr>\n",
              "      <th>4</th>\n",
              "      <td>5</td>\n",
              "      <td>1/24/2020</td>\n",
              "      <td>NaN</td>\n",
              "      <td>หญิง</td>\n",
              "      <td>66.0</td>\n",
              "      <td>China</td>\n",
              "      <td>นนทบุรี</td>\n",
              "      <td>กรุงเทพมหานคร</td>\n",
              "      <td>NaN</td>\n",
              "      <td>คนต่างชาติเดินทางมาจากต่างประเทศ</td>\n",
              "    </tr>\n",
              "  </tbody>\n",
              "</table>\n",
              "</div>"
            ],
            "text/plain": [
              "   No. announce_date  ... district_of_onset                              risk\n",
              "0    1     1/12/2020  ...               NaN  คนต่างชาติเดินทางมาจากต่างประเทศ\n",
              "1    2     1/17/2020  ...               NaN  คนต่างชาติเดินทางมาจากต่างประเทศ\n",
              "2    3     1/22/2020  ...             เมือง  คนต่างชาติเดินทางมาจากต่างประเทศ\n",
              "3    4     1/22/2020  ...               NaN  คนต่างชาติเดินทางมาจากต่างประเทศ\n",
              "4    5     1/24/2020  ...               NaN  คนต่างชาติเดินทางมาจากต่างประเทศ\n",
              "\n",
              "[5 rows x 10 columns]"
            ]
          },
          "metadata": {
            "tags": []
          },
          "execution_count": 119
        }
      ]
    },
    {
      "cell_type": "code",
      "metadata": {
        "colab": {
          "base_uri": "https://localhost:8080/"
        },
        "id": "G_mddv2Eyhnz",
        "outputId": "c7b3ce1e-3908-4a2b-b5bd-d3f51bfea983"
      },
      "source": [
        "data_covid.shape"
      ],
      "execution_count": 9,
      "outputs": [
        {
          "output_type": "execute_result",
          "data": {
            "text/plain": [
              "(12423, 10)"
            ]
          },
          "metadata": {
            "tags": []
          },
          "execution_count": 9
        }
      ]
    },
    {
      "cell_type": "markdown",
      "metadata": {
        "id": "AVx_x9gqzOnZ"
      },
      "source": [
        "# ชี้ค่าในตาราง"
      ]
    },
    {
      "cell_type": "code",
      "metadata": {
        "colab": {
          "base_uri": "https://localhost:8080/"
        },
        "id": "IGdoj6G6ytTE",
        "outputId": "f28f2b5b-5be6-47ee-8ed4-1fa23837e4b6"
      },
      "source": [
        "data_covid['province_of_onset']"
      ],
      "execution_count": 10,
      "outputs": [
        {
          "output_type": "execute_result",
          "data": {
            "text/plain": [
              "0        กรุงเทพมหานคร\n",
              "1        กรุงเทพมหานคร\n",
              "2               นครปฐม\n",
              "3        กรุงเทพมหานคร\n",
              "4        กรุงเทพมหานคร\n",
              "             ...      \n",
              "12418      สมุทรปราการ\n",
              "12419      สมุทรปราการ\n",
              "12420           ชลบุรี\n",
              "12421           ชลบุรี\n",
              "12422            ระยอง\n",
              "Name: province_of_onset, Length: 12423, dtype: object"
            ]
          },
          "metadata": {
            "tags": []
          },
          "execution_count": 10
        }
      ]
    },
    {
      "cell_type": "code",
      "metadata": {
        "colab": {
          "base_uri": "https://localhost:8080/",
          "height": 34
        },
        "id": "fTr-NY39zkHl",
        "outputId": "e24f07d2-3fb8-4af5-a371-ad25603421b8"
      },
      "source": [
        "data_covid['province_of_onset'][4]"
      ],
      "execution_count": 11,
      "outputs": [
        {
          "output_type": "execute_result",
          "data": {
            "application/vnd.google.colaboratory.intrinsic+json": {
              "type": "string"
            },
            "text/plain": [
              "'กรุงเทพมหานคร'"
            ]
          },
          "metadata": {
            "tags": []
          },
          "execution_count": 11
        }
      ]
    },
    {
      "cell_type": "markdown",
      "metadata": {
        "id": "3zUFQqs70E0y"
      },
      "source": [
        "#### .iloc"
      ]
    },
    {
      "cell_type": "code",
      "metadata": {
        "colab": {
          "base_uri": "https://localhost:8080/",
          "height": 34
        },
        "id": "SLZBIE990DLc",
        "outputId": "b0b1fc42-a78a-4b0a-f6a4-c35c2c15f24c"
      },
      "source": [
        "data_covid.iloc[4,7]"
      ],
      "execution_count": 12,
      "outputs": [
        {
          "output_type": "execute_result",
          "data": {
            "application/vnd.google.colaboratory.intrinsic+json": {
              "type": "string"
            },
            "text/plain": [
              "'กรุงเทพมหานคร'"
            ]
          },
          "metadata": {
            "tags": []
          },
          "execution_count": 12
        }
      ]
    },
    {
      "cell_type": "markdown",
      "metadata": {
        "id": "_8CcSnCt00v4"
      },
      "source": [
        "## Table slicing"
      ]
    },
    {
      "cell_type": "markdown",
      "metadata": {
        "id": "rIu4w5vb09yY"
      },
      "source": [
        "#### ตัดมาเฉพาะ colum ที่ต้องการ "
      ]
    },
    {
      "cell_type": "code",
      "metadata": {
        "colab": {
          "base_uri": "https://localhost:8080/",
          "height": 419
        },
        "id": "-3ZdLFk_0kum",
        "outputId": "b1148eea-0b8e-456c-a836-85724a37795a"
      },
      "source": [
        "smaller_table = data_covid[['announce_date','province_of_onset','risk']]\r\n",
        "smaller_table"
      ],
      "execution_count": 13,
      "outputs": [
        {
          "output_type": "execute_result",
          "data": {
            "text/html": [
              "<div>\n",
              "<style scoped>\n",
              "    .dataframe tbody tr th:only-of-type {\n",
              "        vertical-align: middle;\n",
              "    }\n",
              "\n",
              "    .dataframe tbody tr th {\n",
              "        vertical-align: top;\n",
              "    }\n",
              "\n",
              "    .dataframe thead th {\n",
              "        text-align: right;\n",
              "    }\n",
              "</style>\n",
              "<table border=\"1\" class=\"dataframe\">\n",
              "  <thead>\n",
              "    <tr style=\"text-align: right;\">\n",
              "      <th></th>\n",
              "      <th>announce_date</th>\n",
              "      <th>province_of_onset</th>\n",
              "      <th>risk</th>\n",
              "    </tr>\n",
              "  </thead>\n",
              "  <tbody>\n",
              "    <tr>\n",
              "      <th>0</th>\n",
              "      <td>1/12/2020</td>\n",
              "      <td>กรุงเทพมหานคร</td>\n",
              "      <td>คนต่างชาติเดินทางมาจากต่างประเทศ</td>\n",
              "    </tr>\n",
              "    <tr>\n",
              "      <th>1</th>\n",
              "      <td>1/17/2020</td>\n",
              "      <td>กรุงเทพมหานคร</td>\n",
              "      <td>คนต่างชาติเดินทางมาจากต่างประเทศ</td>\n",
              "    </tr>\n",
              "    <tr>\n",
              "      <th>2</th>\n",
              "      <td>1/22/2020</td>\n",
              "      <td>นครปฐม</td>\n",
              "      <td>คนต่างชาติเดินทางมาจากต่างประเทศ</td>\n",
              "    </tr>\n",
              "    <tr>\n",
              "      <th>3</th>\n",
              "      <td>1/22/2020</td>\n",
              "      <td>กรุงเทพมหานคร</td>\n",
              "      <td>คนต่างชาติเดินทางมาจากต่างประเทศ</td>\n",
              "    </tr>\n",
              "    <tr>\n",
              "      <th>4</th>\n",
              "      <td>1/24/2020</td>\n",
              "      <td>กรุงเทพมหานคร</td>\n",
              "      <td>คนต่างชาติเดินทางมาจากต่างประเทศ</td>\n",
              "    </tr>\n",
              "    <tr>\n",
              "      <th>...</th>\n",
              "      <td>...</td>\n",
              "      <td>...</td>\n",
              "      <td>...</td>\n",
              "    </tr>\n",
              "    <tr>\n",
              "      <th>12418</th>\n",
              "      <td>1/18/2021</td>\n",
              "      <td>สมุทรปราการ</td>\n",
              "      <td>สถานบันเทิง</td>\n",
              "    </tr>\n",
              "    <tr>\n",
              "      <th>12419</th>\n",
              "      <td>1/18/2021</td>\n",
              "      <td>สมุทรปราการ</td>\n",
              "      <td>สัมผัสใกล้ชิดกับผู้ป่วยยืนยันรายก่อนหน้านี้</td>\n",
              "    </tr>\n",
              "    <tr>\n",
              "      <th>12420</th>\n",
              "      <td>1/18/2021</td>\n",
              "      <td>ชลบุรี</td>\n",
              "      <td>สัมผัสใกล้ชิดกับผู้ป่วยยืนยันรายก่อนหน้านี้</td>\n",
              "    </tr>\n",
              "    <tr>\n",
              "      <th>12421</th>\n",
              "      <td>1/18/2021</td>\n",
              "      <td>ชลบุรี</td>\n",
              "      <td>Cluster ชลบุรี โรงเบียร์ 90</td>\n",
              "    </tr>\n",
              "    <tr>\n",
              "      <th>12422</th>\n",
              "      <td>1/18/2021</td>\n",
              "      <td>ระยอง</td>\n",
              "      <td>สัมผัสใกล้ชิดกับผู้ป่วยยืนยันรายก่อนหน้านี้</td>\n",
              "    </tr>\n",
              "  </tbody>\n",
              "</table>\n",
              "<p>12423 rows × 3 columns</p>\n",
              "</div>"
            ],
            "text/plain": [
              "      announce_date  ...                                         risk\n",
              "0         1/12/2020  ...             คนต่างชาติเดินทางมาจากต่างประเทศ\n",
              "1         1/17/2020  ...             คนต่างชาติเดินทางมาจากต่างประเทศ\n",
              "2         1/22/2020  ...             คนต่างชาติเดินทางมาจากต่างประเทศ\n",
              "3         1/22/2020  ...             คนต่างชาติเดินทางมาจากต่างประเทศ\n",
              "4         1/24/2020  ...             คนต่างชาติเดินทางมาจากต่างประเทศ\n",
              "...             ...  ...                                          ...\n",
              "12418     1/18/2021  ...                                  สถานบันเทิง\n",
              "12419     1/18/2021  ...  สัมผัสใกล้ชิดกับผู้ป่วยยืนยันรายก่อนหน้านี้\n",
              "12420     1/18/2021  ...  สัมผัสใกล้ชิดกับผู้ป่วยยืนยันรายก่อนหน้านี้\n",
              "12421     1/18/2021  ...                  Cluster ชลบุรี โรงเบียร์ 90\n",
              "12422     1/18/2021  ...  สัมผัสใกล้ชิดกับผู้ป่วยยืนยันรายก่อนหน้านี้\n",
              "\n",
              "[12423 rows x 3 columns]"
            ]
          },
          "metadata": {
            "tags": []
          },
          "execution_count": 13
        }
      ]
    },
    {
      "cell_type": "markdown",
      "metadata": {
        "id": "Qhtxl9c82JAo"
      },
      "source": [
        "#### ตัดเฉพาะ rows ที่ต้องการ "
      ]
    },
    {
      "cell_type": "markdown",
      "metadata": {
        "id": "c5z2KxYh2Wdx"
      },
      "source": [
        "##### แบบง่าย แต่ใช้การอะไรไม่ค่อยจะได้ (มองเป็น array ตัดแบบ array)"
      ]
    },
    {
      "cell_type": "code",
      "metadata": {
        "colab": {
          "base_uri": "https://localhost:8080/",
          "height": 601
        },
        "id": "yrhCHUME10r7",
        "outputId": "895a1c8c-82a0-4835-dea9-c1f459673dc2"
      },
      "source": [
        "data_covid.iloc[1:5,:]"
      ],
      "execution_count": 14,
      "outputs": [
        {
          "output_type": "execute_result",
          "data": {
            "text/html": [
              "<div>\n",
              "<style scoped>\n",
              "    .dataframe tbody tr th:only-of-type {\n",
              "        vertical-align: middle;\n",
              "    }\n",
              "\n",
              "    .dataframe tbody tr th {\n",
              "        vertical-align: top;\n",
              "    }\n",
              "\n",
              "    .dataframe thead th {\n",
              "        text-align: right;\n",
              "    }\n",
              "</style>\n",
              "<table border=\"1\" class=\"dataframe\">\n",
              "  <thead>\n",
              "    <tr style=\"text-align: right;\">\n",
              "      <th></th>\n",
              "      <th>No.</th>\n",
              "      <th>announce_date</th>\n",
              "      <th>notification_date</th>\n",
              "      <th>sex</th>\n",
              "      <th>age</th>\n",
              "      <th>nationality</th>\n",
              "      <th>province_of_isolation</th>\n",
              "      <th>province_of_onset</th>\n",
              "      <th>district_of_onset</th>\n",
              "      <th>risk</th>\n",
              "    </tr>\n",
              "  </thead>\n",
              "  <tbody>\n",
              "    <tr>\n",
              "      <th>1</th>\n",
              "      <td>2</td>\n",
              "      <td>1/17/2020</td>\n",
              "      <td>NaN</td>\n",
              "      <td>หญิง</td>\n",
              "      <td>74.0</td>\n",
              "      <td>China</td>\n",
              "      <td>กรุงเทพมหานคร</td>\n",
              "      <td>กรุงเทพมหานคร</td>\n",
              "      <td>NaN</td>\n",
              "      <td>คนต่างชาติเดินทางมาจากต่างประเทศ</td>\n",
              "    </tr>\n",
              "    <tr>\n",
              "      <th>2</th>\n",
              "      <td>3</td>\n",
              "      <td>1/22/2020</td>\n",
              "      <td>NaN</td>\n",
              "      <td>หญิง</td>\n",
              "      <td>73.0</td>\n",
              "      <td>Thailand</td>\n",
              "      <td>นครปฐม</td>\n",
              "      <td>นครปฐม</td>\n",
              "      <td>เมือง</td>\n",
              "      <td>คนต่างชาติเดินทางมาจากต่างประเทศ</td>\n",
              "    </tr>\n",
              "    <tr>\n",
              "      <th>3</th>\n",
              "      <td>4</td>\n",
              "      <td>1/22/2020</td>\n",
              "      <td>NaN</td>\n",
              "      <td>ชาย</td>\n",
              "      <td>68.0</td>\n",
              "      <td>China</td>\n",
              "      <td>กรุงเทพมหานคร</td>\n",
              "      <td>กรุงเทพมหานคร</td>\n",
              "      <td>NaN</td>\n",
              "      <td>คนต่างชาติเดินทางมาจากต่างประเทศ</td>\n",
              "    </tr>\n",
              "    <tr>\n",
              "      <th>4</th>\n",
              "      <td>5</td>\n",
              "      <td>1/24/2020</td>\n",
              "      <td>NaN</td>\n",
              "      <td>หญิง</td>\n",
              "      <td>66.0</td>\n",
              "      <td>China</td>\n",
              "      <td>นนทบุรี</td>\n",
              "      <td>กรุงเทพมหานคร</td>\n",
              "      <td>NaN</td>\n",
              "      <td>คนต่างชาติเดินทางมาจากต่างประเทศ</td>\n",
              "    </tr>\n",
              "  </tbody>\n",
              "</table>\n",
              "</div>"
            ],
            "text/plain": [
              "   No. announce_date  ... district_of_onset                              risk\n",
              "1    2     1/17/2020  ...               NaN  คนต่างชาติเดินทางมาจากต่างประเทศ\n",
              "2    3     1/22/2020  ...             เมือง  คนต่างชาติเดินทางมาจากต่างประเทศ\n",
              "3    4     1/22/2020  ...               NaN  คนต่างชาติเดินทางมาจากต่างประเทศ\n",
              "4    5     1/24/2020  ...               NaN  คนต่างชาติเดินทางมาจากต่างประเทศ\n",
              "\n",
              "[4 rows x 10 columns]"
            ]
          },
          "metadata": {
            "tags": []
          },
          "execution_count": 14
        }
      ]
    },
    {
      "cell_type": "markdown",
      "metadata": {
        "id": "yMZhBJFo3Jr4"
      },
      "source": [
        "####แบบ advanced แต่ใช้ประโยชน์ได้เยอะกว่า (ตัดแบบใช้  logic query)"
      ]
    },
    {
      "cell_type": "code",
      "metadata": {
        "colab": {
          "base_uri": "https://localhost:8080/",
          "height": 1000
        },
        "id": "64QVFxQi2sT7",
        "outputId": "12a3e07e-9bc8-43f1-f797-681104e2c95a"
      },
      "source": [
        "data_covid[data_covid['province_of_onset'] =='ขอนแก่น']"
      ],
      "execution_count": 15,
      "outputs": [
        {
          "output_type": "execute_result",
          "data": {
            "text/html": [
              "<div>\n",
              "<style scoped>\n",
              "    .dataframe tbody tr th:only-of-type {\n",
              "        vertical-align: middle;\n",
              "    }\n",
              "\n",
              "    .dataframe tbody tr th {\n",
              "        vertical-align: top;\n",
              "    }\n",
              "\n",
              "    .dataframe thead th {\n",
              "        text-align: right;\n",
              "    }\n",
              "</style>\n",
              "<table border=\"1\" class=\"dataframe\">\n",
              "  <thead>\n",
              "    <tr style=\"text-align: right;\">\n",
              "      <th></th>\n",
              "      <th>No.</th>\n",
              "      <th>announce_date</th>\n",
              "      <th>notification_date</th>\n",
              "      <th>sex</th>\n",
              "      <th>age</th>\n",
              "      <th>nationality</th>\n",
              "      <th>province_of_isolation</th>\n",
              "      <th>province_of_onset</th>\n",
              "      <th>district_of_onset</th>\n",
              "      <th>risk</th>\n",
              "    </tr>\n",
              "  </thead>\n",
              "  <tbody>\n",
              "    <tr>\n",
              "      <th>180</th>\n",
              "      <td>181</td>\n",
              "      <td>3/18/2020</td>\n",
              "      <td>3/15/2020</td>\n",
              "      <td>ชาย</td>\n",
              "      <td>33.0</td>\n",
              "      <td>Thailand</td>\n",
              "      <td>ขอนแก่น</td>\n",
              "      <td>ขอนแก่น</td>\n",
              "      <td>เมือง</td>\n",
              "      <td>สนามมวย</td>\n",
              "    </tr>\n",
              "    <tr>\n",
              "      <th>462</th>\n",
              "      <td>463</td>\n",
              "      <td>3/22/2020</td>\n",
              "      <td>3/21/2020</td>\n",
              "      <td>หญิง</td>\n",
              "      <td>36.0</td>\n",
              "      <td>Thailand</td>\n",
              "      <td>ขอนแก่น</td>\n",
              "      <td>ขอนแก่น</td>\n",
              "      <td>เมือง</td>\n",
              "      <td>สัมผัสใกล้ชิดกับผู้ป่วยยืนยันรายก่อนหน้านี้</td>\n",
              "    </tr>\n",
              "    <tr>\n",
              "      <th>1466</th>\n",
              "      <td>1467</td>\n",
              "      <td>3/30/2020</td>\n",
              "      <td>3/26/2020</td>\n",
              "      <td>ชาย</td>\n",
              "      <td>19.0</td>\n",
              "      <td>Thailand</td>\n",
              "      <td>ขอนแก่น</td>\n",
              "      <td>ขอนแก่น</td>\n",
              "      <td>เมือง</td>\n",
              "      <td>คนไทยเดินทางกลับจากต่างประเทศ</td>\n",
              "    </tr>\n",
              "    <tr>\n",
              "      <th>1970</th>\n",
              "      <td>1971</td>\n",
              "      <td>4/3/2020</td>\n",
              "      <td>3/31/2020</td>\n",
              "      <td>หญิง</td>\n",
              "      <td>70.0</td>\n",
              "      <td>Thailand</td>\n",
              "      <td>ขอนแก่น</td>\n",
              "      <td>ขอนแก่น</td>\n",
              "      <td>เมือง</td>\n",
              "      <td>ไปสถานที่ชุมชน เช่น ตลาดนัด สถานที่ท่องเที่ยว</td>\n",
              "    </tr>\n",
              "    <tr>\n",
              "      <th>2637</th>\n",
              "      <td>2638</td>\n",
              "      <td>4/15/2020</td>\n",
              "      <td>4/14/2020</td>\n",
              "      <td>หญิง</td>\n",
              "      <td>63.0</td>\n",
              "      <td>Thailand</td>\n",
              "      <td>ขอนแก่น</td>\n",
              "      <td>ขอนแก่น</td>\n",
              "      <td>น้ำพอง</td>\n",
              "      <td>สัมผัสผู้เดินทางจากต่างประเทศ</td>\n",
              "    </tr>\n",
              "    <tr>\n",
              "      <th>2673</th>\n",
              "      <td>2674</td>\n",
              "      <td>4/17/2020</td>\n",
              "      <td>4/16/2020</td>\n",
              "      <td>ชาย</td>\n",
              "      <td>68.0</td>\n",
              "      <td>Thailand</td>\n",
              "      <td>ขอนแก่น</td>\n",
              "      <td>ขอนแก่น</td>\n",
              "      <td>น้ำพอง</td>\n",
              "      <td>สัมผัสใกล้ชิดกับผู้ป่วยยืนยันรายก่อนหน้านี้</td>\n",
              "    </tr>\n",
              "    <tr>\n",
              "      <th>5948</th>\n",
              "      <td>5949</td>\n",
              "      <td>12/26/2020</td>\n",
              "      <td>12/25/2020</td>\n",
              "      <td>หญิง</td>\n",
              "      <td>32.0</td>\n",
              "      <td>Thailand</td>\n",
              "      <td>ขอนแก่น</td>\n",
              "      <td>ขอนแก่น</td>\n",
              "      <td>แวงใหญ่</td>\n",
              "      <td>Cluster สมุทรสาคร</td>\n",
              "    </tr>\n",
              "    <tr>\n",
              "      <th>6082</th>\n",
              "      <td>6083</td>\n",
              "      <td>12/27/2020</td>\n",
              "      <td>12/26/2020</td>\n",
              "      <td>หญิง</td>\n",
              "      <td>36.0</td>\n",
              "      <td>Thailand</td>\n",
              "      <td>ขอนแก่น</td>\n",
              "      <td>ขอนแก่น</td>\n",
              "      <td>แวงใหญ่</td>\n",
              "      <td>Cluster สมุทรสาคร</td>\n",
              "    </tr>\n",
              "    <tr>\n",
              "      <th>9333</th>\n",
              "      <td>9334</td>\n",
              "      <td>1/7/2021</td>\n",
              "      <td>1/6/2021</td>\n",
              "      <td>ชาย</td>\n",
              "      <td>17.0</td>\n",
              "      <td>Thailand</td>\n",
              "      <td>ขอนแก่น</td>\n",
              "      <td>ขอนแก่น</td>\n",
              "      <td>เมือง</td>\n",
              "      <td>อยู่ระหว่างการสอบสวน</td>\n",
              "    </tr>\n",
              "    <tr>\n",
              "      <th>9334</th>\n",
              "      <td>9335</td>\n",
              "      <td>1/7/2021</td>\n",
              "      <td>1/6/2021</td>\n",
              "      <td>ชาย</td>\n",
              "      <td>20.0</td>\n",
              "      <td>Thailand</td>\n",
              "      <td>ขอนแก่น</td>\n",
              "      <td>ขอนแก่น</td>\n",
              "      <td>เมือง</td>\n",
              "      <td>สัมผัสใกล้ชิดกับผู้ป่วยยืนยันรายก่อนหน้านี้</td>\n",
              "    </tr>\n",
              "    <tr>\n",
              "      <th>10610</th>\n",
              "      <td>10611</td>\n",
              "      <td>1/12/2021</td>\n",
              "      <td>1/11/2021</td>\n",
              "      <td>ชาย</td>\n",
              "      <td>17.0</td>\n",
              "      <td>Thailand</td>\n",
              "      <td>ขอนแก่น</td>\n",
              "      <td>ขอนแก่น</td>\n",
              "      <td>เมือง</td>\n",
              "      <td>สัมผัสใกล้ชิดกับผู้ป่วยยืนยันรายก่อนหน้านี้</td>\n",
              "    </tr>\n",
              "    <tr>\n",
              "      <th>11517</th>\n",
              "      <td>11518</td>\n",
              "      <td>1/16/2021</td>\n",
              "      <td>1/15/2021</td>\n",
              "      <td>ชาย</td>\n",
              "      <td>12.0</td>\n",
              "      <td>Thailand</td>\n",
              "      <td>ขอนแก่น</td>\n",
              "      <td>ขอนแก่น</td>\n",
              "      <td>เมือง</td>\n",
              "      <td>อยู่ระหว่างการสอบสวน</td>\n",
              "    </tr>\n",
              "    <tr>\n",
              "      <th>11697</th>\n",
              "      <td>11698</td>\n",
              "      <td>1/17/2021</td>\n",
              "      <td>1/16/2021</td>\n",
              "      <td>หญิง</td>\n",
              "      <td>17.0</td>\n",
              "      <td>Thailand</td>\n",
              "      <td>ขอนแก่น</td>\n",
              "      <td>ขอนแก่น</td>\n",
              "      <td>เมือง</td>\n",
              "      <td>สัมผัสใกล้ชิดกับผู้ป่วยยืนยันรายก่อนหน้านี้</td>\n",
              "    </tr>\n",
              "    <tr>\n",
              "      <th>11698</th>\n",
              "      <td>11699</td>\n",
              "      <td>1/17/2021</td>\n",
              "      <td>1/16/2021</td>\n",
              "      <td>หญิง</td>\n",
              "      <td>37.0</td>\n",
              "      <td>Thailand</td>\n",
              "      <td>ขอนแก่น</td>\n",
              "      <td>ขอนแก่น</td>\n",
              "      <td>เมือง</td>\n",
              "      <td>สัมผัสใกล้ชิดกับผู้ป่วยยืนยันรายก่อนหน้านี้</td>\n",
              "    </tr>\n",
              "  </tbody>\n",
              "</table>\n",
              "</div>"
            ],
            "text/plain": [
              "         No.  ...                                           risk\n",
              "180      181  ...                                        สนามมวย\n",
              "462      463  ...    สัมผัสใกล้ชิดกับผู้ป่วยยืนยันรายก่อนหน้านี้\n",
              "1466    1467  ...                  คนไทยเดินทางกลับจากต่างประเทศ\n",
              "1970    1971  ...  ไปสถานที่ชุมชน เช่น ตลาดนัด สถานที่ท่องเที่ยว\n",
              "2637    2638  ...                  สัมผัสผู้เดินทางจากต่างประเทศ\n",
              "2673    2674  ...    สัมผัสใกล้ชิดกับผู้ป่วยยืนยันรายก่อนหน้านี้\n",
              "5948    5949  ...                              Cluster สมุทรสาคร\n",
              "6082    6083  ...                              Cluster สมุทรสาคร\n",
              "9333    9334  ...                           อยู่ระหว่างการสอบสวน\n",
              "9334    9335  ...    สัมผัสใกล้ชิดกับผู้ป่วยยืนยันรายก่อนหน้านี้\n",
              "10610  10611  ...    สัมผัสใกล้ชิดกับผู้ป่วยยืนยันรายก่อนหน้านี้\n",
              "11517  11518  ...                           อยู่ระหว่างการสอบสวน\n",
              "11697  11698  ...    สัมผัสใกล้ชิดกับผู้ป่วยยืนยันรายก่อนหน้านี้\n",
              "11698  11699  ...    สัมผัสใกล้ชิดกับผู้ป่วยยืนยันรายก่อนหน้านี้\n",
              "\n",
              "[14 rows x 10 columns]"
            ]
          },
          "metadata": {
            "tags": []
          },
          "execution_count": 15
        }
      ]
    },
    {
      "cell_type": "markdown",
      "metadata": {
        "id": "Gz617hlu35iB"
      },
      "source": [
        "data_covid[x] x สามารถมีค่าที่ใส่เข้าไปได้2แบบ\r\n",
        "\r\n",
        "\r\n",
        "1.   ชื่อ colum\r\n",
        "2.   ใส่ rows ที่ต้องการ (ใส่ list ที่มีขนาดเท่ากับจำนวนแถว แล้วบอกว่าเอาแถวไหนบ้างโดยใช้ logical expression (```True```/```False```))\r\n",
        "\r\n"
      ]
    },
    {
      "cell_type": "code",
      "metadata": {
        "colab": {
          "base_uri": "https://localhost:8080/",
          "height": 1000
        },
        "id": "Dwf_kSs33ohV",
        "outputId": "9d2c5ed7-55f6-4a56-dc2e-ab941f7faffd"
      },
      "source": [
        "eight_rows_covid =data_covid.iloc[:8,:]\r\n",
        "eight_rows_covid"
      ],
      "execution_count": 16,
      "outputs": [
        {
          "output_type": "execute_result",
          "data": {
            "text/html": [
              "<div>\n",
              "<style scoped>\n",
              "    .dataframe tbody tr th:only-of-type {\n",
              "        vertical-align: middle;\n",
              "    }\n",
              "\n",
              "    .dataframe tbody tr th {\n",
              "        vertical-align: top;\n",
              "    }\n",
              "\n",
              "    .dataframe thead th {\n",
              "        text-align: right;\n",
              "    }\n",
              "</style>\n",
              "<table border=\"1\" class=\"dataframe\">\n",
              "  <thead>\n",
              "    <tr style=\"text-align: right;\">\n",
              "      <th></th>\n",
              "      <th>No.</th>\n",
              "      <th>announce_date</th>\n",
              "      <th>notification_date</th>\n",
              "      <th>sex</th>\n",
              "      <th>age</th>\n",
              "      <th>nationality</th>\n",
              "      <th>province_of_isolation</th>\n",
              "      <th>province_of_onset</th>\n",
              "      <th>district_of_onset</th>\n",
              "      <th>risk</th>\n",
              "    </tr>\n",
              "  </thead>\n",
              "  <tbody>\n",
              "    <tr>\n",
              "      <th>0</th>\n",
              "      <td>1</td>\n",
              "      <td>1/12/2020</td>\n",
              "      <td>NaN</td>\n",
              "      <td>หญิง</td>\n",
              "      <td>61.0</td>\n",
              "      <td>China</td>\n",
              "      <td>กรุงเทพมหานคร</td>\n",
              "      <td>กรุงเทพมหานคร</td>\n",
              "      <td>NaN</td>\n",
              "      <td>คนต่างชาติเดินทางมาจากต่างประเทศ</td>\n",
              "    </tr>\n",
              "    <tr>\n",
              "      <th>1</th>\n",
              "      <td>2</td>\n",
              "      <td>1/17/2020</td>\n",
              "      <td>NaN</td>\n",
              "      <td>หญิง</td>\n",
              "      <td>74.0</td>\n",
              "      <td>China</td>\n",
              "      <td>กรุงเทพมหานคร</td>\n",
              "      <td>กรุงเทพมหานคร</td>\n",
              "      <td>NaN</td>\n",
              "      <td>คนต่างชาติเดินทางมาจากต่างประเทศ</td>\n",
              "    </tr>\n",
              "    <tr>\n",
              "      <th>2</th>\n",
              "      <td>3</td>\n",
              "      <td>1/22/2020</td>\n",
              "      <td>NaN</td>\n",
              "      <td>หญิง</td>\n",
              "      <td>73.0</td>\n",
              "      <td>Thailand</td>\n",
              "      <td>นครปฐม</td>\n",
              "      <td>นครปฐม</td>\n",
              "      <td>เมือง</td>\n",
              "      <td>คนต่างชาติเดินทางมาจากต่างประเทศ</td>\n",
              "    </tr>\n",
              "    <tr>\n",
              "      <th>3</th>\n",
              "      <td>4</td>\n",
              "      <td>1/22/2020</td>\n",
              "      <td>NaN</td>\n",
              "      <td>ชาย</td>\n",
              "      <td>68.0</td>\n",
              "      <td>China</td>\n",
              "      <td>กรุงเทพมหานคร</td>\n",
              "      <td>กรุงเทพมหานคร</td>\n",
              "      <td>NaN</td>\n",
              "      <td>คนต่างชาติเดินทางมาจากต่างประเทศ</td>\n",
              "    </tr>\n",
              "    <tr>\n",
              "      <th>4</th>\n",
              "      <td>5</td>\n",
              "      <td>1/24/2020</td>\n",
              "      <td>NaN</td>\n",
              "      <td>หญิง</td>\n",
              "      <td>66.0</td>\n",
              "      <td>China</td>\n",
              "      <td>นนทบุรี</td>\n",
              "      <td>กรุงเทพมหานคร</td>\n",
              "      <td>NaN</td>\n",
              "      <td>คนต่างชาติเดินทางมาจากต่างประเทศ</td>\n",
              "    </tr>\n",
              "    <tr>\n",
              "      <th>5</th>\n",
              "      <td>6</td>\n",
              "      <td>1/25/2020</td>\n",
              "      <td>NaN</td>\n",
              "      <td>หญิง</td>\n",
              "      <td>33.0</td>\n",
              "      <td>China</td>\n",
              "      <td>กรุงเทพมหานคร</td>\n",
              "      <td>กรุงเทพมหานคร</td>\n",
              "      <td>NaN</td>\n",
              "      <td>คนต่างชาติเดินทางมาจากต่างประเทศ</td>\n",
              "    </tr>\n",
              "    <tr>\n",
              "      <th>6</th>\n",
              "      <td>7</td>\n",
              "      <td>1/26/2020</td>\n",
              "      <td>NaN</td>\n",
              "      <td>หญิง</td>\n",
              "      <td>57.0</td>\n",
              "      <td>China</td>\n",
              "      <td>กรุงเทพมหานคร</td>\n",
              "      <td>กรุงเทพมหานคร</td>\n",
              "      <td>NaN</td>\n",
              "      <td>คนต่างชาติเดินทางมาจากต่างประเทศ</td>\n",
              "    </tr>\n",
              "    <tr>\n",
              "      <th>7</th>\n",
              "      <td>8</td>\n",
              "      <td>1/26/2020</td>\n",
              "      <td>NaN</td>\n",
              "      <td>หญิง</td>\n",
              "      <td>73.0</td>\n",
              "      <td>China</td>\n",
              "      <td>ประจวบคีรีขันธ์</td>\n",
              "      <td>ประจวบคีรีขันธ์</td>\n",
              "      <td>หัวหิน</td>\n",
              "      <td>คนต่างชาติเดินทางมาจากต่างประเทศ</td>\n",
              "    </tr>\n",
              "  </tbody>\n",
              "</table>\n",
              "</div>"
            ],
            "text/plain": [
              "   No. announce_date  ... district_of_onset                              risk\n",
              "0    1     1/12/2020  ...               NaN  คนต่างชาติเดินทางมาจากต่างประเทศ\n",
              "1    2     1/17/2020  ...               NaN  คนต่างชาติเดินทางมาจากต่างประเทศ\n",
              "2    3     1/22/2020  ...             เมือง  คนต่างชาติเดินทางมาจากต่างประเทศ\n",
              "3    4     1/22/2020  ...               NaN  คนต่างชาติเดินทางมาจากต่างประเทศ\n",
              "4    5     1/24/2020  ...               NaN  คนต่างชาติเดินทางมาจากต่างประเทศ\n",
              "5    6     1/25/2020  ...               NaN  คนต่างชาติเดินทางมาจากต่างประเทศ\n",
              "6    7     1/26/2020  ...               NaN  คนต่างชาติเดินทางมาจากต่างประเทศ\n",
              "7    8     1/26/2020  ...            หัวหิน  คนต่างชาติเดินทางมาจากต่างประเทศ\n",
              "\n",
              "[8 rows x 10 columns]"
            ]
          },
          "metadata": {
            "tags": []
          },
          "execution_count": 16
        }
      ]
    },
    {
      "cell_type": "code",
      "metadata": {
        "colab": {
          "base_uri": "https://localhost:8080/",
          "height": 601
        },
        "id": "wLtd6sUS5D82",
        "outputId": "0634e444-af68-4fc2-c810-b84a13d1d34c"
      },
      "source": [
        "eight_rows_covid[[True,False,True,True,False,True,False,False]]"
      ],
      "execution_count": 17,
      "outputs": [
        {
          "output_type": "execute_result",
          "data": {
            "text/html": [
              "<div>\n",
              "<style scoped>\n",
              "    .dataframe tbody tr th:only-of-type {\n",
              "        vertical-align: middle;\n",
              "    }\n",
              "\n",
              "    .dataframe tbody tr th {\n",
              "        vertical-align: top;\n",
              "    }\n",
              "\n",
              "    .dataframe thead th {\n",
              "        text-align: right;\n",
              "    }\n",
              "</style>\n",
              "<table border=\"1\" class=\"dataframe\">\n",
              "  <thead>\n",
              "    <tr style=\"text-align: right;\">\n",
              "      <th></th>\n",
              "      <th>No.</th>\n",
              "      <th>announce_date</th>\n",
              "      <th>notification_date</th>\n",
              "      <th>sex</th>\n",
              "      <th>age</th>\n",
              "      <th>nationality</th>\n",
              "      <th>province_of_isolation</th>\n",
              "      <th>province_of_onset</th>\n",
              "      <th>district_of_onset</th>\n",
              "      <th>risk</th>\n",
              "    </tr>\n",
              "  </thead>\n",
              "  <tbody>\n",
              "    <tr>\n",
              "      <th>0</th>\n",
              "      <td>1</td>\n",
              "      <td>1/12/2020</td>\n",
              "      <td>NaN</td>\n",
              "      <td>หญิง</td>\n",
              "      <td>61.0</td>\n",
              "      <td>China</td>\n",
              "      <td>กรุงเทพมหานคร</td>\n",
              "      <td>กรุงเทพมหานคร</td>\n",
              "      <td>NaN</td>\n",
              "      <td>คนต่างชาติเดินทางมาจากต่างประเทศ</td>\n",
              "    </tr>\n",
              "    <tr>\n",
              "      <th>2</th>\n",
              "      <td>3</td>\n",
              "      <td>1/22/2020</td>\n",
              "      <td>NaN</td>\n",
              "      <td>หญิง</td>\n",
              "      <td>73.0</td>\n",
              "      <td>Thailand</td>\n",
              "      <td>นครปฐม</td>\n",
              "      <td>นครปฐม</td>\n",
              "      <td>เมือง</td>\n",
              "      <td>คนต่างชาติเดินทางมาจากต่างประเทศ</td>\n",
              "    </tr>\n",
              "    <tr>\n",
              "      <th>3</th>\n",
              "      <td>4</td>\n",
              "      <td>1/22/2020</td>\n",
              "      <td>NaN</td>\n",
              "      <td>ชาย</td>\n",
              "      <td>68.0</td>\n",
              "      <td>China</td>\n",
              "      <td>กรุงเทพมหานคร</td>\n",
              "      <td>กรุงเทพมหานคร</td>\n",
              "      <td>NaN</td>\n",
              "      <td>คนต่างชาติเดินทางมาจากต่างประเทศ</td>\n",
              "    </tr>\n",
              "    <tr>\n",
              "      <th>5</th>\n",
              "      <td>6</td>\n",
              "      <td>1/25/2020</td>\n",
              "      <td>NaN</td>\n",
              "      <td>หญิง</td>\n",
              "      <td>33.0</td>\n",
              "      <td>China</td>\n",
              "      <td>กรุงเทพมหานคร</td>\n",
              "      <td>กรุงเทพมหานคร</td>\n",
              "      <td>NaN</td>\n",
              "      <td>คนต่างชาติเดินทางมาจากต่างประเทศ</td>\n",
              "    </tr>\n",
              "  </tbody>\n",
              "</table>\n",
              "</div>"
            ],
            "text/plain": [
              "   No. announce_date  ... district_of_onset                              risk\n",
              "0    1     1/12/2020  ...               NaN  คนต่างชาติเดินทางมาจากต่างประเทศ\n",
              "2    3     1/22/2020  ...             เมือง  คนต่างชาติเดินทางมาจากต่างประเทศ\n",
              "3    4     1/22/2020  ...               NaN  คนต่างชาติเดินทางมาจากต่างประเทศ\n",
              "5    6     1/25/2020  ...               NaN  คนต่างชาติเดินทางมาจากต่างประเทศ\n",
              "\n",
              "[4 rows x 10 columns]"
            ]
          },
          "metadata": {
            "tags": []
          },
          "execution_count": 17
        }
      ]
    },
    {
      "cell_type": "code",
      "metadata": {
        "colab": {
          "base_uri": "https://localhost:8080/"
        },
        "id": "psKWdZjU5da_",
        "outputId": "3c8abdd2-3726-48f1-f9ad-612d27c73100"
      },
      "source": [
        "eight_rows_covid['province_of_onset'] =='กรุงเทพมหานคร' #สร้าง list ของ logical expression"
      ],
      "execution_count": 18,
      "outputs": [
        {
          "output_type": "execute_result",
          "data": {
            "text/plain": [
              "0     True\n",
              "1     True\n",
              "2    False\n",
              "3     True\n",
              "4     True\n",
              "5     True\n",
              "6     True\n",
              "7    False\n",
              "Name: province_of_onset, dtype: bool"
            ]
          },
          "metadata": {
            "tags": []
          },
          "execution_count": 18
        }
      ]
    },
    {
      "cell_type": "code",
      "metadata": {
        "colab": {
          "base_uri": "https://localhost:8080/",
          "height": 867
        },
        "id": "kMJv09y-6O0B",
        "outputId": "cb578c94-326d-4c29-d940-fa2c4340150a"
      },
      "source": [
        "eight_rows_covid[eight_rows_covid['province_of_onset'] =='กรุงเทพมหานคร'] #เราเอา2บรรทัดบนมารวมกัน"
      ],
      "execution_count": 19,
      "outputs": [
        {
          "output_type": "execute_result",
          "data": {
            "text/html": [
              "<div>\n",
              "<style scoped>\n",
              "    .dataframe tbody tr th:only-of-type {\n",
              "        vertical-align: middle;\n",
              "    }\n",
              "\n",
              "    .dataframe tbody tr th {\n",
              "        vertical-align: top;\n",
              "    }\n",
              "\n",
              "    .dataframe thead th {\n",
              "        text-align: right;\n",
              "    }\n",
              "</style>\n",
              "<table border=\"1\" class=\"dataframe\">\n",
              "  <thead>\n",
              "    <tr style=\"text-align: right;\">\n",
              "      <th></th>\n",
              "      <th>No.</th>\n",
              "      <th>announce_date</th>\n",
              "      <th>notification_date</th>\n",
              "      <th>sex</th>\n",
              "      <th>age</th>\n",
              "      <th>nationality</th>\n",
              "      <th>province_of_isolation</th>\n",
              "      <th>province_of_onset</th>\n",
              "      <th>district_of_onset</th>\n",
              "      <th>risk</th>\n",
              "    </tr>\n",
              "  </thead>\n",
              "  <tbody>\n",
              "    <tr>\n",
              "      <th>0</th>\n",
              "      <td>1</td>\n",
              "      <td>1/12/2020</td>\n",
              "      <td>NaN</td>\n",
              "      <td>หญิง</td>\n",
              "      <td>61.0</td>\n",
              "      <td>China</td>\n",
              "      <td>กรุงเทพมหานคร</td>\n",
              "      <td>กรุงเทพมหานคร</td>\n",
              "      <td>NaN</td>\n",
              "      <td>คนต่างชาติเดินทางมาจากต่างประเทศ</td>\n",
              "    </tr>\n",
              "    <tr>\n",
              "      <th>1</th>\n",
              "      <td>2</td>\n",
              "      <td>1/17/2020</td>\n",
              "      <td>NaN</td>\n",
              "      <td>หญิง</td>\n",
              "      <td>74.0</td>\n",
              "      <td>China</td>\n",
              "      <td>กรุงเทพมหานคร</td>\n",
              "      <td>กรุงเทพมหานคร</td>\n",
              "      <td>NaN</td>\n",
              "      <td>คนต่างชาติเดินทางมาจากต่างประเทศ</td>\n",
              "    </tr>\n",
              "    <tr>\n",
              "      <th>3</th>\n",
              "      <td>4</td>\n",
              "      <td>1/22/2020</td>\n",
              "      <td>NaN</td>\n",
              "      <td>ชาย</td>\n",
              "      <td>68.0</td>\n",
              "      <td>China</td>\n",
              "      <td>กรุงเทพมหานคร</td>\n",
              "      <td>กรุงเทพมหานคร</td>\n",
              "      <td>NaN</td>\n",
              "      <td>คนต่างชาติเดินทางมาจากต่างประเทศ</td>\n",
              "    </tr>\n",
              "    <tr>\n",
              "      <th>4</th>\n",
              "      <td>5</td>\n",
              "      <td>1/24/2020</td>\n",
              "      <td>NaN</td>\n",
              "      <td>หญิง</td>\n",
              "      <td>66.0</td>\n",
              "      <td>China</td>\n",
              "      <td>นนทบุรี</td>\n",
              "      <td>กรุงเทพมหานคร</td>\n",
              "      <td>NaN</td>\n",
              "      <td>คนต่างชาติเดินทางมาจากต่างประเทศ</td>\n",
              "    </tr>\n",
              "    <tr>\n",
              "      <th>5</th>\n",
              "      <td>6</td>\n",
              "      <td>1/25/2020</td>\n",
              "      <td>NaN</td>\n",
              "      <td>หญิง</td>\n",
              "      <td>33.0</td>\n",
              "      <td>China</td>\n",
              "      <td>กรุงเทพมหานคร</td>\n",
              "      <td>กรุงเทพมหานคร</td>\n",
              "      <td>NaN</td>\n",
              "      <td>คนต่างชาติเดินทางมาจากต่างประเทศ</td>\n",
              "    </tr>\n",
              "    <tr>\n",
              "      <th>6</th>\n",
              "      <td>7</td>\n",
              "      <td>1/26/2020</td>\n",
              "      <td>NaN</td>\n",
              "      <td>หญิง</td>\n",
              "      <td>57.0</td>\n",
              "      <td>China</td>\n",
              "      <td>กรุงเทพมหานคร</td>\n",
              "      <td>กรุงเทพมหานคร</td>\n",
              "      <td>NaN</td>\n",
              "      <td>คนต่างชาติเดินทางมาจากต่างประเทศ</td>\n",
              "    </tr>\n",
              "  </tbody>\n",
              "</table>\n",
              "</div>"
            ],
            "text/plain": [
              "   No. announce_date  ... district_of_onset                              risk\n",
              "0    1     1/12/2020  ...               NaN  คนต่างชาติเดินทางมาจากต่างประเทศ\n",
              "1    2     1/17/2020  ...               NaN  คนต่างชาติเดินทางมาจากต่างประเทศ\n",
              "3    4     1/22/2020  ...               NaN  คนต่างชาติเดินทางมาจากต่างประเทศ\n",
              "4    5     1/24/2020  ...               NaN  คนต่างชาติเดินทางมาจากต่างประเทศ\n",
              "5    6     1/25/2020  ...               NaN  คนต่างชาติเดินทางมาจากต่างประเทศ\n",
              "6    7     1/26/2020  ...               NaN  คนต่างชาติเดินทางมาจากต่างประเทศ\n",
              "\n",
              "[6 rows x 10 columns]"
            ]
          },
          "metadata": {
            "tags": []
          },
          "execution_count": 19
        }
      ]
    },
    {
      "cell_type": "code",
      "metadata": {
        "id": "t1o4AfRH6psR"
      },
      "source": [
        ""
      ],
      "execution_count": 19,
      "outputs": []
    },
    {
      "cell_type": "markdown",
      "metadata": {
        "id": "SJVTUBFO8Ajn"
      },
      "source": [
        "HW6 (ให้ใช้เฉพาะที่อาจาร์ยสอนไปแล้วในวิชานี้)\r\n",
        "1. คำนวณ อายุเฉลี่ย ของผู้หญิงและผู้ชาย ของข้อมูลทั้งหมด\r\n",
        "2. คำนวณ อายุเฉลี่ย  ของผู้หญิงและผู้ชาย ของผู้ป่วยในจังหวัดขอนแก่น"
      ]
    },
    {
      "cell_type": "code",
      "metadata": {
        "id": "D40KKDy8MHGo"
      },
      "source": [
        ""
      ],
      "execution_count": 19,
      "outputs": []
    },
    {
      "cell_type": "markdown",
      "metadata": {
        "id": "NKPXcBCYDXS9"
      },
      "source": [
        "## ข้อ1"
      ]
    },
    {
      "cell_type": "code",
      "metadata": {
        "colab": {
          "base_uri": "https://localhost:8080/"
        },
        "id": "WLOMju7Ky5HL",
        "outputId": "addaeca3-cc5b-4135-e332-4cc47dca0b34"
      },
      "source": [
        "aa =data_covid[['sex','age','province_of_onset']]\r\n",
        "bb= aa[data_covid['sex']=='หญิง']\r\n",
        "print(bb)"
      ],
      "execution_count": null,
      "outputs": [
        {
          "output_type": "stream",
          "text": [
            "        sex   age province_of_onset\n",
            "0      หญิง  61.0     กรุงเทพมหานคร\n",
            "1      หญิง  74.0     กรุงเทพมหานคร\n",
            "2      หญิง  73.0            นครปฐม\n",
            "4      หญิง  66.0     กรุงเทพมหานคร\n",
            "5      หญิง  33.0     กรุงเทพมหานคร\n",
            "...     ...   ...               ...\n",
            "12413  หญิง  16.0              ตรัง\n",
            "12416  หญิง  36.0               เลย\n",
            "12417  หญิง  29.0       สมุทรปราการ\n",
            "12418  หญิง  28.0       สมุทรปราการ\n",
            "12419  หญิง  27.0       สมุทรปราการ\n",
            "\n",
            "[5199 rows x 3 columns]\n"
          ],
          "name": "stdout"
        }
      ]
    },
    {
      "cell_type": "code",
      "metadata": {
        "colab": {
          "base_uri": "https://localhost:8080/"
        },
        "id": "jTanhcPT1FDu",
        "outputId": "1f284c06-198f-4f31-a91e-b05015601bc1"
      },
      "source": [
        "ab =data_covid[['sex','age','province_of_onset']]\r\n",
        "cc= ab[data_covid['sex']=='ชาย']\r\n",
        "print(cc)"
      ],
      "execution_count": null,
      "outputs": [
        {
          "output_type": "stream",
          "text": [
            "       sex   age province_of_onset\n",
            "3      ชาย  68.0     กรุงเทพมหานคร\n",
            "8      ชาย  63.0     กรุงเทพมหานคร\n",
            "10     ชาย  33.0     กรุงเทพมหานคร\n",
            "11     ชาย  61.0     กรุงเทพมหานคร\n",
            "12     ชาย   6.0     กรุงเทพมหานคร\n",
            "...    ...   ...               ...\n",
            "12414  ชาย  32.0             สงขลา\n",
            "12415  ชาย  38.0             สงขลา\n",
            "12420  ชาย  10.0            ชลบุรี\n",
            "12421  ชาย  52.0            ชลบุรี\n",
            "12422  ชาย  51.0             ระยอง\n",
            "\n",
            "[4727 rows x 3 columns]\n"
          ],
          "name": "stdout"
        }
      ]
    },
    {
      "cell_type": "code",
      "metadata": {
        "id": "rTOADwbJaVjX",
        "colab": {
          "base_uri": "https://localhost:8080/"
        },
        "outputId": "2fb3d800-c856-4685-9749-180467387d6d"
      },
      "source": [
        "Mean =bb[\"age\"].mean()\r\n",
        "print(f' อายุเฉลี่ยของผู้หญิงของข้อมูลทั้งหมด = {Mean} ปี ')\r\n",
        "Mean =cc[\"age\"].mean()\r\n",
        "print(f' อายุเฉลี่ยของผู้ชายของข้อมูลทั้งหมด = {Mean} ปี ')"
      ],
      "execution_count": null,
      "outputs": [
        {
          "output_type": "stream",
          "text": [
            " อายุเฉลี่ยของผู้หญิงของข้อมูลทั้งหมด = 36.70788295640009 ปี \n",
            " อายุเฉลี่ยของผู้ชายของข้อมูลทั้งหมด = 39.55682775996335 ปี \n"
          ],
          "name": "stdout"
        }
      ]
    },
    {
      "cell_type": "code",
      "metadata": {
        "id": "SPcodHV10Siw"
      },
      "source": [
        ""
      ],
      "execution_count": null,
      "outputs": []
    },
    {
      "cell_type": "markdown",
      "metadata": {
        "id": "BB_8UEQpT29D"
      },
      "source": [
        "## ข้อ2"
      ]
    },
    {
      "cell_type": "code",
      "metadata": {
        "id": "kB0cVIXuAAci",
        "colab": {
          "base_uri": "https://localhost:8080/",
          "height": 483
        },
        "outputId": "b1833c2d-c033-4195-a860-a1f281976213"
      },
      "source": [
        " sex_age = data_covid[['sex','age','province_of_onset']]\r\n",
        "sex_age[data_covid['province_of_onset']=='ขอนแก่น']"
      ],
      "execution_count": null,
      "outputs": [
        {
          "output_type": "execute_result",
          "data": {
            "text/html": [
              "<div>\n",
              "<style scoped>\n",
              "    .dataframe tbody tr th:only-of-type {\n",
              "        vertical-align: middle;\n",
              "    }\n",
              "\n",
              "    .dataframe tbody tr th {\n",
              "        vertical-align: top;\n",
              "    }\n",
              "\n",
              "    .dataframe thead th {\n",
              "        text-align: right;\n",
              "    }\n",
              "</style>\n",
              "<table border=\"1\" class=\"dataframe\">\n",
              "  <thead>\n",
              "    <tr style=\"text-align: right;\">\n",
              "      <th></th>\n",
              "      <th>sex</th>\n",
              "      <th>age</th>\n",
              "      <th>province_of_onset</th>\n",
              "    </tr>\n",
              "  </thead>\n",
              "  <tbody>\n",
              "    <tr>\n",
              "      <th>180</th>\n",
              "      <td>ชาย</td>\n",
              "      <td>33.0</td>\n",
              "      <td>ขอนแก่น</td>\n",
              "    </tr>\n",
              "    <tr>\n",
              "      <th>462</th>\n",
              "      <td>หญิง</td>\n",
              "      <td>36.0</td>\n",
              "      <td>ขอนแก่น</td>\n",
              "    </tr>\n",
              "    <tr>\n",
              "      <th>1466</th>\n",
              "      <td>ชาย</td>\n",
              "      <td>19.0</td>\n",
              "      <td>ขอนแก่น</td>\n",
              "    </tr>\n",
              "    <tr>\n",
              "      <th>1970</th>\n",
              "      <td>หญิง</td>\n",
              "      <td>70.0</td>\n",
              "      <td>ขอนแก่น</td>\n",
              "    </tr>\n",
              "    <tr>\n",
              "      <th>2637</th>\n",
              "      <td>หญิง</td>\n",
              "      <td>63.0</td>\n",
              "      <td>ขอนแก่น</td>\n",
              "    </tr>\n",
              "    <tr>\n",
              "      <th>2673</th>\n",
              "      <td>ชาย</td>\n",
              "      <td>68.0</td>\n",
              "      <td>ขอนแก่น</td>\n",
              "    </tr>\n",
              "    <tr>\n",
              "      <th>5948</th>\n",
              "      <td>หญิง</td>\n",
              "      <td>32.0</td>\n",
              "      <td>ขอนแก่น</td>\n",
              "    </tr>\n",
              "    <tr>\n",
              "      <th>6082</th>\n",
              "      <td>หญิง</td>\n",
              "      <td>36.0</td>\n",
              "      <td>ขอนแก่น</td>\n",
              "    </tr>\n",
              "    <tr>\n",
              "      <th>9333</th>\n",
              "      <td>ชาย</td>\n",
              "      <td>17.0</td>\n",
              "      <td>ขอนแก่น</td>\n",
              "    </tr>\n",
              "    <tr>\n",
              "      <th>9334</th>\n",
              "      <td>ชาย</td>\n",
              "      <td>20.0</td>\n",
              "      <td>ขอนแก่น</td>\n",
              "    </tr>\n",
              "    <tr>\n",
              "      <th>10610</th>\n",
              "      <td>ชาย</td>\n",
              "      <td>17.0</td>\n",
              "      <td>ขอนแก่น</td>\n",
              "    </tr>\n",
              "    <tr>\n",
              "      <th>11517</th>\n",
              "      <td>ชาย</td>\n",
              "      <td>12.0</td>\n",
              "      <td>ขอนแก่น</td>\n",
              "    </tr>\n",
              "    <tr>\n",
              "      <th>11697</th>\n",
              "      <td>หญิง</td>\n",
              "      <td>17.0</td>\n",
              "      <td>ขอนแก่น</td>\n",
              "    </tr>\n",
              "    <tr>\n",
              "      <th>11698</th>\n",
              "      <td>หญิง</td>\n",
              "      <td>37.0</td>\n",
              "      <td>ขอนแก่น</td>\n",
              "    </tr>\n",
              "  </tbody>\n",
              "</table>\n",
              "</div>"
            ],
            "text/plain": [
              "        sex   age province_of_onset\n",
              "180     ชาย  33.0           ขอนแก่น\n",
              "462    หญิง  36.0           ขอนแก่น\n",
              "1466    ชาย  19.0           ขอนแก่น\n",
              "1970   หญิง  70.0           ขอนแก่น\n",
              "2637   หญิง  63.0           ขอนแก่น\n",
              "2673    ชาย  68.0           ขอนแก่น\n",
              "5948   หญิง  32.0           ขอนแก่น\n",
              "6082   หญิง  36.0           ขอนแก่น\n",
              "9333    ชาย  17.0           ขอนแก่น\n",
              "9334    ชาย  20.0           ขอนแก่น\n",
              "10610   ชาย  17.0           ขอนแก่น\n",
              "11517   ชาย  12.0           ขอนแก่น\n",
              "11697  หญิง  17.0           ขอนแก่น\n",
              "11698  หญิง  37.0           ขอนแก่น"
            ]
          },
          "metadata": {
            "tags": []
          },
          "execution_count": 53
        }
      ]
    },
    {
      "cell_type": "code",
      "metadata": {
        "id": "Id9yeEB39oIq",
        "colab": {
          "base_uri": "https://localhost:8080/"
        },
        "outputId": "0995e499-1bc7-4121-fef5-be26594209bc"
      },
      "source": [
        "a =data_covid['age']\r\n",
        "b= a[data_covid['sex']=='ชาย']\r\n",
        "m= b[data_covid['province_of_onset']=='ขอนแก่น']\r\n",
        "print(m)"
      ],
      "execution_count": null,
      "outputs": [
        {
          "output_type": "stream",
          "text": [
            "180      33.0\n",
            "1466     19.0\n",
            "2673     68.0\n",
            "9333     17.0\n",
            "9334     20.0\n",
            "10610    17.0\n",
            "11517    12.0\n",
            "Name: age, dtype: float64\n"
          ],
          "name": "stdout"
        }
      ]
    },
    {
      "cell_type": "code",
      "metadata": {
        "id": "BeL2CzL3L8h0",
        "colab": {
          "base_uri": "https://localhost:8080/"
        },
        "outputId": "5f99188c-225c-4674-d043-ceb610b8d485"
      },
      "source": [
        "a =data_covid['age']\r\n",
        "b= a[data_covid['sex']=='หญิง']\r\n",
        "w= b[data_covid['province_of_onset']=='ขอนแก่น']\r\n",
        "print(w)"
      ],
      "execution_count": null,
      "outputs": [
        {
          "output_type": "stream",
          "text": [
            "462      36.0\n",
            "1970     70.0\n",
            "2637     63.0\n",
            "5948     32.0\n",
            "6082     36.0\n",
            "11697    17.0\n",
            "11698    37.0\n",
            "Name: age, dtype: float64\n"
          ],
          "name": "stdout"
        }
      ]
    },
    {
      "cell_type": "code",
      "metadata": {
        "id": "dgt-LKoAv__I"
      },
      "source": [
        "import statistics as stats"
      ],
      "execution_count": null,
      "outputs": []
    },
    {
      "cell_type": "code",
      "metadata": {
        "id": "bMV7xP2iwKQd",
        "colab": {
          "base_uri": "https://localhost:8080/"
        },
        "outputId": "ec9e7f51-c9b5-419b-8d82-582a26c0d397"
      },
      "source": [
        "mean = stats.mean(m)\r\n",
        "print(f'อายุเฉลี่ยเพศชายที่เป็นผู้ป่วยในขอนแก่น ={mean} ปี')\r\n",
        "mean = stats.mean(w)\r\n",
        "print(f'อายุเฉลี่ยเพศหญิงที่เป็นผู้ป่วยในขอนแก่น = {mean} ปี')"
      ],
      "execution_count": null,
      "outputs": [
        {
          "output_type": "stream",
          "text": [
            "อายุเฉลี่ยเพศชายที่เป็นผู้ป่วยในขอนแก่น =26.571428571428573 ปี\n",
            "อายุเฉลี่ยเพศหญิงที่เป็นผู้ป่วยในขอนแก่น = 41.57142857142857 ปี\n"
          ],
          "name": "stdout"
        }
      ]
    },
    {
      "cell_type": "markdown",
      "metadata": {
        "id": "-20aVIEUYRoz"
      },
      "source": [
        ""
      ]
    },
    {
      "cell_type": "code",
      "metadata": {
        "id": "2sYRfM-gYSRl"
      },
      "source": [
        ""
      ],
      "execution_count": null,
      "outputs": []
    },
    {
      "cell_type": "code",
      "metadata": {
        "id": "z7y4GMrHJIpz",
        "colab": {
          "base_uri": "https://localhost:8080/",
          "height": 419
        },
        "outputId": "42b5985c-07ae-4995-a0a9-067ea8424c29"
      },
      "source": [
        "this_data=data_covid[['sex','age','province_of_onset']]\r\n",
        "this_data"
      ],
      "execution_count": 20,
      "outputs": [
        {
          "output_type": "execute_result",
          "data": {
            "text/html": [
              "<div>\n",
              "<style scoped>\n",
              "    .dataframe tbody tr th:only-of-type {\n",
              "        vertical-align: middle;\n",
              "    }\n",
              "\n",
              "    .dataframe tbody tr th {\n",
              "        vertical-align: top;\n",
              "    }\n",
              "\n",
              "    .dataframe thead th {\n",
              "        text-align: right;\n",
              "    }\n",
              "</style>\n",
              "<table border=\"1\" class=\"dataframe\">\n",
              "  <thead>\n",
              "    <tr style=\"text-align: right;\">\n",
              "      <th></th>\n",
              "      <th>sex</th>\n",
              "      <th>age</th>\n",
              "      <th>province_of_onset</th>\n",
              "    </tr>\n",
              "  </thead>\n",
              "  <tbody>\n",
              "    <tr>\n",
              "      <th>0</th>\n",
              "      <td>หญิง</td>\n",
              "      <td>61.0</td>\n",
              "      <td>กรุงเทพมหานคร</td>\n",
              "    </tr>\n",
              "    <tr>\n",
              "      <th>1</th>\n",
              "      <td>หญิง</td>\n",
              "      <td>74.0</td>\n",
              "      <td>กรุงเทพมหานคร</td>\n",
              "    </tr>\n",
              "    <tr>\n",
              "      <th>2</th>\n",
              "      <td>หญิง</td>\n",
              "      <td>73.0</td>\n",
              "      <td>นครปฐม</td>\n",
              "    </tr>\n",
              "    <tr>\n",
              "      <th>3</th>\n",
              "      <td>ชาย</td>\n",
              "      <td>68.0</td>\n",
              "      <td>กรุงเทพมหานคร</td>\n",
              "    </tr>\n",
              "    <tr>\n",
              "      <th>4</th>\n",
              "      <td>หญิง</td>\n",
              "      <td>66.0</td>\n",
              "      <td>กรุงเทพมหานคร</td>\n",
              "    </tr>\n",
              "    <tr>\n",
              "      <th>...</th>\n",
              "      <td>...</td>\n",
              "      <td>...</td>\n",
              "      <td>...</td>\n",
              "    </tr>\n",
              "    <tr>\n",
              "      <th>12418</th>\n",
              "      <td>หญิง</td>\n",
              "      <td>28.0</td>\n",
              "      <td>สมุทรปราการ</td>\n",
              "    </tr>\n",
              "    <tr>\n",
              "      <th>12419</th>\n",
              "      <td>หญิง</td>\n",
              "      <td>27.0</td>\n",
              "      <td>สมุทรปราการ</td>\n",
              "    </tr>\n",
              "    <tr>\n",
              "      <th>12420</th>\n",
              "      <td>ชาย</td>\n",
              "      <td>10.0</td>\n",
              "      <td>ชลบุรี</td>\n",
              "    </tr>\n",
              "    <tr>\n",
              "      <th>12421</th>\n",
              "      <td>ชาย</td>\n",
              "      <td>52.0</td>\n",
              "      <td>ชลบุรี</td>\n",
              "    </tr>\n",
              "    <tr>\n",
              "      <th>12422</th>\n",
              "      <td>ชาย</td>\n",
              "      <td>51.0</td>\n",
              "      <td>ระยอง</td>\n",
              "    </tr>\n",
              "  </tbody>\n",
              "</table>\n",
              "<p>12423 rows × 3 columns</p>\n",
              "</div>"
            ],
            "text/plain": [
              "        sex   age province_of_onset\n",
              "0      หญิง  61.0     กรุงเทพมหานคร\n",
              "1      หญิง  74.0     กรุงเทพมหานคร\n",
              "2      หญิง  73.0            นครปฐม\n",
              "3       ชาย  68.0     กรุงเทพมหานคร\n",
              "4      หญิง  66.0     กรุงเทพมหานคร\n",
              "...     ...   ...               ...\n",
              "12418  หญิง  28.0       สมุทรปราการ\n",
              "12419  หญิง  27.0       สมุทรปราการ\n",
              "12420   ชาย  10.0            ชลบุรี\n",
              "12421   ชาย  52.0            ชลบุรี\n",
              "12422   ชาย  51.0             ระยอง\n",
              "\n",
              "[12423 rows x 3 columns]"
            ]
          },
          "metadata": {
            "tags": []
          },
          "execution_count": 20
        }
      ]
    },
    {
      "cell_type": "code",
      "metadata": {
        "id": "_qlRrt2eY3IX",
        "colab": {
          "base_uri": "https://localhost:8080/"
        },
        "outputId": "5232fdbc-adfe-4499-cec9-c5b5b13754d4"
      },
      "source": [
        "female=this_data[this_data['sex']=='หญิง']\r\n",
        "female['age']"
      ],
      "execution_count": 21,
      "outputs": [
        {
          "output_type": "execute_result",
          "data": {
            "text/plain": [
              "0        61.0\n",
              "1        74.0\n",
              "2        73.0\n",
              "4        66.0\n",
              "5        33.0\n",
              "         ... \n",
              "12413    16.0\n",
              "12416    36.0\n",
              "12417    29.0\n",
              "12418    28.0\n",
              "12419    27.0\n",
              "Name: age, Length: 5199, dtype: float64"
            ]
          },
          "metadata": {
            "tags": []
          },
          "execution_count": 21
        }
      ]
    },
    {
      "cell_type": "code",
      "metadata": {
        "id": "bV9drw5eZKbo",
        "colab": {
          "base_uri": "https://localhost:8080/"
        },
        "outputId": "08a6600d-28d6-4430-98aa-b6b6e1376629"
      },
      "source": [
        "sum=0\r\n",
        "N=0\r\n",
        "for a in female['age']:\r\n",
        "\r\n",
        "  if a >0:\r\n",
        "    sum += a #sum=sum+a\r\n",
        "    N += 1\r\n",
        "print(f'อายุเฉลี่ย ของ ผู้ป่วยหญิงทั้งหมด = {sum/N} ปี' )  \r\n"
      ],
      "execution_count": 22,
      "outputs": [
        {
          "output_type": "stream",
          "text": [
            "อายุเฉลี่ย ของ ผู้ป่วยหญิงทั้งหมด = 36.70788295640009 ปี\n"
          ],
          "name": "stdout"
        }
      ]
    },
    {
      "cell_type": "code",
      "metadata": {
        "id": "CqwBvuz5bBgT",
        "colab": {
          "base_uri": "https://localhost:8080/"
        },
        "outputId": "841a9015-bc7d-4cf1-8587-272dde06d7a5"
      },
      "source": [
        "female_kk=female[female['province_of_onset']=='ขอนแก่น']\r\n",
        "\r\n",
        "sum=0\r\n",
        "N=0\r\n",
        "for a in female_kk['age']:\r\n",
        "  \r\n",
        "  if a >0:\r\n",
        "    sum += a #sum=sum+a\r\n",
        "    N += 1\r\n",
        "print(f'อายุเฉลี่ย ของ ผู้ป่วยหญิง ในจังหวัดขอนแก่น = {sum/N} ปี') "
      ],
      "execution_count": 23,
      "outputs": [
        {
          "output_type": "stream",
          "text": [
            "อายุเฉลี่ย ของ ผู้ป่วยหญิง ในจังหวัดขอนแก่น = 41.57142857142857 ปี\n"
          ],
          "name": "stdout"
        }
      ]
    },
    {
      "cell_type": "markdown",
      "metadata": {
        "id": "Qj12kJ847M-I"
      },
      "source": [
        "จัดการ Missing Value\r\n",
        " \r\n",
        " - ลบ record ที่เป็น missing\r\n",
        " - แทนที่ ค่า missing ด้วยค่าที่เหมาะสม mean,default, category-unkhow\r\n",
        " - ใช้ ค่าจาก column อื่น ช่วยประมาณค่า ค่าใน column ที่หายไป (regression,deep learning,ect.)"
      ]
    },
    {
      "cell_type": "markdown",
      "metadata": {
        "id": "nZXk1RzneVVk"
      },
      "source": [
        "### ลบ record (dropna)\r\n",
        "\r\n",
        "missing = ```None``` ```NA```(not autorize) ```Nan```(not a number)"
      ]
    },
    {
      "cell_type": "code",
      "metadata": {
        "id": "Efdwg4vNeUsf",
        "colab": {
          "base_uri": "https://localhost:8080/"
        },
        "outputId": "ac8590c4-94ac-404e-e506-ed4a77c1cb29"
      },
      "source": [
        "this_data.shape"
      ],
      "execution_count": 24,
      "outputs": [
        {
          "output_type": "execute_result",
          "data": {
            "text/plain": [
              "(12423, 3)"
            ]
          },
          "metadata": {
            "tags": []
          },
          "execution_count": 24
        }
      ]
    },
    {
      "cell_type": "code",
      "metadata": {
        "id": "4tFphPtEgHDY",
        "colab": {
          "base_uri": "https://localhost:8080/"
        },
        "outputId": "ecebeaca-06c8-4718-9295-51b122c28c6c"
      },
      "source": [
        "print(data_covid.shape)\r\n",
        "print(data_covid.dropna().shape)"
      ],
      "execution_count": 25,
      "outputs": [
        {
          "output_type": "stream",
          "text": [
            "(12423, 10)\n",
            "(6430, 10)\n"
          ],
          "name": "stdout"
        }
      ]
    },
    {
      "cell_type": "code",
      "metadata": {
        "id": "rdCq2DP_g_mO",
        "colab": {
          "base_uri": "https://localhost:8080/"
        },
        "outputId": "41288837-2fde-4356-cd2e-698d4605e0c4"
      },
      "source": [
        "this_data.dropna().shape"
      ],
      "execution_count": 26,
      "outputs": [
        {
          "output_type": "execute_result",
          "data": {
            "text/plain": [
              "(8253, 3)"
            ]
          },
          "metadata": {
            "tags": []
          },
          "execution_count": 26
        }
      ]
    },
    {
      "cell_type": "code",
      "metadata": {
        "id": "rMlw6TZqh1M5",
        "colab": {
          "base_uri": "https://localhost:8080/",
          "height": 419
        },
        "outputId": "558c7848-f7f3-4571-b8ad-81c506aff6cb"
      },
      "source": [
        "this_data.dropna()"
      ],
      "execution_count": 27,
      "outputs": [
        {
          "output_type": "execute_result",
          "data": {
            "text/html": [
              "<div>\n",
              "<style scoped>\n",
              "    .dataframe tbody tr th:only-of-type {\n",
              "        vertical-align: middle;\n",
              "    }\n",
              "\n",
              "    .dataframe tbody tr th {\n",
              "        vertical-align: top;\n",
              "    }\n",
              "\n",
              "    .dataframe thead th {\n",
              "        text-align: right;\n",
              "    }\n",
              "</style>\n",
              "<table border=\"1\" class=\"dataframe\">\n",
              "  <thead>\n",
              "    <tr style=\"text-align: right;\">\n",
              "      <th></th>\n",
              "      <th>sex</th>\n",
              "      <th>age</th>\n",
              "      <th>province_of_onset</th>\n",
              "    </tr>\n",
              "  </thead>\n",
              "  <tbody>\n",
              "    <tr>\n",
              "      <th>0</th>\n",
              "      <td>หญิง</td>\n",
              "      <td>61.0</td>\n",
              "      <td>กรุงเทพมหานคร</td>\n",
              "    </tr>\n",
              "    <tr>\n",
              "      <th>1</th>\n",
              "      <td>หญิง</td>\n",
              "      <td>74.0</td>\n",
              "      <td>กรุงเทพมหานคร</td>\n",
              "    </tr>\n",
              "    <tr>\n",
              "      <th>2</th>\n",
              "      <td>หญิง</td>\n",
              "      <td>73.0</td>\n",
              "      <td>นครปฐม</td>\n",
              "    </tr>\n",
              "    <tr>\n",
              "      <th>3</th>\n",
              "      <td>ชาย</td>\n",
              "      <td>68.0</td>\n",
              "      <td>กรุงเทพมหานคร</td>\n",
              "    </tr>\n",
              "    <tr>\n",
              "      <th>4</th>\n",
              "      <td>หญิง</td>\n",
              "      <td>66.0</td>\n",
              "      <td>กรุงเทพมหานคร</td>\n",
              "    </tr>\n",
              "    <tr>\n",
              "      <th>...</th>\n",
              "      <td>...</td>\n",
              "      <td>...</td>\n",
              "      <td>...</td>\n",
              "    </tr>\n",
              "    <tr>\n",
              "      <th>12418</th>\n",
              "      <td>หญิง</td>\n",
              "      <td>28.0</td>\n",
              "      <td>สมุทรปราการ</td>\n",
              "    </tr>\n",
              "    <tr>\n",
              "      <th>12419</th>\n",
              "      <td>หญิง</td>\n",
              "      <td>27.0</td>\n",
              "      <td>สมุทรปราการ</td>\n",
              "    </tr>\n",
              "    <tr>\n",
              "      <th>12420</th>\n",
              "      <td>ชาย</td>\n",
              "      <td>10.0</td>\n",
              "      <td>ชลบุรี</td>\n",
              "    </tr>\n",
              "    <tr>\n",
              "      <th>12421</th>\n",
              "      <td>ชาย</td>\n",
              "      <td>52.0</td>\n",
              "      <td>ชลบุรี</td>\n",
              "    </tr>\n",
              "    <tr>\n",
              "      <th>12422</th>\n",
              "      <td>ชาย</td>\n",
              "      <td>51.0</td>\n",
              "      <td>ระยอง</td>\n",
              "    </tr>\n",
              "  </tbody>\n",
              "</table>\n",
              "<p>8253 rows × 3 columns</p>\n",
              "</div>"
            ],
            "text/plain": [
              "        sex   age province_of_onset\n",
              "0      หญิง  61.0     กรุงเทพมหานคร\n",
              "1      หญิง  74.0     กรุงเทพมหานคร\n",
              "2      หญิง  73.0            นครปฐม\n",
              "3       ชาย  68.0     กรุงเทพมหานคร\n",
              "4      หญิง  66.0     กรุงเทพมหานคร\n",
              "...     ...   ...               ...\n",
              "12418  หญิง  28.0       สมุทรปราการ\n",
              "12419  หญิง  27.0       สมุทรปราการ\n",
              "12420   ชาย  10.0            ชลบุรี\n",
              "12421   ชาย  52.0            ชลบุรี\n",
              "12422   ชาย  51.0             ระยอง\n",
              "\n",
              "[8253 rows x 3 columns]"
            ]
          },
          "metadata": {
            "tags": []
          },
          "execution_count": 27
        }
      ]
    },
    {
      "cell_type": "code",
      "metadata": {
        "id": "Fcbt_e0Rhax7",
        "colab": {
          "base_uri": "https://localhost:8080/"
        },
        "outputId": "15167bae-20a4-417b-d9d8-13b8c0a4edd3"
      },
      "source": [
        "this_data.dropna()\r\n",
        "print(this_data.shape)"
      ],
      "execution_count": 28,
      "outputs": [
        {
          "output_type": "stream",
          "text": [
            "(12423, 3)\n"
          ],
          "name": "stdout"
        }
      ]
    },
    {
      "cell_type": "code",
      "metadata": {
        "id": "98z0wV0miMIe",
        "colab": {
          "base_uri": "https://localhost:8080/"
        },
        "outputId": "af987022-b58a-4241-e644-d5707a033d96"
      },
      "source": [
        "this_data.dropna(inplace=True)\r\n",
        "print(this_data.shape)"
      ],
      "execution_count": 29,
      "outputs": [
        {
          "output_type": "stream",
          "text": [
            "(8253, 3)\n"
          ],
          "name": "stdout"
        },
        {
          "output_type": "stream",
          "text": [
            "/usr/local/lib/python3.6/dist-packages/ipykernel_launcher.py:1: SettingWithCopyWarning: \n",
            "A value is trying to be set on a copy of a slice from a DataFrame\n",
            "\n",
            "See the caveats in the documentation: https://pandas.pydata.org/pandas-docs/stable/user_guide/indexing.html#returning-a-view-versus-a-copy\n",
            "  \"\"\"Entry point for launching an IPython kernel.\n"
          ],
          "name": "stderr"
        }
      ]
    },
    {
      "cell_type": "code",
      "metadata": {
        "id": "Fn2dDp58iylR",
        "colab": {
          "base_uri": "https://localhost:8080/"
        },
        "outputId": "f9bd374c-f4cb-40be-e5a5-38ef1d90e702"
      },
      "source": [
        "this_data=data_covid[['sex','age','province_of_onset']]\r\n",
        "this_data.shape"
      ],
      "execution_count": 30,
      "outputs": [
        {
          "output_type": "execute_result",
          "data": {
            "text/plain": [
              "(12423, 3)"
            ]
          },
          "metadata": {
            "tags": []
          },
          "execution_count": 30
        }
      ]
    },
    {
      "cell_type": "code",
      "metadata": {
        "id": "XB0OWvaajYul",
        "colab": {
          "base_uri": "https://localhost:8080/"
        },
        "outputId": "45c9a09f-7f58-47e5-af7e-f344468e6265"
      },
      "source": [
        "this_data.dropna().shape"
      ],
      "execution_count": 31,
      "outputs": [
        {
          "output_type": "execute_result",
          "data": {
            "text/plain": [
              "(8253, 3)"
            ]
          },
          "metadata": {
            "tags": []
          },
          "execution_count": 31
        }
      ]
    },
    {
      "cell_type": "code",
      "metadata": {
        "id": "LA9suJcJjG5v",
        "colab": {
          "base_uri": "https://localhost:8080/"
        },
        "outputId": "5f1e1ca8-c57b-4c18-b54d-7504c15e7b61"
      },
      "source": [
        "this_data.dropna(subset=['age']).shape"
      ],
      "execution_count": 32,
      "outputs": [
        {
          "output_type": "execute_result",
          "data": {
            "text/plain": [
              "(8656, 3)"
            ]
          },
          "metadata": {
            "tags": []
          },
          "execution_count": 32
        }
      ]
    },
    {
      "cell_type": "markdown",
      "metadata": {
        "id": "Z4B61gHhjm82"
      },
      "source": [
        "### แทน missing ด้วนค่าที่เหมาะสม (fillna)"
      ]
    },
    {
      "cell_type": "markdown",
      "metadata": {
        "id": "7wgz0kZ6eb7c"
      },
      "source": [
        "##### การวนลูป record ในตาราง"
      ]
    },
    {
      "cell_type": "code",
      "metadata": {
        "id": "lV0JGzwsecT7",
        "colab": {
          "base_uri": "https://localhost:8080/",
          "height": 204
        },
        "outputId": "34797bc9-4a89-4134-bd5d-e25ed606bb3d"
      },
      "source": [
        "this_data.head()"
      ],
      "execution_count": 33,
      "outputs": [
        {
          "output_type": "execute_result",
          "data": {
            "text/html": [
              "<div>\n",
              "<style scoped>\n",
              "    .dataframe tbody tr th:only-of-type {\n",
              "        vertical-align: middle;\n",
              "    }\n",
              "\n",
              "    .dataframe tbody tr th {\n",
              "        vertical-align: top;\n",
              "    }\n",
              "\n",
              "    .dataframe thead th {\n",
              "        text-align: right;\n",
              "    }\n",
              "</style>\n",
              "<table border=\"1\" class=\"dataframe\">\n",
              "  <thead>\n",
              "    <tr style=\"text-align: right;\">\n",
              "      <th></th>\n",
              "      <th>sex</th>\n",
              "      <th>age</th>\n",
              "      <th>province_of_onset</th>\n",
              "    </tr>\n",
              "  </thead>\n",
              "  <tbody>\n",
              "    <tr>\n",
              "      <th>0</th>\n",
              "      <td>หญิง</td>\n",
              "      <td>61.0</td>\n",
              "      <td>กรุงเทพมหานคร</td>\n",
              "    </tr>\n",
              "    <tr>\n",
              "      <th>1</th>\n",
              "      <td>หญิง</td>\n",
              "      <td>74.0</td>\n",
              "      <td>กรุงเทพมหานคร</td>\n",
              "    </tr>\n",
              "    <tr>\n",
              "      <th>2</th>\n",
              "      <td>หญิง</td>\n",
              "      <td>73.0</td>\n",
              "      <td>นครปฐม</td>\n",
              "    </tr>\n",
              "    <tr>\n",
              "      <th>3</th>\n",
              "      <td>ชาย</td>\n",
              "      <td>68.0</td>\n",
              "      <td>กรุงเทพมหานคร</td>\n",
              "    </tr>\n",
              "    <tr>\n",
              "      <th>4</th>\n",
              "      <td>หญิง</td>\n",
              "      <td>66.0</td>\n",
              "      <td>กรุงเทพมหานคร</td>\n",
              "    </tr>\n",
              "  </tbody>\n",
              "</table>\n",
              "</div>"
            ],
            "text/plain": [
              "    sex   age province_of_onset\n",
              "0  หญิง  61.0     กรุงเทพมหานคร\n",
              "1  หญิง  74.0     กรุงเทพมหานคร\n",
              "2  หญิง  73.0            นครปฐม\n",
              "3   ชาย  68.0     กรุงเทพมหานคร\n",
              "4  หญิง  66.0     กรุงเทพมหานคร"
            ]
          },
          "metadata": {
            "tags": []
          },
          "execution_count": 33
        }
      ]
    },
    {
      "cell_type": "code",
      "metadata": {
        "id": "t6y_1O7Ukk8D",
        "colab": {
          "base_uri": "https://localhost:8080/"
        },
        "outputId": "f8c55d07-6a53-4942-a294-fab05f0956ce"
      },
      "source": [
        "print(f'จำนวน record ก่อน drop missing ใน povince {this_data.shape[0]}')\r\n",
        "print(f'จำนวน record หลัง drop missing ใน povince {this_data.dropna(subset=[\"province_of_onset\"]).shape[0]}')"
      ],
      "execution_count": 34,
      "outputs": [
        {
          "output_type": "stream",
          "text": [
            "จำนวน record ก่อน drop missing ใน povince 12423\n",
            "จำนวน record หลัง drop missing ใน povince 10432\n"
          ],
          "name": "stdout"
        }
      ]
    },
    {
      "cell_type": "code",
      "metadata": {
        "id": "ARPdt03ElVHn"
      },
      "source": [
        "this_data_updated= this_data.fillna(value={'sex': 'ไม่รู้','age':-1, 'province_of_onset': 'ไม่รู้'})"
      ],
      "execution_count": 41,
      "outputs": []
    },
    {
      "cell_type": "code",
      "metadata": {
        "id": "lr8d1mdMnVyy",
        "colab": {
          "base_uri": "https://localhost:8080/",
          "height": 204
        },
        "outputId": "b1397166-3cf4-4c61-f72b-f0d61adf06bc"
      },
      "source": [
        "this_data_updated.head()"
      ],
      "execution_count": 42,
      "outputs": [
        {
          "output_type": "execute_result",
          "data": {
            "text/html": [
              "<div>\n",
              "<style scoped>\n",
              "    .dataframe tbody tr th:only-of-type {\n",
              "        vertical-align: middle;\n",
              "    }\n",
              "\n",
              "    .dataframe tbody tr th {\n",
              "        vertical-align: top;\n",
              "    }\n",
              "\n",
              "    .dataframe thead th {\n",
              "        text-align: right;\n",
              "    }\n",
              "</style>\n",
              "<table border=\"1\" class=\"dataframe\">\n",
              "  <thead>\n",
              "    <tr style=\"text-align: right;\">\n",
              "      <th></th>\n",
              "      <th>sex</th>\n",
              "      <th>age</th>\n",
              "      <th>province_of_onset</th>\n",
              "    </tr>\n",
              "  </thead>\n",
              "  <tbody>\n",
              "    <tr>\n",
              "      <th>0</th>\n",
              "      <td>หญิง</td>\n",
              "      <td>61.0</td>\n",
              "      <td>กรุงเทพมหานคร</td>\n",
              "    </tr>\n",
              "    <tr>\n",
              "      <th>1</th>\n",
              "      <td>หญิง</td>\n",
              "      <td>74.0</td>\n",
              "      <td>กรุงเทพมหานคร</td>\n",
              "    </tr>\n",
              "    <tr>\n",
              "      <th>2</th>\n",
              "      <td>หญิง</td>\n",
              "      <td>73.0</td>\n",
              "      <td>นครปฐม</td>\n",
              "    </tr>\n",
              "    <tr>\n",
              "      <th>3</th>\n",
              "      <td>ชาย</td>\n",
              "      <td>68.0</td>\n",
              "      <td>กรุงเทพมหานคร</td>\n",
              "    </tr>\n",
              "    <tr>\n",
              "      <th>4</th>\n",
              "      <td>หญิง</td>\n",
              "      <td>66.0</td>\n",
              "      <td>กรุงเทพมหานคร</td>\n",
              "    </tr>\n",
              "  </tbody>\n",
              "</table>\n",
              "</div>"
            ],
            "text/plain": [
              "    sex   age province_of_onset\n",
              "0  หญิง  61.0     กรุงเทพมหานคร\n",
              "1  หญิง  74.0     กรุงเทพมหานคร\n",
              "2  หญิง  73.0            นครปฐม\n",
              "3   ชาย  68.0     กรุงเทพมหานคร\n",
              "4  หญิง  66.0     กรุงเทพมหานคร"
            ]
          },
          "metadata": {
            "tags": []
          },
          "execution_count": 42
        }
      ]
    },
    {
      "cell_type": "code",
      "metadata": {
        "id": "yxtuDJLJooLC",
        "colab": {
          "base_uri": "https://localhost:8080/",
          "height": 419
        },
        "outputId": "65d10bc4-ffe8-4646-97aa-0f8932aa3665"
      },
      "source": [
        "this_data_updated[this_data_updated['sex']=='ไม่รู้']"
      ],
      "execution_count": 43,
      "outputs": [
        {
          "output_type": "execute_result",
          "data": {
            "text/html": [
              "<div>\n",
              "<style scoped>\n",
              "    .dataframe tbody tr th:only-of-type {\n",
              "        vertical-align: middle;\n",
              "    }\n",
              "\n",
              "    .dataframe tbody tr th {\n",
              "        vertical-align: top;\n",
              "    }\n",
              "\n",
              "    .dataframe thead th {\n",
              "        text-align: right;\n",
              "    }\n",
              "</style>\n",
              "<table border=\"1\" class=\"dataframe\">\n",
              "  <thead>\n",
              "    <tr style=\"text-align: right;\">\n",
              "      <th></th>\n",
              "      <th>sex</th>\n",
              "      <th>age</th>\n",
              "      <th>province_of_onset</th>\n",
              "    </tr>\n",
              "  </thead>\n",
              "  <tbody>\n",
              "    <tr>\n",
              "      <th>4391</th>\n",
              "      <td>ไม่รู้</td>\n",
              "      <td>-1.0</td>\n",
              "      <td>สมุทรสาคร</td>\n",
              "    </tr>\n",
              "    <tr>\n",
              "      <th>4392</th>\n",
              "      <td>ไม่รู้</td>\n",
              "      <td>-1.0</td>\n",
              "      <td>สมุทรสาคร</td>\n",
              "    </tr>\n",
              "    <tr>\n",
              "      <th>4393</th>\n",
              "      <td>ไม่รู้</td>\n",
              "      <td>-1.0</td>\n",
              "      <td>สมุทรสาคร</td>\n",
              "    </tr>\n",
              "    <tr>\n",
              "      <th>4394</th>\n",
              "      <td>ไม่รู้</td>\n",
              "      <td>-1.0</td>\n",
              "      <td>สมุทรสาคร</td>\n",
              "    </tr>\n",
              "    <tr>\n",
              "      <th>4395</th>\n",
              "      <td>ไม่รู้</td>\n",
              "      <td>-1.0</td>\n",
              "      <td>สมุทรสาคร</td>\n",
              "    </tr>\n",
              "    <tr>\n",
              "      <th>...</th>\n",
              "      <td>...</td>\n",
              "      <td>...</td>\n",
              "      <td>...</td>\n",
              "    </tr>\n",
              "    <tr>\n",
              "      <th>12405</th>\n",
              "      <td>ไม่รู้</td>\n",
              "      <td>-1.0</td>\n",
              "      <td>ไม่รู้</td>\n",
              "    </tr>\n",
              "    <tr>\n",
              "      <th>12406</th>\n",
              "      <td>ไม่รู้</td>\n",
              "      <td>-1.0</td>\n",
              "      <td>ไม่รู้</td>\n",
              "    </tr>\n",
              "    <tr>\n",
              "      <th>12407</th>\n",
              "      <td>ไม่รู้</td>\n",
              "      <td>-1.0</td>\n",
              "      <td>ไม่รู้</td>\n",
              "    </tr>\n",
              "    <tr>\n",
              "      <th>12408</th>\n",
              "      <td>ไม่รู้</td>\n",
              "      <td>-1.0</td>\n",
              "      <td>ไม่รู้</td>\n",
              "    </tr>\n",
              "    <tr>\n",
              "      <th>12409</th>\n",
              "      <td>ไม่รู้</td>\n",
              "      <td>-1.0</td>\n",
              "      <td>ไม่รู้</td>\n",
              "    </tr>\n",
              "  </tbody>\n",
              "</table>\n",
              "<p>2497 rows × 3 columns</p>\n",
              "</div>"
            ],
            "text/plain": [
              "          sex  age province_of_onset\n",
              "4391   ไม่รู้ -1.0         สมุทรสาคร\n",
              "4392   ไม่รู้ -1.0         สมุทรสาคร\n",
              "4393   ไม่รู้ -1.0         สมุทรสาคร\n",
              "4394   ไม่รู้ -1.0         สมุทรสาคร\n",
              "4395   ไม่รู้ -1.0         สมุทรสาคร\n",
              "...       ...  ...               ...\n",
              "12405  ไม่รู้ -1.0            ไม่รู้\n",
              "12406  ไม่รู้ -1.0            ไม่รู้\n",
              "12407  ไม่รู้ -1.0            ไม่รู้\n",
              "12408  ไม่รู้ -1.0            ไม่รู้\n",
              "12409  ไม่รู้ -1.0            ไม่รู้\n",
              "\n",
              "[2497 rows x 3 columns]"
            ]
          },
          "metadata": {
            "tags": []
          },
          "execution_count": 43
        }
      ]
    },
    {
      "cell_type": "code",
      "metadata": {
        "id": "q7SIidXFoasf",
        "colab": {
          "base_uri": "https://localhost:8080/",
          "height": 626
        },
        "outputId": "2e95500c-cb4a-48b2-ecf2-e450de1a444a"
      },
      "source": [
        "data_covid[this_data_updated['province_of_onset']=='ไม่รู้']"
      ],
      "execution_count": 44,
      "outputs": [
        {
          "output_type": "execute_result",
          "data": {
            "text/html": [
              "<div>\n",
              "<style scoped>\n",
              "    .dataframe tbody tr th:only-of-type {\n",
              "        vertical-align: middle;\n",
              "    }\n",
              "\n",
              "    .dataframe tbody tr th {\n",
              "        vertical-align: top;\n",
              "    }\n",
              "\n",
              "    .dataframe thead th {\n",
              "        text-align: right;\n",
              "    }\n",
              "</style>\n",
              "<table border=\"1\" class=\"dataframe\">\n",
              "  <thead>\n",
              "    <tr style=\"text-align: right;\">\n",
              "      <th></th>\n",
              "      <th>No.</th>\n",
              "      <th>announce_date</th>\n",
              "      <th>notification_date</th>\n",
              "      <th>sex</th>\n",
              "      <th>age</th>\n",
              "      <th>nationality</th>\n",
              "      <th>province_of_isolation</th>\n",
              "      <th>province_of_onset</th>\n",
              "      <th>district_of_onset</th>\n",
              "      <th>risk</th>\n",
              "    </tr>\n",
              "  </thead>\n",
              "  <tbody>\n",
              "    <tr>\n",
              "      <th>414</th>\n",
              "      <td>415</td>\n",
              "      <td>3/22/2020</td>\n",
              "      <td>3/22/2020</td>\n",
              "      <td>ชาย</td>\n",
              "      <td>29.0</td>\n",
              "      <td>Thailand</td>\n",
              "      <td>กรุงเทพมหานคร</td>\n",
              "      <td>NaN</td>\n",
              "      <td>NaN</td>\n",
              "      <td>สนามมวย</td>\n",
              "    </tr>\n",
              "    <tr>\n",
              "      <th>529</th>\n",
              "      <td>530</td>\n",
              "      <td>3/22/2020</td>\n",
              "      <td>3/20/2020</td>\n",
              "      <td>ชาย</td>\n",
              "      <td>37.0</td>\n",
              "      <td>Thailand</td>\n",
              "      <td>กรุงเทพมหานคร</td>\n",
              "      <td>NaN</td>\n",
              "      <td>NaN</td>\n",
              "      <td>สัมผัสใกล้ชิดกับผู้ป่วยยืนยันรายก่อนหน้านี้</td>\n",
              "    </tr>\n",
              "    <tr>\n",
              "      <th>555</th>\n",
              "      <td>556</td>\n",
              "      <td>3/22/2020</td>\n",
              "      <td>3/21/2020</td>\n",
              "      <td>หญิง</td>\n",
              "      <td>6.0</td>\n",
              "      <td>Thailand</td>\n",
              "      <td>กรุงเทพมหานคร</td>\n",
              "      <td>NaN</td>\n",
              "      <td>NaN</td>\n",
              "      <td>สนามมวย</td>\n",
              "    </tr>\n",
              "    <tr>\n",
              "      <th>576</th>\n",
              "      <td>577</td>\n",
              "      <td>3/22/2020</td>\n",
              "      <td>3/20/2020</td>\n",
              "      <td>ชาย</td>\n",
              "      <td>NaN</td>\n",
              "      <td>Thailand</td>\n",
              "      <td>กรุงเทพมหานคร</td>\n",
              "      <td>NaN</td>\n",
              "      <td>NaN</td>\n",
              "      <td>สนามมวย</td>\n",
              "    </tr>\n",
              "    <tr>\n",
              "      <th>588</th>\n",
              "      <td>589</td>\n",
              "      <td>3/22/2020</td>\n",
              "      <td>3/21/2020</td>\n",
              "      <td>ชาย</td>\n",
              "      <td>NaN</td>\n",
              "      <td>Thailand</td>\n",
              "      <td>กรุงเทพมหานคร</td>\n",
              "      <td>NaN</td>\n",
              "      <td>NaN</td>\n",
              "      <td>อยู่ระหว่างการสอบสวน</td>\n",
              "    </tr>\n",
              "    <tr>\n",
              "      <th>...</th>\n",
              "      <td>...</td>\n",
              "      <td>...</td>\n",
              "      <td>...</td>\n",
              "      <td>...</td>\n",
              "      <td>...</td>\n",
              "      <td>...</td>\n",
              "      <td>...</td>\n",
              "      <td>...</td>\n",
              "      <td>...</td>\n",
              "      <td>...</td>\n",
              "    </tr>\n",
              "    <tr>\n",
              "      <th>12405</th>\n",
              "      <td>12406</td>\n",
              "      <td>1/18/2021</td>\n",
              "      <td>1/17/2021</td>\n",
              "      <td>NaN</td>\n",
              "      <td>NaN</td>\n",
              "      <td>NaN</td>\n",
              "      <td>สมุทรสาคร</td>\n",
              "      <td>NaN</td>\n",
              "      <td>NaN</td>\n",
              "      <td>Cluster สมุทรสาคร</td>\n",
              "    </tr>\n",
              "    <tr>\n",
              "      <th>12406</th>\n",
              "      <td>12407</td>\n",
              "      <td>1/18/2021</td>\n",
              "      <td>1/17/2021</td>\n",
              "      <td>NaN</td>\n",
              "      <td>NaN</td>\n",
              "      <td>NaN</td>\n",
              "      <td>สมุทรสาคร</td>\n",
              "      <td>NaN</td>\n",
              "      <td>NaN</td>\n",
              "      <td>Cluster สมุทรสาคร</td>\n",
              "    </tr>\n",
              "    <tr>\n",
              "      <th>12407</th>\n",
              "      <td>12408</td>\n",
              "      <td>1/18/2021</td>\n",
              "      <td>1/17/2021</td>\n",
              "      <td>NaN</td>\n",
              "      <td>NaN</td>\n",
              "      <td>NaN</td>\n",
              "      <td>สมุทรสาคร</td>\n",
              "      <td>NaN</td>\n",
              "      <td>NaN</td>\n",
              "      <td>Cluster สมุทรสาคร</td>\n",
              "    </tr>\n",
              "    <tr>\n",
              "      <th>12408</th>\n",
              "      <td>12409</td>\n",
              "      <td>1/18/2021</td>\n",
              "      <td>1/17/2021</td>\n",
              "      <td>NaN</td>\n",
              "      <td>NaN</td>\n",
              "      <td>NaN</td>\n",
              "      <td>สมุทรสาคร</td>\n",
              "      <td>NaN</td>\n",
              "      <td>NaN</td>\n",
              "      <td>Cluster สมุทรสาคร</td>\n",
              "    </tr>\n",
              "    <tr>\n",
              "      <th>12409</th>\n",
              "      <td>12410</td>\n",
              "      <td>1/18/2021</td>\n",
              "      <td>1/17/2021</td>\n",
              "      <td>NaN</td>\n",
              "      <td>NaN</td>\n",
              "      <td>NaN</td>\n",
              "      <td>สมุทรสาคร</td>\n",
              "      <td>NaN</td>\n",
              "      <td>NaN</td>\n",
              "      <td>Cluster สมุทรสาคร</td>\n",
              "    </tr>\n",
              "  </tbody>\n",
              "</table>\n",
              "<p>1991 rows × 10 columns</p>\n",
              "</div>"
            ],
            "text/plain": [
              "         No.  ...                                         risk\n",
              "414      415  ...                                      สนามมวย\n",
              "529      530  ...  สัมผัสใกล้ชิดกับผู้ป่วยยืนยันรายก่อนหน้านี้\n",
              "555      556  ...                                      สนามมวย\n",
              "576      577  ...                                      สนามมวย\n",
              "588      589  ...                         อยู่ระหว่างการสอบสวน\n",
              "...      ...  ...                                          ...\n",
              "12405  12406  ...                            Cluster สมุทรสาคร\n",
              "12406  12407  ...                            Cluster สมุทรสาคร\n",
              "12407  12408  ...                            Cluster สมุทรสาคร\n",
              "12408  12409  ...                            Cluster สมุทรสาคร\n",
              "12409  12410  ...                            Cluster สมุทรสาคร\n",
              "\n",
              "[1991 rows x 10 columns]"
            ]
          },
          "metadata": {
            "tags": []
          },
          "execution_count": 44
        }
      ]
    },
    {
      "cell_type": "code",
      "metadata": {
        "id": "lzTv-uZotpYE"
      },
      "source": [
        "this_data_updated2= this_data.fillna(value={ 'province_of_onset': 'ไม่รู้'})"
      ],
      "execution_count": 47,
      "outputs": []
    },
    {
      "cell_type": "code",
      "metadata": {
        "id": "2xAK9OE8t1qc"
      },
      "source": [
        ""
      ],
      "execution_count": null,
      "outputs": []
    },
    {
      "cell_type": "code",
      "metadata": {
        "id": "Giq6cIDjr_Yn"
      },
      "source": [
        ""
      ],
      "execution_count": 48,
      "outputs": []
    },
    {
      "cell_type": "markdown",
      "metadata": {
        "id": "VZEfnaM8t32O"
      },
      "source": [
        "### การวนลูป record ในตาราง (interrows)"
      ]
    },
    {
      "cell_type": "code",
      "metadata": {
        "id": "3ftYxe4euCJ2",
        "colab": {
          "base_uri": "https://localhost:8080/"
        },
        "outputId": "d99ba25f-22b3-476e-cc61-d6abc55ba7e2"
      },
      "source": [
        "for each_row in this_data.iterrows():\r\n",
        "   #print(each_row)\r\n",
        "   #print(each_row[1])\r\n",
        "  if each_row[1]['age']== 20 and (each_row[1]['province_of_onset']=='ขอนแก่น'):\r\n",
        "       print(each_row)"
      ],
      "execution_count": 40,
      "outputs": [
        {
          "output_type": "stream",
          "text": [
            "(9334, sex                      ชาย\n",
            "age                       20\n",
            "province_of_onset    ขอนแก่น\n",
            "Name: 9334, dtype: object)\n"
          ],
          "name": "stdout"
        }
      ]
    },
    {
      "cell_type": "code",
      "metadata": {
        "id": "W1CvwMZAuRIj"
      },
      "source": [
        ""
      ],
      "execution_count": 40,
      "outputs": []
    },
    {
      "cell_type": "markdown",
      "metadata": {
        "id": "fCUSsEM2ppJE"
      },
      "source": [
        "### การวนลูป แบบมองตารางแพนด้าส์(pandas dataframe) เป็น numpy array (```.iloc```)"
      ]
    },
    {
      "cell_type": "code",
      "metadata": {
        "colab": {
          "base_uri": "https://localhost:8080/"
        },
        "id": "iMJ-HirAss1Q",
        "outputId": "f28296b2-0f20-4bd4-fb9f-36a233cda19d"
      },
      "source": [
        "for each_row in range(this_data.shape[0]):\r\n",
        "    if (this_data.iloc[each_row,1]==20 ) and (this_data.iloc[each_row,2]=='ขอนแก่น'): #each_row คือ ตัวเลข\r\n",
        "     print(each_row)\r\n",
        "     print(this_data.iloc[each_row,:])\r\n",
        "\r\n",
        "     "
      ],
      "execution_count": 73,
      "outputs": [
        {
          "output_type": "stream",
          "text": [
            "9334\n",
            "sex                      ชาย\n",
            "age                       20\n",
            "province_of_onset    ขอนแก่น\n",
            "Name: 9334, dtype: object\n"
          ],
          "name": "stdout"
        }
      ]
    },
    {
      "cell_type": "code",
      "metadata": {
        "id": "wUgbIgDtuJq6"
      },
      "source": [
        ""
      ],
      "execution_count": 67,
      "outputs": []
    },
    {
      "cell_type": "markdown",
      "metadata": {
        "id": "A3vkZx_f0Yxl"
      },
      "source": [
        "###### quite ตัดตารางออกมาเฉพาะปี2021 วนลูบเพื่อตัดมาเฉพาะที่เป็นปี2021"
      ]
    },
    {
      "cell_type": "code",
      "metadata": {
        "colab": {
          "base_uri": "https://localhost:8080/"
        },
        "id": "icPC90CI2BKj",
        "outputId": "a38c8a7a-122c-4100-b92d-1972829cdd82"
      },
      "source": [
        "data_covid['announce_date']"
      ],
      "execution_count": 100,
      "outputs": [
        {
          "output_type": "execute_result",
          "data": {
            "text/plain": [
              "0        1/12/2020\n",
              "1        1/17/2020\n",
              "2        1/22/2020\n",
              "3        1/22/2020\n",
              "4        1/24/2020\n",
              "           ...    \n",
              "12418    1/18/2021\n",
              "12419    1/18/2021\n",
              "12420    1/18/2021\n",
              "12421    1/18/2021\n",
              "12422    1/18/2021\n",
              "Name: announce_date, Length: 12423, dtype: object"
            ]
          },
          "metadata": {
            "tags": []
          },
          "execution_count": 100
        }
      ]
    },
    {
      "cell_type": "code",
      "metadata": {
        "colab": {
          "base_uri": "https://localhost:8080/"
        },
        "id": "Ji6F4wICvY59",
        "outputId": "47f8b834-2328-49c6-96fd-49e9b8ffc4cf"
      },
      "source": [
        "data_covid['announce_date']\r\n",
        "province_1 =data_covid['sex']\r\n",
        "date=province_1[data_covid['announce_date']=='2021']\r\n",
        "print(date)"
      ],
      "execution_count": 87,
      "outputs": [
        {
          "output_type": "stream",
          "text": [
            "Series([], Name: sex, dtype: object)\n"
          ],
          "name": "stdout"
        }
      ]
    },
    {
      "cell_type": "code",
      "metadata": {
        "id": "HrIeaZIf9dHc",
        "outputId": "37651428-4382-4492-d957-d08a05456381",
        "colab": {
          "base_uri": "https://localhost:8080/",
          "height": 215
        }
      },
      "source": [
        "for  each_row in range(data_covid['announce_date']):\r\n",
        "  if data_covid['announce_date']=='2021' :\r\n",
        "     print(each_row)\r\n",
        "     print(data_covid.iloc[each_row])"
      ],
      "execution_count": 101,
      "outputs": [
        {
          "output_type": "error",
          "ename": "TypeError",
          "evalue": "ignored",
          "traceback": [
            "\u001b[0;31m---------------------------------------------------------------------------\u001b[0m",
            "\u001b[0;31mTypeError\u001b[0m                                 Traceback (most recent call last)",
            "\u001b[0;32m<ipython-input-101-c78ae3a74666>\u001b[0m in \u001b[0;36m<module>\u001b[0;34m()\u001b[0m\n\u001b[0;32m----> 1\u001b[0;31m \u001b[0;32mfor\u001b[0m  \u001b[0meach_row\u001b[0m \u001b[0;32min\u001b[0m \u001b[0mrange\u001b[0m\u001b[0;34m(\u001b[0m\u001b[0mdata_covid\u001b[0m\u001b[0;34m[\u001b[0m\u001b[0;34m'announce_date'\u001b[0m\u001b[0;34m]\u001b[0m\u001b[0;34m)\u001b[0m\u001b[0;34m:\u001b[0m\u001b[0;34m\u001b[0m\u001b[0;34m\u001b[0m\u001b[0m\n\u001b[0m\u001b[1;32m      2\u001b[0m   \u001b[0;32mif\u001b[0m \u001b[0mdata_covid\u001b[0m\u001b[0;34m[\u001b[0m\u001b[0;34m'announce_date'\u001b[0m\u001b[0;34m]\u001b[0m\u001b[0;34m==\u001b[0m\u001b[0;34m'2021'\u001b[0m \u001b[0;34m:\u001b[0m\u001b[0;34m\u001b[0m\u001b[0;34m\u001b[0m\u001b[0m\n\u001b[1;32m      3\u001b[0m      \u001b[0mprint\u001b[0m\u001b[0;34m(\u001b[0m\u001b[0meach_row\u001b[0m\u001b[0;34m)\u001b[0m\u001b[0;34m\u001b[0m\u001b[0;34m\u001b[0m\u001b[0m\n\u001b[1;32m      4\u001b[0m      \u001b[0mprint\u001b[0m\u001b[0;34m(\u001b[0m\u001b[0mdata_covid\u001b[0m\u001b[0;34m.\u001b[0m\u001b[0miloc\u001b[0m\u001b[0;34m[\u001b[0m\u001b[0meach_row\u001b[0m\u001b[0;34m]\u001b[0m\u001b[0;34m)\u001b[0m\u001b[0;34m\u001b[0m\u001b[0;34m\u001b[0m\u001b[0m\n",
            "\u001b[0;31mTypeError\u001b[0m: 'Series' object cannot be interpreted as an integer"
          ]
        }
      ]
    },
    {
      "cell_type": "code",
      "metadata": {
        "colab": {
          "base_uri": "https://localhost:8080/",
          "height": 215
        },
        "id": "Q5FEPOtm0vYa",
        "outputId": "002c88b0-d411-419e-d6ad-624eb9b53704"
      },
      "source": [
        "for  each_row in range(data_covid['announce_date']):\r\n",
        "  if this_data.iloc[data_covid['announce_date']=='2021'] :\r\n",
        "     print(each_row)\r\n",
        "     print(data_covid.iloc[each_row])\r\n"
      ],
      "execution_count": 90,
      "outputs": [
        {
          "output_type": "error",
          "ename": "TypeError",
          "evalue": "ignored",
          "traceback": [
            "\u001b[0;31m---------------------------------------------------------------------------\u001b[0m",
            "\u001b[0;31mTypeError\u001b[0m                                 Traceback (most recent call last)",
            "\u001b[0;32m<ipython-input-90-6b7ecc57b90c>\u001b[0m in \u001b[0;36m<module>\u001b[0;34m()\u001b[0m\n\u001b[0;32m----> 1\u001b[0;31m \u001b[0;32mfor\u001b[0m  \u001b[0meach_row\u001b[0m \u001b[0;32min\u001b[0m \u001b[0mrange\u001b[0m\u001b[0;34m(\u001b[0m\u001b[0mdata_covid\u001b[0m\u001b[0;34m[\u001b[0m\u001b[0;34m'announce_date'\u001b[0m\u001b[0;34m]\u001b[0m\u001b[0;34m)\u001b[0m\u001b[0;34m:\u001b[0m\u001b[0;34m\u001b[0m\u001b[0;34m\u001b[0m\u001b[0m\n\u001b[0m\u001b[1;32m      2\u001b[0m   \u001b[0;32mif\u001b[0m \u001b[0mthis_data\u001b[0m\u001b[0;34m.\u001b[0m\u001b[0miloc\u001b[0m\u001b[0;34m[\u001b[0m\u001b[0mdata_covid\u001b[0m\u001b[0;34m[\u001b[0m\u001b[0;34m'announce_date'\u001b[0m\u001b[0;34m]\u001b[0m\u001b[0;34m==\u001b[0m\u001b[0;34m'2021'\u001b[0m\u001b[0;34m]\u001b[0m \u001b[0;34m:\u001b[0m\u001b[0;34m\u001b[0m\u001b[0;34m\u001b[0m\u001b[0m\n\u001b[1;32m      3\u001b[0m      \u001b[0mprint\u001b[0m\u001b[0;34m(\u001b[0m\u001b[0meach_row\u001b[0m\u001b[0;34m)\u001b[0m\u001b[0;34m\u001b[0m\u001b[0;34m\u001b[0m\u001b[0m\n\u001b[1;32m      4\u001b[0m      \u001b[0mprint\u001b[0m\u001b[0;34m(\u001b[0m\u001b[0mdata_covid\u001b[0m\u001b[0;34m.\u001b[0m\u001b[0miloc\u001b[0m\u001b[0;34m[\u001b[0m\u001b[0meach_row\u001b[0m\u001b[0;34m]\u001b[0m\u001b[0;34m)\u001b[0m\u001b[0;34m\u001b[0m\u001b[0;34m\u001b[0m\u001b[0m\n",
            "\u001b[0;31mTypeError\u001b[0m: 'Series' object cannot be interpreted as an integer"
          ]
        }
      ]
    },
    {
      "cell_type": "code",
      "metadata": {
        "colab": {
          "base_uri": "https://localhost:8080/",
          "height": 596
        },
        "id": "6fNR7dxb5cx5",
        "outputId": "f0d32325-ed74-4715-a4d5-f17e400df084"
      },
      "source": [
        "for  each_row in range(data_covid.shape[0]):\r\n",
        "  if data_covid.iloc[data_covid[each_row,1]=='2021'] :\r\n",
        "     print(each_row)\r\n",
        "     print(data_covid.iloc[each_row])"
      ],
      "execution_count": 105,
      "outputs": [
        {
          "output_type": "error",
          "ename": "KeyError",
          "evalue": "ignored",
          "traceback": [
            "\u001b[0;31m---------------------------------------------------------------------------\u001b[0m",
            "\u001b[0;31mKeyError\u001b[0m                                  Traceback (most recent call last)",
            "\u001b[0;32m/usr/local/lib/python3.6/dist-packages/pandas/core/indexes/base.py\u001b[0m in \u001b[0;36mget_loc\u001b[0;34m(self, key, method, tolerance)\u001b[0m\n\u001b[1;32m   2897\u001b[0m             \u001b[0;32mtry\u001b[0m\u001b[0;34m:\u001b[0m\u001b[0;34m\u001b[0m\u001b[0;34m\u001b[0m\u001b[0m\n\u001b[0;32m-> 2898\u001b[0;31m                 \u001b[0;32mreturn\u001b[0m \u001b[0mself\u001b[0m\u001b[0;34m.\u001b[0m\u001b[0m_engine\u001b[0m\u001b[0;34m.\u001b[0m\u001b[0mget_loc\u001b[0m\u001b[0;34m(\u001b[0m\u001b[0mcasted_key\u001b[0m\u001b[0;34m)\u001b[0m\u001b[0;34m\u001b[0m\u001b[0;34m\u001b[0m\u001b[0m\n\u001b[0m\u001b[1;32m   2899\u001b[0m             \u001b[0;32mexcept\u001b[0m \u001b[0mKeyError\u001b[0m \u001b[0;32mas\u001b[0m \u001b[0merr\u001b[0m\u001b[0;34m:\u001b[0m\u001b[0;34m\u001b[0m\u001b[0;34m\u001b[0m\u001b[0m\n",
            "\u001b[0;32mpandas/_libs/index.pyx\u001b[0m in \u001b[0;36mpandas._libs.index.IndexEngine.get_loc\u001b[0;34m()\u001b[0m\n",
            "\u001b[0;32mpandas/_libs/index.pyx\u001b[0m in \u001b[0;36mpandas._libs.index.IndexEngine.get_loc\u001b[0;34m()\u001b[0m\n",
            "\u001b[0;32mpandas/_libs/hashtable_class_helper.pxi\u001b[0m in \u001b[0;36mpandas._libs.hashtable.PyObjectHashTable.get_item\u001b[0;34m()\u001b[0m\n",
            "\u001b[0;32mpandas/_libs/hashtable_class_helper.pxi\u001b[0m in \u001b[0;36mpandas._libs.hashtable.PyObjectHashTable.get_item\u001b[0;34m()\u001b[0m\n",
            "\u001b[0;31mKeyError\u001b[0m: (0, 1)",
            "\nThe above exception was the direct cause of the following exception:\n",
            "\u001b[0;31mKeyError\u001b[0m                                  Traceback (most recent call last)",
            "\u001b[0;32m<ipython-input-105-0063cac67b61>\u001b[0m in \u001b[0;36m<module>\u001b[0;34m()\u001b[0m\n\u001b[1;32m      1\u001b[0m \u001b[0;32mfor\u001b[0m  \u001b[0meach_row\u001b[0m \u001b[0;32min\u001b[0m \u001b[0mrange\u001b[0m\u001b[0;34m(\u001b[0m\u001b[0mdata_covid\u001b[0m\u001b[0;34m.\u001b[0m\u001b[0mshape\u001b[0m\u001b[0;34m[\u001b[0m\u001b[0;36m0\u001b[0m\u001b[0;34m]\u001b[0m\u001b[0;34m)\u001b[0m\u001b[0;34m:\u001b[0m\u001b[0;34m\u001b[0m\u001b[0;34m\u001b[0m\u001b[0m\n\u001b[0;32m----> 2\u001b[0;31m   \u001b[0;32mif\u001b[0m \u001b[0mdata_covid\u001b[0m\u001b[0;34m.\u001b[0m\u001b[0miloc\u001b[0m\u001b[0;34m[\u001b[0m\u001b[0mdata_covid\u001b[0m\u001b[0;34m[\u001b[0m\u001b[0meach_row\u001b[0m\u001b[0;34m,\u001b[0m\u001b[0;36m1\u001b[0m\u001b[0;34m]\u001b[0m\u001b[0;34m==\u001b[0m\u001b[0;34m'2021'\u001b[0m\u001b[0;34m]\u001b[0m \u001b[0;34m:\u001b[0m\u001b[0;34m\u001b[0m\u001b[0;34m\u001b[0m\u001b[0m\n\u001b[0m\u001b[1;32m      3\u001b[0m      \u001b[0mprint\u001b[0m\u001b[0;34m(\u001b[0m\u001b[0meach_row\u001b[0m\u001b[0;34m)\u001b[0m\u001b[0;34m\u001b[0m\u001b[0;34m\u001b[0m\u001b[0m\n\u001b[1;32m      4\u001b[0m      \u001b[0mprint\u001b[0m\u001b[0;34m(\u001b[0m\u001b[0mdata_covid\u001b[0m\u001b[0;34m.\u001b[0m\u001b[0miloc\u001b[0m\u001b[0;34m[\u001b[0m\u001b[0meach_row\u001b[0m\u001b[0;34m]\u001b[0m\u001b[0;34m)\u001b[0m\u001b[0;34m\u001b[0m\u001b[0;34m\u001b[0m\u001b[0m\n",
            "\u001b[0;32m/usr/local/lib/python3.6/dist-packages/pandas/core/frame.py\u001b[0m in \u001b[0;36m__getitem__\u001b[0;34m(self, key)\u001b[0m\n\u001b[1;32m   2904\u001b[0m             \u001b[0;32mif\u001b[0m \u001b[0mself\u001b[0m\u001b[0;34m.\u001b[0m\u001b[0mcolumns\u001b[0m\u001b[0;34m.\u001b[0m\u001b[0mnlevels\u001b[0m \u001b[0;34m>\u001b[0m \u001b[0;36m1\u001b[0m\u001b[0;34m:\u001b[0m\u001b[0;34m\u001b[0m\u001b[0;34m\u001b[0m\u001b[0m\n\u001b[1;32m   2905\u001b[0m                 \u001b[0;32mreturn\u001b[0m \u001b[0mself\u001b[0m\u001b[0;34m.\u001b[0m\u001b[0m_getitem_multilevel\u001b[0m\u001b[0;34m(\u001b[0m\u001b[0mkey\u001b[0m\u001b[0;34m)\u001b[0m\u001b[0;34m\u001b[0m\u001b[0;34m\u001b[0m\u001b[0m\n\u001b[0;32m-> 2906\u001b[0;31m             \u001b[0mindexer\u001b[0m \u001b[0;34m=\u001b[0m \u001b[0mself\u001b[0m\u001b[0;34m.\u001b[0m\u001b[0mcolumns\u001b[0m\u001b[0;34m.\u001b[0m\u001b[0mget_loc\u001b[0m\u001b[0;34m(\u001b[0m\u001b[0mkey\u001b[0m\u001b[0;34m)\u001b[0m\u001b[0;34m\u001b[0m\u001b[0;34m\u001b[0m\u001b[0m\n\u001b[0m\u001b[1;32m   2907\u001b[0m             \u001b[0;32mif\u001b[0m \u001b[0mis_integer\u001b[0m\u001b[0;34m(\u001b[0m\u001b[0mindexer\u001b[0m\u001b[0;34m)\u001b[0m\u001b[0;34m:\u001b[0m\u001b[0;34m\u001b[0m\u001b[0;34m\u001b[0m\u001b[0m\n\u001b[1;32m   2908\u001b[0m                 \u001b[0mindexer\u001b[0m \u001b[0;34m=\u001b[0m \u001b[0;34m[\u001b[0m\u001b[0mindexer\u001b[0m\u001b[0;34m]\u001b[0m\u001b[0;34m\u001b[0m\u001b[0;34m\u001b[0m\u001b[0m\n",
            "\u001b[0;32m/usr/local/lib/python3.6/dist-packages/pandas/core/indexes/base.py\u001b[0m in \u001b[0;36mget_loc\u001b[0;34m(self, key, method, tolerance)\u001b[0m\n\u001b[1;32m   2898\u001b[0m                 \u001b[0;32mreturn\u001b[0m \u001b[0mself\u001b[0m\u001b[0;34m.\u001b[0m\u001b[0m_engine\u001b[0m\u001b[0;34m.\u001b[0m\u001b[0mget_loc\u001b[0m\u001b[0;34m(\u001b[0m\u001b[0mcasted_key\u001b[0m\u001b[0;34m)\u001b[0m\u001b[0;34m\u001b[0m\u001b[0;34m\u001b[0m\u001b[0m\n\u001b[1;32m   2899\u001b[0m             \u001b[0;32mexcept\u001b[0m \u001b[0mKeyError\u001b[0m \u001b[0;32mas\u001b[0m \u001b[0merr\u001b[0m\u001b[0;34m:\u001b[0m\u001b[0;34m\u001b[0m\u001b[0;34m\u001b[0m\u001b[0m\n\u001b[0;32m-> 2900\u001b[0;31m                 \u001b[0;32mraise\u001b[0m \u001b[0mKeyError\u001b[0m\u001b[0;34m(\u001b[0m\u001b[0mkey\u001b[0m\u001b[0;34m)\u001b[0m \u001b[0;32mfrom\u001b[0m \u001b[0merr\u001b[0m\u001b[0;34m\u001b[0m\u001b[0;34m\u001b[0m\u001b[0m\n\u001b[0m\u001b[1;32m   2901\u001b[0m \u001b[0;34m\u001b[0m\u001b[0m\n\u001b[1;32m   2902\u001b[0m         \u001b[0;32mif\u001b[0m \u001b[0mtolerance\u001b[0m \u001b[0;32mis\u001b[0m \u001b[0;32mnot\u001b[0m \u001b[0;32mNone\u001b[0m\u001b[0;34m:\u001b[0m\u001b[0;34m\u001b[0m\u001b[0;34m\u001b[0m\u001b[0m\n",
            "\u001b[0;31mKeyError\u001b[0m: (0, 1)"
          ]
        }
      ]
    },
    {
      "cell_type": "markdown",
      "metadata": {
        "id": "WGmHwkuN83BF"
      },
      "source": [
        "เฉลย"
      ]
    },
    {
      "cell_type": "code",
      "metadata": {
        "colab": {
          "base_uri": "https://localhost:8080/",
          "height": 377
        },
        "id": "lNbVoYBf5gqT",
        "outputId": "19b4dbfb-ec78-4983-bd9b-40a6ac8e913d"
      },
      "source": [
        "TF=list()\r\n",
        "for each_row in data_covid.iterrows():\r\n",
        "     if each_row[1]['announce_date'].split('/')[2]=='2021':\r\n",
        "        TF.append(True)\r\n",
        "     else : \r\n",
        "        TF.append(False)\r\n",
        "  \r\n",
        "data_covid[TF].head() \r\n"
      ],
      "execution_count": 125,
      "outputs": [
        {
          "output_type": "execute_result",
          "data": {
            "text/html": [
              "<div>\n",
              "<style scoped>\n",
              "    .dataframe tbody tr th:only-of-type {\n",
              "        vertical-align: middle;\n",
              "    }\n",
              "\n",
              "    .dataframe tbody tr th {\n",
              "        vertical-align: top;\n",
              "    }\n",
              "\n",
              "    .dataframe thead th {\n",
              "        text-align: right;\n",
              "    }\n",
              "</style>\n",
              "<table border=\"1\" class=\"dataframe\">\n",
              "  <thead>\n",
              "    <tr style=\"text-align: right;\">\n",
              "      <th></th>\n",
              "      <th>No.</th>\n",
              "      <th>announce_date</th>\n",
              "      <th>notification_date</th>\n",
              "      <th>sex</th>\n",
              "      <th>age</th>\n",
              "      <th>nationality</th>\n",
              "      <th>province_of_isolation</th>\n",
              "      <th>province_of_onset</th>\n",
              "      <th>district_of_onset</th>\n",
              "      <th>risk</th>\n",
              "    </tr>\n",
              "  </thead>\n",
              "  <tbody>\n",
              "    <tr>\n",
              "      <th>6884</th>\n",
              "      <td>6885</td>\n",
              "      <td>1/1/2021</td>\n",
              "      <td>12/31/2020</td>\n",
              "      <td>หญิง</td>\n",
              "      <td>40.0</td>\n",
              "      <td>Thailand</td>\n",
              "      <td>กรุงเทพมหานคร</td>\n",
              "      <td>ปทุมธานี</td>\n",
              "      <td>คลองหลวง</td>\n",
              "      <td>Cluster สมุทรสาคร</td>\n",
              "    </tr>\n",
              "    <tr>\n",
              "      <th>6885</th>\n",
              "      <td>6886</td>\n",
              "      <td>1/1/2021</td>\n",
              "      <td>12/31/2020</td>\n",
              "      <td>หญิง</td>\n",
              "      <td>21.0</td>\n",
              "      <td>Thailand</td>\n",
              "      <td>ปทุมธานี</td>\n",
              "      <td>ปทุมธานี</td>\n",
              "      <td>คลองหลวง</td>\n",
              "      <td>Cluster ระยอง</td>\n",
              "    </tr>\n",
              "    <tr>\n",
              "      <th>6886</th>\n",
              "      <td>6887</td>\n",
              "      <td>1/1/2021</td>\n",
              "      <td>12/31/2020</td>\n",
              "      <td>หญิง</td>\n",
              "      <td>20.0</td>\n",
              "      <td>Thailand</td>\n",
              "      <td>นครปฐม</td>\n",
              "      <td>นครปฐม</td>\n",
              "      <td>สามพราน</td>\n",
              "      <td>สถานบันเทิง</td>\n",
              "    </tr>\n",
              "    <tr>\n",
              "      <th>6887</th>\n",
              "      <td>6888</td>\n",
              "      <td>1/1/2021</td>\n",
              "      <td>12/31/2020</td>\n",
              "      <td>หญิง</td>\n",
              "      <td>47.0</td>\n",
              "      <td>Thailand</td>\n",
              "      <td>สมุทรสาคร</td>\n",
              "      <td>นครปฐม</td>\n",
              "      <td>สามพราน</td>\n",
              "      <td>Cluster สมุทรสาคร</td>\n",
              "    </tr>\n",
              "    <tr>\n",
              "      <th>6888</th>\n",
              "      <td>6889</td>\n",
              "      <td>1/1/2021</td>\n",
              "      <td>12/31/2020</td>\n",
              "      <td>หญิง</td>\n",
              "      <td>36.0</td>\n",
              "      <td>Cambodia</td>\n",
              "      <td>ปทุมธานี</td>\n",
              "      <td>กรุงเทพมหานคร</td>\n",
              "      <td>สายไหม</td>\n",
              "      <td>อาชีพเสี่ยง เช่น ทำงานในสถานที่แออัด หรือทำงาน...</td>\n",
              "    </tr>\n",
              "  </tbody>\n",
              "</table>\n",
              "</div>"
            ],
            "text/plain": [
              "       No.  ...                                               risk\n",
              "6884  6885  ...                                  Cluster สมุทรสาคร\n",
              "6885  6886  ...                                      Cluster ระยอง\n",
              "6886  6887  ...                                        สถานบันเทิง\n",
              "6887  6888  ...                                  Cluster สมุทรสาคร\n",
              "6888  6889  ...  อาชีพเสี่ยง เช่น ทำงานในสถานที่แออัด หรือทำงาน...\n",
              "\n",
              "[5 rows x 10 columns]"
            ]
          },
          "metadata": {
            "tags": []
          },
          "execution_count": 125
        }
      ]
    },
    {
      "cell_type": "markdown",
      "metadata": {
        "id": "YKZfz43cBD8q"
      },
      "source": [
        "# Function ตัวช่วยใน pandas"
      ]
    },
    {
      "cell_type": "markdown",
      "metadata": {
        "id": "R9MOf6ckCrXB"
      },
      "source": [
        "####```.describe()``` คำนวณค่าเฉลี่ยโดยไม่สนใจ missing"
      ]
    },
    {
      "cell_type": "code",
      "metadata": {
        "colab": {
          "base_uri": "https://localhost:8080/",
          "height": 297
        },
        "id": "Mhmt8bHX2g1X",
        "outputId": "caa3a353-f688-46a1-ca0f-ce08c91f9af5"
      },
      "source": [
        "data_covid.describe()"
      ],
      "execution_count": 126,
      "outputs": [
        {
          "output_type": "execute_result",
          "data": {
            "text/html": [
              "<div>\n",
              "<style scoped>\n",
              "    .dataframe tbody tr th:only-of-type {\n",
              "        vertical-align: middle;\n",
              "    }\n",
              "\n",
              "    .dataframe tbody tr th {\n",
              "        vertical-align: top;\n",
              "    }\n",
              "\n",
              "    .dataframe thead th {\n",
              "        text-align: right;\n",
              "    }\n",
              "</style>\n",
              "<table border=\"1\" class=\"dataframe\">\n",
              "  <thead>\n",
              "    <tr style=\"text-align: right;\">\n",
              "      <th></th>\n",
              "      <th>No.</th>\n",
              "      <th>age</th>\n",
              "    </tr>\n",
              "  </thead>\n",
              "  <tbody>\n",
              "    <tr>\n",
              "      <th>count</th>\n",
              "      <td>12423.000000</td>\n",
              "      <td>8656.000000</td>\n",
              "    </tr>\n",
              "    <tr>\n",
              "      <th>mean</th>\n",
              "      <td>6212.000000</td>\n",
              "      <td>38.143856</td>\n",
              "    </tr>\n",
              "    <tr>\n",
              "      <th>std</th>\n",
              "      <td>3586.355532</td>\n",
              "      <td>15.201953</td>\n",
              "    </tr>\n",
              "    <tr>\n",
              "      <th>min</th>\n",
              "      <td>1.000000</td>\n",
              "      <td>0.100000</td>\n",
              "    </tr>\n",
              "    <tr>\n",
              "      <th>25%</th>\n",
              "      <td>3106.500000</td>\n",
              "      <td>27.000000</td>\n",
              "    </tr>\n",
              "    <tr>\n",
              "      <th>50%</th>\n",
              "      <td>6212.000000</td>\n",
              "      <td>36.000000</td>\n",
              "    </tr>\n",
              "    <tr>\n",
              "      <th>75%</th>\n",
              "      <td>9317.500000</td>\n",
              "      <td>49.000000</td>\n",
              "    </tr>\n",
              "    <tr>\n",
              "      <th>max</th>\n",
              "      <td>12423.000000</td>\n",
              "      <td>97.000000</td>\n",
              "    </tr>\n",
              "  </tbody>\n",
              "</table>\n",
              "</div>"
            ],
            "text/plain": [
              "                No.          age\n",
              "count  12423.000000  8656.000000\n",
              "mean    6212.000000    38.143856\n",
              "std     3586.355532    15.201953\n",
              "min        1.000000     0.100000\n",
              "25%     3106.500000    27.000000\n",
              "50%     6212.000000    36.000000\n",
              "75%     9317.500000    49.000000\n",
              "max    12423.000000    97.000000"
            ]
          },
          "metadata": {
            "tags": []
          },
          "execution_count": 126
        }
      ]
    },
    {
      "cell_type": "markdown",
      "metadata": {
        "id": "B93ipTNrCRpO"
      },
      "source": [
        "####```.mean()``` คำนวณค่าเฉลี่ยโดยไม่สนใจ missing"
      ]
    },
    {
      "cell_type": "code",
      "metadata": {
        "id": "RAcujHqWBBjl",
        "outputId": "8d3315e5-e450-46a3-b597-934408a597b2",
        "colab": {
          "base_uri": "https://localhost:8080/"
        }
      },
      "source": [
        "data_covid[data_covid['sex']=='ชาย']['age'].mean()"
      ],
      "execution_count": 127,
      "outputs": [
        {
          "output_type": "execute_result",
          "data": {
            "text/plain": [
              "39.55682775996335"
            ]
          },
          "metadata": {
            "tags": []
          },
          "execution_count": 127
        }
      ]
    },
    {
      "cell_type": "markdown",
      "metadata": {
        "id": "1SzpYoVNC1WZ"
      },
      "source": [
        "```.isnull``` บอก True False"
      ]
    },
    {
      "cell_type": "code",
      "metadata": {
        "id": "EJkGrgNHCarf",
        "outputId": "5a058fdf-b298-4dab-f88f-c13d1df3cd77",
        "colab": {
          "base_uri": "https://localhost:8080/",
          "height": 439
        }
      },
      "source": [
        "data_covid.isnull()"
      ],
      "execution_count": 128,
      "outputs": [
        {
          "output_type": "execute_result",
          "data": {
            "text/html": [
              "<div>\n",
              "<style scoped>\n",
              "    .dataframe tbody tr th:only-of-type {\n",
              "        vertical-align: middle;\n",
              "    }\n",
              "\n",
              "    .dataframe tbody tr th {\n",
              "        vertical-align: top;\n",
              "    }\n",
              "\n",
              "    .dataframe thead th {\n",
              "        text-align: right;\n",
              "    }\n",
              "</style>\n",
              "<table border=\"1\" class=\"dataframe\">\n",
              "  <thead>\n",
              "    <tr style=\"text-align: right;\">\n",
              "      <th></th>\n",
              "      <th>No.</th>\n",
              "      <th>announce_date</th>\n",
              "      <th>notification_date</th>\n",
              "      <th>sex</th>\n",
              "      <th>age</th>\n",
              "      <th>nationality</th>\n",
              "      <th>province_of_isolation</th>\n",
              "      <th>province_of_onset</th>\n",
              "      <th>district_of_onset</th>\n",
              "      <th>risk</th>\n",
              "    </tr>\n",
              "  </thead>\n",
              "  <tbody>\n",
              "    <tr>\n",
              "      <th>0</th>\n",
              "      <td>False</td>\n",
              "      <td>False</td>\n",
              "      <td>True</td>\n",
              "      <td>False</td>\n",
              "      <td>False</td>\n",
              "      <td>False</td>\n",
              "      <td>False</td>\n",
              "      <td>False</td>\n",
              "      <td>True</td>\n",
              "      <td>False</td>\n",
              "    </tr>\n",
              "    <tr>\n",
              "      <th>1</th>\n",
              "      <td>False</td>\n",
              "      <td>False</td>\n",
              "      <td>True</td>\n",
              "      <td>False</td>\n",
              "      <td>False</td>\n",
              "      <td>False</td>\n",
              "      <td>False</td>\n",
              "      <td>False</td>\n",
              "      <td>True</td>\n",
              "      <td>False</td>\n",
              "    </tr>\n",
              "    <tr>\n",
              "      <th>2</th>\n",
              "      <td>False</td>\n",
              "      <td>False</td>\n",
              "      <td>True</td>\n",
              "      <td>False</td>\n",
              "      <td>False</td>\n",
              "      <td>False</td>\n",
              "      <td>False</td>\n",
              "      <td>False</td>\n",
              "      <td>False</td>\n",
              "      <td>False</td>\n",
              "    </tr>\n",
              "    <tr>\n",
              "      <th>3</th>\n",
              "      <td>False</td>\n",
              "      <td>False</td>\n",
              "      <td>True</td>\n",
              "      <td>False</td>\n",
              "      <td>False</td>\n",
              "      <td>False</td>\n",
              "      <td>False</td>\n",
              "      <td>False</td>\n",
              "      <td>True</td>\n",
              "      <td>False</td>\n",
              "    </tr>\n",
              "    <tr>\n",
              "      <th>4</th>\n",
              "      <td>False</td>\n",
              "      <td>False</td>\n",
              "      <td>True</td>\n",
              "      <td>False</td>\n",
              "      <td>False</td>\n",
              "      <td>False</td>\n",
              "      <td>False</td>\n",
              "      <td>False</td>\n",
              "      <td>True</td>\n",
              "      <td>False</td>\n",
              "    </tr>\n",
              "    <tr>\n",
              "      <th>...</th>\n",
              "      <td>...</td>\n",
              "      <td>...</td>\n",
              "      <td>...</td>\n",
              "      <td>...</td>\n",
              "      <td>...</td>\n",
              "      <td>...</td>\n",
              "      <td>...</td>\n",
              "      <td>...</td>\n",
              "      <td>...</td>\n",
              "      <td>...</td>\n",
              "    </tr>\n",
              "    <tr>\n",
              "      <th>12418</th>\n",
              "      <td>False</td>\n",
              "      <td>False</td>\n",
              "      <td>False</td>\n",
              "      <td>False</td>\n",
              "      <td>False</td>\n",
              "      <td>False</td>\n",
              "      <td>False</td>\n",
              "      <td>False</td>\n",
              "      <td>False</td>\n",
              "      <td>False</td>\n",
              "    </tr>\n",
              "    <tr>\n",
              "      <th>12419</th>\n",
              "      <td>False</td>\n",
              "      <td>False</td>\n",
              "      <td>False</td>\n",
              "      <td>False</td>\n",
              "      <td>False</td>\n",
              "      <td>False</td>\n",
              "      <td>False</td>\n",
              "      <td>False</td>\n",
              "      <td>False</td>\n",
              "      <td>False</td>\n",
              "    </tr>\n",
              "    <tr>\n",
              "      <th>12420</th>\n",
              "      <td>False</td>\n",
              "      <td>False</td>\n",
              "      <td>False</td>\n",
              "      <td>False</td>\n",
              "      <td>False</td>\n",
              "      <td>False</td>\n",
              "      <td>False</td>\n",
              "      <td>False</td>\n",
              "      <td>False</td>\n",
              "      <td>False</td>\n",
              "    </tr>\n",
              "    <tr>\n",
              "      <th>12421</th>\n",
              "      <td>False</td>\n",
              "      <td>False</td>\n",
              "      <td>False</td>\n",
              "      <td>False</td>\n",
              "      <td>False</td>\n",
              "      <td>False</td>\n",
              "      <td>False</td>\n",
              "      <td>False</td>\n",
              "      <td>False</td>\n",
              "      <td>False</td>\n",
              "    </tr>\n",
              "    <tr>\n",
              "      <th>12422</th>\n",
              "      <td>False</td>\n",
              "      <td>False</td>\n",
              "      <td>False</td>\n",
              "      <td>False</td>\n",
              "      <td>False</td>\n",
              "      <td>False</td>\n",
              "      <td>False</td>\n",
              "      <td>False</td>\n",
              "      <td>False</td>\n",
              "      <td>False</td>\n",
              "    </tr>\n",
              "  </tbody>\n",
              "</table>\n",
              "<p>12423 rows × 10 columns</p>\n",
              "</div>"
            ],
            "text/plain": [
              "         No.  announce_date  ...  district_of_onset   risk\n",
              "0      False          False  ...               True  False\n",
              "1      False          False  ...               True  False\n",
              "2      False          False  ...              False  False\n",
              "3      False          False  ...               True  False\n",
              "4      False          False  ...               True  False\n",
              "...      ...            ...  ...                ...    ...\n",
              "12418  False          False  ...              False  False\n",
              "12419  False          False  ...              False  False\n",
              "12420  False          False  ...              False  False\n",
              "12421  False          False  ...              False  False\n",
              "12422  False          False  ...              False  False\n",
              "\n",
              "[12423 rows x 10 columns]"
            ]
          },
          "metadata": {
            "tags": []
          },
          "execution_count": 128
        }
      ]
    },
    {
      "cell_type": "code",
      "metadata": {
        "id": "_S_GazJdCzef",
        "outputId": "6096835e-3b51-4a4f-cd44-82820b1a7df2",
        "colab": {
          "base_uri": "https://localhost:8080/"
        }
      },
      "source": [
        "data_covid['sex'][4391] "
      ],
      "execution_count": 131,
      "outputs": [
        {
          "output_type": "execute_result",
          "data": {
            "text/plain": [
              "nan"
            ]
          },
          "metadata": {
            "tags": []
          },
          "execution_count": 131
        }
      ]
    },
    {
      "cell_type": "code",
      "metadata": {
        "id": "Q_yGabQHDIBc"
      },
      "source": [
        ""
      ],
      "execution_count": null,
      "outputs": []
    }
  ]
}