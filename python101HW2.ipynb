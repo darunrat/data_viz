{
  "nbformat": 4,
  "nbformat_minor": 0,
  "metadata": {
    "colab": {
      "name": "python101HW.ipynb",
      "provenance": [],
      "authorship_tag": "ABX9TyNsUf52WifMUML2085fYfH7",
      "include_colab_link": true
    },
    "kernelspec": {
      "name": "python3",
      "display_name": "Python 3"
    }
  },
  "cells": [
    {
      "cell_type": "markdown",
      "metadata": {
        "id": "view-in-github",
        "colab_type": "text"
      },
      "source": [
        "<a href=\"https://colab.research.google.com/github/darunrat/data_viz/blob/main/python101HW2.ipynb\" target=\"_parent\"><img src=\"https://colab.research.google.com/assets/colab-badge.svg\" alt=\"Open In Colab\"/></a>"
      ]
    },
    {
      "cell_type": "code",
      "metadata": {
        "id": "uHLMYWlgExcz"
      },
      "source": [
        ""
      ],
      "execution_count": null,
      "outputs": []
    },
    {
      "cell_type": "markdown",
      "metadata": {
        "id": "ffDk_FO0E5E2"
      },
      "source": [
        "HW \r\n",
        "#####คำนวณเวลาเป็นวินาทีของเวลาต่อไปนี้โดยใช้คำสั่ง split()ช่วย\r\n",
        "#####12:30:15\r\n",
        "#####13:41:07\r\n",
        "#####12:53:15\r\n",
        "#####00:59:25\r\n",
        "#####11:11:11\r\n",
        "#####16:06:09\r\n"
      ]
    },
    {
      "cell_type": "markdown",
      "metadata": {
        "id": "jhqvWmlcvlSe"
      },
      "source": [
        "#-->>t แทนคำว่า time "
      ]
    },
    {
      "cell_type": "code",
      "metadata": {
        "colab": {
          "base_uri": "https://localhost:8080/"
        },
        "id": "rljTQOxNQxTh",
        "outputId": "2a7e7905-bc7c-4446-f842-28d1ca26abe8"
      },
      "source": [
        "t1='12:30:15'\r\n",
        "t1.split(':')"
      ],
      "execution_count": 13,
      "outputs": [
        {
          "output_type": "execute_result",
          "data": {
            "text/plain": [
              "['12', '30', '15']"
            ]
          },
          "metadata": {
            "tags": []
          },
          "execution_count": 13
        }
      ]
    },
    {
      "cell_type": "code",
      "metadata": {
        "colab": {
          "base_uri": "https://localhost:8080/"
        },
        "id": "v5w-zzp4tsPI",
        "outputId": "7e0b576c-946c-47de-9824-c406ea9b6366"
      },
      "source": [
        "t2='13:41:07'\r\n",
        "t2.split(':')"
      ],
      "execution_count": 14,
      "outputs": [
        {
          "output_type": "execute_result",
          "data": {
            "text/plain": [
              "['13', '41', '07']"
            ]
          },
          "metadata": {
            "tags": []
          },
          "execution_count": 14
        }
      ]
    },
    {
      "cell_type": "code",
      "metadata": {
        "colab": {
          "base_uri": "https://localhost:8080/"
        },
        "id": "YsZCu0dBt4mI",
        "outputId": "eb6a49d0-dc58-4301-af7d-6c390839c685"
      },
      "source": [
        "t3='12:53:15'\r\n",
        "t3.split(':')\r\n"
      ],
      "execution_count": 15,
      "outputs": [
        {
          "output_type": "execute_result",
          "data": {
            "text/plain": [
              "['12', '53', '15']"
            ]
          },
          "metadata": {
            "tags": []
          },
          "execution_count": 15
        }
      ]
    },
    {
      "cell_type": "code",
      "metadata": {
        "colab": {
          "base_uri": "https://localhost:8080/"
        },
        "id": "CVlPzCWzuZ1k",
        "outputId": "66c6370d-dd91-4151-a5ed-045279b24875"
      },
      "source": [
        "t4='00:59:25'\r\n",
        "t4.split(':')\r\n"
      ],
      "execution_count": 16,
      "outputs": [
        {
          "output_type": "execute_result",
          "data": {
            "text/plain": [
              "['00', '59', '25']"
            ]
          },
          "metadata": {
            "tags": []
          },
          "execution_count": 16
        }
      ]
    },
    {
      "cell_type": "code",
      "metadata": {
        "colab": {
          "base_uri": "https://localhost:8080/"
        },
        "id": "oU-VV9wVvAo-",
        "outputId": "e30c61bc-6f7e-4f82-d1fd-7f7a9593ad53"
      },
      "source": [
        "t5='11:11:11'\r\n",
        "t5.split(':')\r\n"
      ],
      "execution_count": 17,
      "outputs": [
        {
          "output_type": "execute_result",
          "data": {
            "text/plain": [
              "['11', '11', '11']"
            ]
          },
          "metadata": {
            "tags": []
          },
          "execution_count": 17
        }
      ]
    },
    {
      "cell_type": "code",
      "metadata": {
        "colab": {
          "base_uri": "https://localhost:8080/"
        },
        "id": "0zrWxo5YvAeo",
        "outputId": "10974c86-058a-4743-b530-56ebbb53496a"
      },
      "source": [
        "t6='16:06:09'\r\n",
        "t6.split(':') "
      ],
      "execution_count": 18,
      "outputs": [
        {
          "output_type": "execute_result",
          "data": {
            "text/plain": [
              "['16', '06', '09']"
            ]
          },
          "metadata": {
            "tags": []
          },
          "execution_count": 18
        }
      ]
    },
    {
      "cell_type": "markdown",
      "metadata": {
        "id": "vyuKEZbJws9X"
      },
      "source": [
        "#ข้อที่1 12:30:15"
      ]
    },
    {
      "cell_type": "code",
      "metadata": {
        "colab": {
          "base_uri": "https://localhost:8080/"
        },
        "id": "jD1hCnZxvIye",
        "outputId": "a838058a-5570-4c12-b11b-24ff64e6752c"
      },
      "source": [
        "list_a=t1.split(':')\r\n",
        "print(list_a)"
      ],
      "execution_count": 56,
      "outputs": [
        {
          "output_type": "stream",
          "text": [
            "['12', '30', '15']\n"
          ],
          "name": "stdout"
        }
      ]
    },
    {
      "cell_type": "code",
      "metadata": {
        "colab": {
          "base_uri": "https://localhost:8080/"
        },
        "id": "F9Sc18V2vIv3",
        "outputId": "09905ad0-ce92-4e38-9984-388edff105b9"
      },
      "source": [
        "list_a[0]\r\n",
        "a1=list_a[0]\r\n",
        "print(a1)"
      ],
      "execution_count": 103,
      "outputs": [
        {
          "output_type": "stream",
          "text": [
            "12\n"
          ],
          "name": "stdout"
        }
      ]
    },
    {
      "cell_type": "code",
      "metadata": {
        "colab": {
          "base_uri": "https://localhost:8080/"
        },
        "id": "73bR2xaivItO",
        "outputId": "e4170158-59e2-4d9a-d1ed-737578d9e485"
      },
      "source": [
        "list_a[1]\r\n",
        "b1=list_a[1]\r\n",
        "print(b1)"
      ],
      "execution_count": 104,
      "outputs": [
        {
          "output_type": "stream",
          "text": [
            "30\n"
          ],
          "name": "stdout"
        }
      ]
    },
    {
      "cell_type": "code",
      "metadata": {
        "colab": {
          "base_uri": "https://localhost:8080/"
        },
        "id": "PfTyZWMTvIgq",
        "outputId": "6622159e-1c21-4952-c78a-70fb0471c325"
      },
      "source": [
        "list_a[2]\r\n",
        "c1=list_a[2]\r\n",
        "print(c1)"
      ],
      "execution_count": 105,
      "outputs": [
        {
          "output_type": "stream",
          "text": [
            "15\n"
          ],
          "name": "stdout"
        }
      ]
    },
    {
      "cell_type": "code",
      "metadata": {
        "colab": {
          "base_uri": "https://localhost:8080/"
        },
        "id": "0qD1RbAvwz1e",
        "outputId": "de0c5d6f-9503-4f1c-bb64-d966f5efa50a"
      },
      "source": [
        "int(a1)*60*60"
      ],
      "execution_count": 107,
      "outputs": [
        {
          "output_type": "execute_result",
          "data": {
            "text/plain": [
              "43200"
            ]
          },
          "metadata": {
            "tags": []
          },
          "execution_count": 107
        }
      ]
    },
    {
      "cell_type": "code",
      "metadata": {
        "colab": {
          "base_uri": "https://localhost:8080/"
        },
        "id": "_zR3mwq6xXq_",
        "outputId": "b1bfbc8e-b516-4875-e4d8-5aecc4572ed0"
      },
      "source": [
        "int(b1)*60"
      ],
      "execution_count": 108,
      "outputs": [
        {
          "output_type": "execute_result",
          "data": {
            "text/plain": [
              "1800"
            ]
          },
          "metadata": {
            "tags": []
          },
          "execution_count": 108
        }
      ]
    },
    {
      "cell_type": "code",
      "metadata": {
        "colab": {
          "base_uri": "https://localhost:8080/"
        },
        "id": "oJk8x-sBxXjO",
        "outputId": "1cdc2f5c-230e-48e4-9419-06c79c085a1a"
      },
      "source": [
        "int(c1)"
      ],
      "execution_count": 109,
      "outputs": [
        {
          "output_type": "execute_result",
          "data": {
            "text/plain": [
              "15"
            ]
          },
          "metadata": {
            "tags": []
          },
          "execution_count": 109
        }
      ]
    },
    {
      "cell_type": "code",
      "metadata": {
        "id": "1nodfg1nw4j0"
      },
      "source": [
        "A1=int(a1)*60*60\r\n",
        "B1=int(b1)*60\r\n",
        "C1=int(c1)"
      ],
      "execution_count": 111,
      "outputs": []
    },
    {
      "cell_type": "code",
      "metadata": {
        "colab": {
          "base_uri": "https://localhost:8080/"
        },
        "id": "BHP30e4Zw932",
        "outputId": "d711ff70-3067-4b08-dbee-37666e6d238b"
      },
      "source": [
        "A1+B1+C1"
      ],
      "execution_count": 112,
      "outputs": [
        {
          "output_type": "execute_result",
          "data": {
            "text/plain": [
              "45015"
            ]
          },
          "metadata": {
            "tags": []
          },
          "execution_count": 112
        }
      ]
    },
    {
      "cell_type": "markdown",
      "metadata": {
        "id": "94Y9RVWK7D0K"
      },
      "source": [
        "#### ตอบ 45015 วินาที\r\n"
      ]
    },
    {
      "cell_type": "markdown",
      "metadata": {
        "id": "goxa2otzxm7x"
      },
      "source": [
        "#ข้อที่2 13:41:07"
      ]
    },
    {
      "cell_type": "code",
      "metadata": {
        "colab": {
          "base_uri": "https://localhost:8080/"
        },
        "id": "CCOzFyODyi7V",
        "outputId": "59a278ac-517c-4963-d98a-f20e1ccb74e1"
      },
      "source": [
        "list_b=t2.split(':')\r\n",
        "print(list_b)"
      ],
      "execution_count": 54,
      "outputs": [
        {
          "output_type": "stream",
          "text": [
            "['13', '41', '07']\n"
          ],
          "name": "stdout"
        }
      ]
    },
    {
      "cell_type": "code",
      "metadata": {
        "colab": {
          "base_uri": "https://localhost:8080/"
        },
        "id": "9QkQbxcjy4g4",
        "outputId": "e20161fa-f62e-47fe-de14-9e294bb7da93"
      },
      "source": [
        "list_b[0]\r\n",
        "a2=list_b[0]\r\n",
        "print(a2)"
      ],
      "execution_count": 78,
      "outputs": [
        {
          "output_type": "stream",
          "text": [
            "13\n"
          ],
          "name": "stdout"
        }
      ]
    },
    {
      "cell_type": "code",
      "metadata": {
        "colab": {
          "base_uri": "https://localhost:8080/"
        },
        "id": "9bE3XJDmy4yv",
        "outputId": "7828802a-6781-432c-d705-e277f088b9e1"
      },
      "source": [
        "list_b[1]\r\n",
        "b2=list_b[1]\r\n",
        "print(b2)"
      ],
      "execution_count": 77,
      "outputs": [
        {
          "output_type": "stream",
          "text": [
            "41\n"
          ],
          "name": "stdout"
        }
      ]
    },
    {
      "cell_type": "code",
      "metadata": {
        "colab": {
          "base_uri": "https://localhost:8080/"
        },
        "id": "vxw30nE7y497",
        "outputId": "28683963-f442-4a79-9e15-405bc7729be7"
      },
      "source": [
        "list_b[2]\r\n",
        "c2=list_b[2]\r\n",
        "print(c2)"
      ],
      "execution_count": 76,
      "outputs": [
        {
          "output_type": "stream",
          "text": [
            "07\n"
          ],
          "name": "stdout"
        }
      ]
    },
    {
      "cell_type": "code",
      "metadata": {
        "colab": {
          "base_uri": "https://localhost:8080/"
        },
        "id": "fTYu13DD0YOc",
        "outputId": "5756d9e1-5c48-4560-ccd4-c89012f9972e"
      },
      "source": [
        "int(a2)*60*60"
      ],
      "execution_count": 102,
      "outputs": [
        {
          "output_type": "execute_result",
          "data": {
            "text/plain": [
              "46800"
            ]
          },
          "metadata": {
            "tags": []
          },
          "execution_count": 102
        }
      ]
    },
    {
      "cell_type": "code",
      "metadata": {
        "colab": {
          "base_uri": "https://localhost:8080/"
        },
        "id": "Oc9-oGp90thL",
        "outputId": "48ac06cf-3377-496d-e458-710d6fb98e9f"
      },
      "source": [
        "int(b2)*3600"
      ],
      "execution_count": 80,
      "outputs": [
        {
          "output_type": "execute_result",
          "data": {
            "text/plain": [
              "147600"
            ]
          },
          "metadata": {
            "tags": []
          },
          "execution_count": 80
        }
      ]
    },
    {
      "cell_type": "code",
      "metadata": {
        "colab": {
          "base_uri": "https://localhost:8080/"
        },
        "id": "yOJLYGbw0tsN",
        "outputId": "08157c5e-0a11-4f6d-85dc-4259032f743b"
      },
      "source": [
        "int(c2)"
      ],
      "execution_count": 81,
      "outputs": [
        {
          "output_type": "execute_result",
          "data": {
            "text/plain": [
              "7"
            ]
          },
          "metadata": {
            "tags": []
          },
          "execution_count": 81
        }
      ]
    },
    {
      "cell_type": "code",
      "metadata": {
        "id": "4LuhBr7w08fD"
      },
      "source": [
        "A2=int(a2)*3600\r\n",
        "B2=int(b2)*60\r\n",
        "C2=int(c2)"
      ],
      "execution_count": 82,
      "outputs": []
    },
    {
      "cell_type": "code",
      "metadata": {
        "colab": {
          "base_uri": "https://localhost:8080/"
        },
        "id": "zQtmYwlB00Vw",
        "outputId": "dfef7939-7041-4269-c61c-7a6ecd477d6e"
      },
      "source": [
        "A2+B2+C2"
      ],
      "execution_count": 83,
      "outputs": [
        {
          "output_type": "execute_result",
          "data": {
            "text/plain": [
              "49267"
            ]
          },
          "metadata": {
            "tags": []
          },
          "execution_count": 83
        }
      ]
    },
    {
      "cell_type": "markdown",
      "metadata": {
        "id": "csjOfvzM7RJ8"
      },
      "source": [
        "####ตอบ 49267 วินาที"
      ]
    },
    {
      "cell_type": "markdown",
      "metadata": {
        "id": "hTIuC5mwyDW5"
      },
      "source": [
        "#ข้อ3  12:53:15"
      ]
    },
    {
      "cell_type": "code",
      "metadata": {
        "colab": {
          "base_uri": "https://localhost:8080/"
        },
        "id": "hOYS21wIyoeH",
        "outputId": "69395a56-2df1-48e7-9d18-32300d60167e"
      },
      "source": [
        "list_c=t3.split(':')\r\n",
        "print(list_c)"
      ],
      "execution_count": 53,
      "outputs": [
        {
          "output_type": "stream",
          "text": [
            "['12', '53', '15']\n"
          ],
          "name": "stdout"
        }
      ]
    },
    {
      "cell_type": "code",
      "metadata": {
        "colab": {
          "base_uri": "https://localhost:8080/"
        },
        "id": "CX3dWkyIyn8e",
        "outputId": "9797369f-8cb3-4b32-8115-f00c3245f97d"
      },
      "source": [
        "list_c[0]\r\n",
        "a3=list_c[0]\r\n",
        "print(a3)"
      ],
      "execution_count": 84,
      "outputs": [
        {
          "output_type": "stream",
          "text": [
            "12\n"
          ],
          "name": "stdout"
        }
      ]
    },
    {
      "cell_type": "code",
      "metadata": {
        "colab": {
          "base_uri": "https://localhost:8080/"
        },
        "id": "v-9EW_pz1sqI",
        "outputId": "564fe285-4a18-4176-a501-f9c742385852"
      },
      "source": [
        "list_c[1]\r\n",
        "b3=list_c[1]\r\n",
        "print(b3)"
      ],
      "execution_count": 85,
      "outputs": [
        {
          "output_type": "stream",
          "text": [
            "53\n"
          ],
          "name": "stdout"
        }
      ]
    },
    {
      "cell_type": "code",
      "metadata": {
        "colab": {
          "base_uri": "https://localhost:8080/"
        },
        "id": "by1r9WFT1s8D",
        "outputId": "e24d806a-a3e3-42ee-ef4c-01337b8c158f"
      },
      "source": [
        "list_c[2]\r\n",
        "c3=list_c[2]\r\n",
        "print(c3)"
      ],
      "execution_count": 86,
      "outputs": [
        {
          "output_type": "stream",
          "text": [
            "15\n"
          ],
          "name": "stdout"
        }
      ]
    },
    {
      "cell_type": "code",
      "metadata": {
        "id": "Hb0c4_872dS6"
      },
      "source": [
        ""
      ],
      "execution_count": null,
      "outputs": []
    },
    {
      "cell_type": "code",
      "metadata": {
        "colab": {
          "base_uri": "https://localhost:8080/"
        },
        "id": "pLDkudew1Lyw",
        "outputId": "57aa7dd6-9a8c-4a13-c566-e6e448dc4e40"
      },
      "source": [
        "int(a3)*60*60\r\n"
      ],
      "execution_count": 90,
      "outputs": [
        {
          "output_type": "execute_result",
          "data": {
            "text/plain": [
              "43200"
            ]
          },
          "metadata": {
            "tags": []
          },
          "execution_count": 90
        }
      ]
    },
    {
      "cell_type": "code",
      "metadata": {
        "colab": {
          "base_uri": "https://localhost:8080/"
        },
        "id": "X90466tn2iJy",
        "outputId": "ca0aa159-36cb-4a45-c72e-a75fa19be363"
      },
      "source": [
        "int(b3)*60\r\n"
      ],
      "execution_count": 91,
      "outputs": [
        {
          "output_type": "execute_result",
          "data": {
            "text/plain": [
              "3180"
            ]
          },
          "metadata": {
            "tags": []
          },
          "execution_count": 91
        }
      ]
    },
    {
      "cell_type": "code",
      "metadata": {
        "colab": {
          "base_uri": "https://localhost:8080/"
        },
        "id": "HouRc3pA2h-g",
        "outputId": "82436523-4320-48c5-ae02-40a11a428f81"
      },
      "source": [
        "int(c3)"
      ],
      "execution_count": 92,
      "outputs": [
        {
          "output_type": "execute_result",
          "data": {
            "text/plain": [
              "15"
            ]
          },
          "metadata": {
            "tags": []
          },
          "execution_count": 92
        }
      ]
    },
    {
      "cell_type": "code",
      "metadata": {
        "id": "FLnYKIH92Elp"
      },
      "source": [
        "A3=int(a3)*60*60\r\n",
        "B3=int(b3)*60\r\n",
        "C3=int(c3)"
      ],
      "execution_count": 93,
      "outputs": []
    },
    {
      "cell_type": "code",
      "metadata": {
        "colab": {
          "base_uri": "https://localhost:8080/"
        },
        "id": "CNVIQ5Zg2TAA",
        "outputId": "e3eadf2f-3b42-4ee8-b6d4-77e136b43375"
      },
      "source": [
        "A3+B3+C3"
      ],
      "execution_count": 94,
      "outputs": [
        {
          "output_type": "execute_result",
          "data": {
            "text/plain": [
              "46395"
            ]
          },
          "metadata": {
            "tags": []
          },
          "execution_count": 94
        }
      ]
    },
    {
      "cell_type": "markdown",
      "metadata": {
        "id": "VaT5yU3C7YR5"
      },
      "source": [
        "####ตอบ 46395วินาที"
      ]
    },
    {
      "cell_type": "markdown",
      "metadata": {
        "id": "9URNptPpyC0_"
      },
      "source": [
        "#ข้อ4  00:59:25"
      ]
    },
    {
      "cell_type": "code",
      "metadata": {
        "colab": {
          "base_uri": "https://localhost:8080/"
        },
        "id": "prhXFgGUyrQ-",
        "outputId": "c1acc305-8317-439b-9b45-bf58b44065d5"
      },
      "source": [
        "list_d=t4.split(':')\r\n",
        "print(list_d)"
      ],
      "execution_count": 52,
      "outputs": [
        {
          "output_type": "stream",
          "text": [
            "['00', '59', '25']\n"
          ],
          "name": "stdout"
        }
      ]
    },
    {
      "cell_type": "code",
      "metadata": {
        "colab": {
          "base_uri": "https://localhost:8080/"
        },
        "id": "qKRO2fCI2qih",
        "outputId": "af3ebd49-e204-4a77-ffae-2abbf3aa724c"
      },
      "source": [
        "list_d[0]\r\n",
        "a4=list_d[0]\r\n",
        "print(a4)"
      ],
      "execution_count": 95,
      "outputs": [
        {
          "output_type": "stream",
          "text": [
            "00\n"
          ],
          "name": "stdout"
        }
      ]
    },
    {
      "cell_type": "code",
      "metadata": {
        "colab": {
          "base_uri": "https://localhost:8080/"
        },
        "id": "9D12JMNb2qLz",
        "outputId": "cffc8e4d-cdc1-462b-86b2-4331087ddc28"
      },
      "source": [
        "list_d[1]\r\n",
        "b4=list_d[1]\r\n",
        "print(b4)"
      ],
      "execution_count": 96,
      "outputs": [
        {
          "output_type": "stream",
          "text": [
            "59\n"
          ],
          "name": "stdout"
        }
      ]
    },
    {
      "cell_type": "code",
      "metadata": {
        "colab": {
          "base_uri": "https://localhost:8080/"
        },
        "id": "HrhZl1Iu2qCh",
        "outputId": "2fde596e-2484-47a7-e5e4-f7fc20028022"
      },
      "source": [
        "list_d[2]\r\n",
        "c4=list_d[2]\r\n",
        "print(c4)"
      ],
      "execution_count": 97,
      "outputs": [
        {
          "output_type": "stream",
          "text": [
            "25\n"
          ],
          "name": "stdout"
        }
      ]
    },
    {
      "cell_type": "code",
      "metadata": {
        "colab": {
          "base_uri": "https://localhost:8080/"
        },
        "id": "LfU_LqXE2p4C",
        "outputId": "d5452368-bdae-4ab6-97af-bec9d4e6515f"
      },
      "source": [
        "int(a4)*60*60"
      ],
      "execution_count": 119,
      "outputs": [
        {
          "output_type": "execute_result",
          "data": {
            "text/plain": [
              "0"
            ]
          },
          "metadata": {
            "tags": []
          },
          "execution_count": 119
        }
      ]
    },
    {
      "cell_type": "code",
      "metadata": {
        "colab": {
          "base_uri": "https://localhost:8080/"
        },
        "id": "mek_C0mg2pl5",
        "outputId": "dc525c46-1dba-4409-cef6-fa6701c4c536"
      },
      "source": [
        "int(b4)*60"
      ],
      "execution_count": 113,
      "outputs": [
        {
          "output_type": "execute_result",
          "data": {
            "text/plain": [
              "3540"
            ]
          },
          "metadata": {
            "tags": []
          },
          "execution_count": 113
        }
      ]
    },
    {
      "cell_type": "code",
      "metadata": {
        "colab": {
          "base_uri": "https://localhost:8080/"
        },
        "id": "TA5Ux2Rq2pNs",
        "outputId": "35c9c468-09ed-4784-ff69-7370172ce9f1"
      },
      "source": [
        "int(c4)"
      ],
      "execution_count": 114,
      "outputs": [
        {
          "output_type": "execute_result",
          "data": {
            "text/plain": [
              "25"
            ]
          },
          "metadata": {
            "tags": []
          },
          "execution_count": 114
        }
      ]
    },
    {
      "cell_type": "code",
      "metadata": {
        "id": "9kyt2UCE2pC7"
      },
      "source": [
        "A4=int(a4)*60*60\r\n",
        "B4=int(b4)*60\r\n",
        "C4=int(c4)"
      ],
      "execution_count": 120,
      "outputs": []
    },
    {
      "cell_type": "code",
      "metadata": {
        "colab": {
          "base_uri": "https://localhost:8080/"
        },
        "id": "LJLIXEJr4nKa",
        "outputId": "b0d543b6-ad5d-4960-fae8-656741d02549"
      },
      "source": [
        "A4+B4+C4"
      ],
      "execution_count": 121,
      "outputs": [
        {
          "output_type": "execute_result",
          "data": {
            "text/plain": [
              "3565"
            ]
          },
          "metadata": {
            "tags": []
          },
          "execution_count": 121
        }
      ]
    },
    {
      "cell_type": "markdown",
      "metadata": {
        "id": "l6qfhbl_8Al1"
      },
      "source": [
        "####ตอบ3565วินาที"
      ]
    },
    {
      "cell_type": "markdown",
      "metadata": {
        "id": "GPugy02nyCpW"
      },
      "source": [
        "#ข้อ5  11:11:11"
      ]
    },
    {
      "cell_type": "code",
      "metadata": {
        "colab": {
          "base_uri": "https://localhost:8080/"
        },
        "id": "S4RWfW25ywJ5",
        "outputId": "73e5cdf3-87ae-45b7-f52b-881b1877288b"
      },
      "source": [
        "list_e=t5.split(':')\r\n",
        "print(list_e)"
      ],
      "execution_count": 51,
      "outputs": [
        {
          "output_type": "stream",
          "text": [
            "['11', '11', '11']\n"
          ],
          "name": "stdout"
        }
      ]
    },
    {
      "cell_type": "code",
      "metadata": {
        "colab": {
          "base_uri": "https://localhost:8080/"
        },
        "id": "ES4ZrZab41xw",
        "outputId": "9d8f6194-e7aa-4c13-bb07-e1ce19ec10e8"
      },
      "source": [
        "list_e[0]\r\n",
        "a5=list_e[0]\r\n",
        "print(a5)"
      ],
      "execution_count": 122,
      "outputs": [
        {
          "output_type": "stream",
          "text": [
            "11\n"
          ],
          "name": "stdout"
        }
      ]
    },
    {
      "cell_type": "code",
      "metadata": {
        "colab": {
          "base_uri": "https://localhost:8080/"
        },
        "id": "J2-eCrKR41uz",
        "outputId": "982cde64-6285-49fe-ec83-5042f92fa77b"
      },
      "source": [
        "list_e[1]\r\n",
        "b5=list_e[1]\r\n",
        "print(b5)"
      ],
      "execution_count": 123,
      "outputs": [
        {
          "output_type": "stream",
          "text": [
            "11\n"
          ],
          "name": "stdout"
        }
      ]
    },
    {
      "cell_type": "code",
      "metadata": {
        "colab": {
          "base_uri": "https://localhost:8080/"
        },
        "id": "heuvS0v341ss",
        "outputId": "f3d377c3-2f76-41a7-fd36-ce1a8eafc469"
      },
      "source": [
        "list_e[2]\r\n",
        "c5=list_e[2]\r\n",
        "print(c5)"
      ],
      "execution_count": 124,
      "outputs": [
        {
          "output_type": "stream",
          "text": [
            "11\n"
          ],
          "name": "stdout"
        }
      ]
    },
    {
      "cell_type": "code",
      "metadata": {
        "colab": {
          "base_uri": "https://localhost:8080/"
        },
        "id": "nJd3hyL541pq",
        "outputId": "0e865d98-21dc-4aa6-97ca-d9ad118bd4e9"
      },
      "source": [
        "int(a5)*60*60\r\n"
      ],
      "execution_count": 131,
      "outputs": [
        {
          "output_type": "execute_result",
          "data": {
            "text/plain": [
              "39600"
            ]
          },
          "metadata": {
            "tags": []
          },
          "execution_count": 131
        }
      ]
    },
    {
      "cell_type": "code",
      "metadata": {
        "colab": {
          "base_uri": "https://localhost:8080/"
        },
        "id": "w2Cn2rHY5wD7",
        "outputId": "8c4de272-80e3-45cc-be1d-4998e027c01b"
      },
      "source": [
        "int(b5)*60"
      ],
      "execution_count": 134,
      "outputs": [
        {
          "output_type": "execute_result",
          "data": {
            "text/plain": [
              "660"
            ]
          },
          "metadata": {
            "tags": []
          },
          "execution_count": 134
        }
      ]
    },
    {
      "cell_type": "code",
      "metadata": {
        "colab": {
          "base_uri": "https://localhost:8080/"
        },
        "id": "7Xd13Qek5v7A",
        "outputId": "204add79-9333-48cf-f82d-82c42f7acee8"
      },
      "source": [
        "int(c5)"
      ],
      "execution_count": 133,
      "outputs": [
        {
          "output_type": "execute_result",
          "data": {
            "text/plain": [
              "11"
            ]
          },
          "metadata": {
            "tags": []
          },
          "execution_count": 133
        }
      ]
    },
    {
      "cell_type": "code",
      "metadata": {
        "id": "uCL-NNJg41nL"
      },
      "source": [
        "A5=int(a5)*60*60\r\n",
        "B5=int(b5)*60\r\n",
        "C5=int(c5)"
      ],
      "execution_count": 137,
      "outputs": []
    },
    {
      "cell_type": "code",
      "metadata": {
        "colab": {
          "base_uri": "https://localhost:8080/"
        },
        "id": "BavHXuSg41j4",
        "outputId": "8f0835c9-92cf-4b4d-90a2-e13f1fa5591f"
      },
      "source": [
        "A5+B5+C5"
      ],
      "execution_count": 138,
      "outputs": [
        {
          "output_type": "execute_result",
          "data": {
            "text/plain": [
              "40271"
            ]
          },
          "metadata": {
            "tags": []
          },
          "execution_count": 138
        }
      ]
    },
    {
      "cell_type": "markdown",
      "metadata": {
        "id": "WUFOLTXB8G2i"
      },
      "source": [
        "#####ตอบ 40271 วินาที"
      ]
    },
    {
      "cell_type": "markdown",
      "metadata": {
        "id": "yrPu4WNwyCZW"
      },
      "source": [
        "#ข้อ6  16:06:09"
      ]
    },
    {
      "cell_type": "code",
      "metadata": {
        "colab": {
          "base_uri": "https://localhost:8080/"
        },
        "id": "ha8DSL2UyvZq",
        "outputId": "6e46702b-fccc-44b9-830f-ddab15498df6"
      },
      "source": [
        "list_f=t6.split(':')\r\n",
        "print(list_f)"
      ],
      "execution_count": 50,
      "outputs": [
        {
          "output_type": "stream",
          "text": [
            "['16', '06', '09']\n"
          ],
          "name": "stdout"
        }
      ]
    },
    {
      "cell_type": "code",
      "metadata": {
        "colab": {
          "base_uri": "https://localhost:8080/"
        },
        "id": "GJ2A219f59Xq",
        "outputId": "218440e8-aede-4711-df8e-6a98105289e0"
      },
      "source": [
        "list_f[0]\r\n",
        "a6=list_f[0]\r\n",
        "print(a6)"
      ],
      "execution_count": 139,
      "outputs": [
        {
          "output_type": "stream",
          "text": [
            "16\n"
          ],
          "name": "stdout"
        }
      ]
    },
    {
      "cell_type": "code",
      "metadata": {
        "colab": {
          "base_uri": "https://localhost:8080/"
        },
        "id": "KOKOWsvk59Rk",
        "outputId": "0b876639-4093-495a-de23-6c02adf27961"
      },
      "source": [
        "list_f[1]\r\n",
        "b6=list_f[1]\r\n",
        "print(b6)"
      ],
      "execution_count": 140,
      "outputs": [
        {
          "output_type": "stream",
          "text": [
            "06\n"
          ],
          "name": "stdout"
        }
      ]
    },
    {
      "cell_type": "code",
      "metadata": {
        "colab": {
          "base_uri": "https://localhost:8080/"
        },
        "id": "D_NKeQ8q59ED",
        "outputId": "aa1fd6a1-a6f7-4203-ca0a-2479b1e7ce21"
      },
      "source": [
        "list_f[2]\r\n",
        "c6=list_f[2]\r\n",
        "print(c6)"
      ],
      "execution_count": 141,
      "outputs": [
        {
          "output_type": "stream",
          "text": [
            "09\n"
          ],
          "name": "stdout"
        }
      ]
    },
    {
      "cell_type": "code",
      "metadata": {
        "colab": {
          "base_uri": "https://localhost:8080/"
        },
        "id": "jFYGGLE95894",
        "outputId": "774b564f-0162-4b49-950f-fc9b8ba423cb"
      },
      "source": [
        "A6=int(a6)*60*60\r\n",
        "int(a6)*60*60"
      ],
      "execution_count": 152,
      "outputs": [
        {
          "output_type": "execute_result",
          "data": {
            "text/plain": [
              "57600"
            ]
          },
          "metadata": {
            "tags": []
          },
          "execution_count": 152
        }
      ]
    },
    {
      "cell_type": "code",
      "metadata": {
        "colab": {
          "base_uri": "https://localhost:8080/"
        },
        "id": "0uT8OyTg581A",
        "outputId": "e97abda7-a658-47e1-b2c0-88e98c79e050"
      },
      "source": [
        "B6=int(b6)*60\r\n",
        "int(b6)*60"
      ],
      "execution_count": 155,
      "outputs": [
        {
          "output_type": "execute_result",
          "data": {
            "text/plain": [
              "360"
            ]
          },
          "metadata": {
            "tags": []
          },
          "execution_count": 155
        }
      ]
    },
    {
      "cell_type": "code",
      "metadata": {
        "colab": {
          "base_uri": "https://localhost:8080/"
        },
        "id": "vOIm0blP6Z3U",
        "outputId": "93706914-3459-4b30-b3c1-d72923d559b9"
      },
      "source": [
        "C6=int(c6)\r\n",
        "int(c6)"
      ],
      "execution_count": 148,
      "outputs": [
        {
          "output_type": "execute_result",
          "data": {
            "text/plain": [
              "9"
            ]
          },
          "metadata": {
            "tags": []
          },
          "execution_count": 148
        }
      ]
    },
    {
      "cell_type": "code",
      "metadata": {
        "colab": {
          "base_uri": "https://localhost:8080/"
        },
        "id": "YwmCALzp6cx7",
        "outputId": "d8f58063-28d6-4853-a7b6-77aacfdc2651"
      },
      "source": [
        "A6+B6+C6"
      ],
      "execution_count": 156,
      "outputs": [
        {
          "output_type": "execute_result",
          "data": {
            "text/plain": [
              "57969"
            ]
          },
          "metadata": {
            "tags": []
          },
          "execution_count": 156
        }
      ]
    },
    {
      "cell_type": "markdown",
      "metadata": {
        "id": "1HIettke8QxR"
      },
      "source": [
        "####ตอบ 57969 วินาที"
      ]
    },
    {
      "cell_type": "code",
      "metadata": {
        "id": "SXCb4OT96zib"
      },
      "source": [
        ""
      ],
      "execution_count": null,
      "outputs": []
    }
  ]
}