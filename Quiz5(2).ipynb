{
  "nbformat": 4,
  "nbformat_minor": 0,
  "metadata": {
    "colab": {
      "name": "Quiz5(2).ipynb",
      "provenance": [],
      "authorship_tag": "ABX9TyN7peZHyg0tPlcmFNMir3ao",
      "include_colab_link": true
    },
    "kernelspec": {
      "name": "python3",
      "display_name": "Python 3"
    },
    "language_info": {
      "name": "python"
    }
  },
  "cells": [
    {
      "cell_type": "markdown",
      "metadata": {
        "id": "view-in-github",
        "colab_type": "text"
      },
      "source": [
        "<a href=\"https://colab.research.google.com/github/darunrat/data_viz/blob/main/Quiz5(2).ipynb\" target=\"_parent\"><img src=\"https://colab.research.google.com/assets/colab-badge.svg\" alt=\"Open In Colab\"/></a>"
      ]
    },
    {
      "cell_type": "code",
      "metadata": {
        "id": "dxz2VeDFASCy"
      },
      "source": [
        "import pandas as pd"
      ],
      "execution_count": 1,
      "outputs": []
    },
    {
      "cell_type": "code",
      "metadata": {
        "colab": {
          "base_uri": "https://localhost:8080/",
          "height": 983
        },
        "id": "qjO9hPNNA_o2",
        "outputId": "9abf0a9a-c8b7-45f2-e562-df7ef972cb98"
      },
      "source": [
        "search_re= pd.read_csv('/content/search_request.csv')\n",
        "search_re.dropna()"
      ],
      "execution_count": 36,
      "outputs": [
        {
          "output_type": "stream",
          "text": [
            "/usr/local/lib/python3.7/dist-packages/IPython/core/interactiveshell.py:2718: DtypeWarning: Columns (7,8,9) have mixed types.Specify dtype option on import or set low_memory=False.\n",
            "  interactivity=interactivity, compiler=compiler, result=result)\n"
          ],
          "name": "stderr"
        },
        {
          "output_type": "execute_result",
          "data": {
            "text/html": [
              "<div>\n",
              "<style scoped>\n",
              "    .dataframe tbody tr th:only-of-type {\n",
              "        vertical-align: middle;\n",
              "    }\n",
              "\n",
              "    .dataframe tbody tr th {\n",
              "        vertical-align: top;\n",
              "    }\n",
              "\n",
              "    .dataframe thead th {\n",
              "        text-align: right;\n",
              "    }\n",
              "</style>\n",
              "<table border=\"1\" class=\"dataframe\">\n",
              "  <thead>\n",
              "    <tr style=\"text-align: right;\">\n",
              "      <th></th>\n",
              "      <th>Unnamed: 0</th>\n",
              "      <th>search_id</th>\n",
              "      <th>search_timestamp</th>\n",
              "      <th>user_agent</th>\n",
              "      <th>q</th>\n",
              "      <th>user_id</th>\n",
              "      <th>session_id</th>\n",
              "      <th>number_of_result</th>\n",
              "      <th>lat</th>\n",
              "      <th>long</th>\n",
              "    </tr>\n",
              "  </thead>\n",
              "  <tbody>\n",
              "    <tr>\n",
              "      <th>8</th>\n",
              "      <td>8</td>\n",
              "      <td>02fedb5c-c9cd-46d7-9354-7613ecb7cfdd</td>\n",
              "      <td>2018-06-22 12:22:17.031</td>\n",
              "      <td>Wongnai/10.0 (iPhone10,6; iOS; 11.4; en_TH@cal...</td>\n",
              "      <td>vt แหนมเนือง</td>\n",
              "      <td>6967.0</td>\n",
              "      <td>4db1ugh8nj95totfl6dd4q4rb9</td>\n",
              "      <td>14</td>\n",
              "      <td>13.7209</td>\n",
              "      <td>100.527</td>\n",
              "    </tr>\n",
              "    <tr>\n",
              "      <th>9</th>\n",
              "      <td>9</td>\n",
              "      <td>e215d487-0450-4794-830a-ecfc0ab6493b</td>\n",
              "      <td>2018-06-22 12:15:24.769</td>\n",
              "      <td>Wongnai/10.0 (iPhone10,6; iOS; 11.4; en_TH@cal...</td>\n",
              "      <td>kuppadeli</td>\n",
              "      <td>6967.0</td>\n",
              "      <td>4orpg6839u93baoa36aicq78iq</td>\n",
              "      <td>9</td>\n",
              "      <td>13.7208</td>\n",
              "      <td>100.527</td>\n",
              "    </tr>\n",
              "    <tr>\n",
              "      <th>10</th>\n",
              "      <td>10</td>\n",
              "      <td>3a69e702-e54b-497c-9b8f-c3991d4c02ff</td>\n",
              "      <td>2018-06-22 12:12:24.091</td>\n",
              "      <td>Wongnai/10.0 (iPhone10,6; iOS; 11.4; en_TH@cal...</td>\n",
              "      <td>ข้าวซอยลำดวน</td>\n",
              "      <td>6967.0</td>\n",
              "      <td>4orpg6839u93baoa36aicq78iq</td>\n",
              "      <td>9</td>\n",
              "      <td>13.7209</td>\n",
              "      <td>100.527</td>\n",
              "    </tr>\n",
              "    <tr>\n",
              "      <th>11</th>\n",
              "      <td>11</td>\n",
              "      <td>03cb2585-738e-4000-afed-e976d123a145</td>\n",
              "      <td>2018-06-22 12:04:43.977</td>\n",
              "      <td>Wongnai/10.0 (iPhone10,6; iOS; 11.4; en_TH@cal...</td>\n",
              "      <td>kagonoya</td>\n",
              "      <td>6967.0</td>\n",
              "      <td>4orpg6839u93baoa36aicq78iq</td>\n",
              "      <td>8</td>\n",
              "      <td>13.7211</td>\n",
              "      <td>100.527</td>\n",
              "    </tr>\n",
              "    <tr>\n",
              "      <th>12</th>\n",
              "      <td>12</td>\n",
              "      <td>4974a821-2bc0-4efe-9e2d-d602669dc283</td>\n",
              "      <td>2018-06-22 12:07:02.556</td>\n",
              "      <td>Wongnai/10.0 (iPhone10,6; iOS; 11.4; en_TH@cal...</td>\n",
              "      <td>สุพรรณิการ์</td>\n",
              "      <td>6967.0</td>\n",
              "      <td>4orpg6839u93baoa36aicq78iq</td>\n",
              "      <td>10</td>\n",
              "      <td>13.7208</td>\n",
              "      <td>100.527</td>\n",
              "    </tr>\n",
              "    <tr>\n",
              "      <th>...</th>\n",
              "      <td>...</td>\n",
              "      <td>...</td>\n",
              "      <td>...</td>\n",
              "      <td>...</td>\n",
              "      <td>...</td>\n",
              "      <td>...</td>\n",
              "      <td>...</td>\n",
              "      <td>...</td>\n",
              "      <td>...</td>\n",
              "      <td>...</td>\n",
              "    </tr>\n",
              "    <tr>\n",
              "      <th>1220284</th>\n",
              "      <td>1220310</td>\n",
              "      <td>b3d312b0-76a2-4cb7-bd4a-72ea9af69044</td>\n",
              "      <td>2018-06-12 15:28:57.043</td>\n",
              "      <td>Wongnai/8.17.4 (iPhone10,6; iOS; 11.3.1; en;)</td>\n",
              "      <td>กู๋</td>\n",
              "      <td>30165.0</td>\n",
              "      <td>1v7gbsr9nd9b0rqn6c8fbstvau</td>\n",
              "      <td>6</td>\n",
              "      <td>13.8786</td>\n",
              "      <td>100.459</td>\n",
              "    </tr>\n",
              "    <tr>\n",
              "      <th>1220878</th>\n",
              "      <td>1220904</td>\n",
              "      <td>c34bab6f-ff57-4459-918f-c18f70004b15</td>\n",
              "      <td>2018-06-10 20:02:49.203</td>\n",
              "      <td>Wongnai/8.17.4 (iPhone10,5; iOS; 11.2.1; en_TH;)</td>\n",
              "      <td>เด็กซิ่ง</td>\n",
              "      <td>44708.0</td>\n",
              "      <td>31e3lt1d06816bkk9s94td7p24</td>\n",
              "      <td>6</td>\n",
              "      <td>13.6244</td>\n",
              "      <td>100.387</td>\n",
              "    </tr>\n",
              "    <tr>\n",
              "      <th>1221150</th>\n",
              "      <td>1221176</td>\n",
              "      <td>6138dc2d-06dc-41b8-bde3-b288d5f5cb3f</td>\n",
              "      <td>2018-06-10 20:09:09.888</td>\n",
              "      <td>Wongnai/8.17.4 (iPhone8,2; iOS; 11.3.1; th_TH;)</td>\n",
              "      <td>ปอเปี๊ยะสด</td>\n",
              "      <td>139102.0</td>\n",
              "      <td>4jj4635hov94tq8h9vsrd8uug7</td>\n",
              "      <td>6</td>\n",
              "      <td>13.7411</td>\n",
              "      <td>100.463</td>\n",
              "    </tr>\n",
              "    <tr>\n",
              "      <th>1221234</th>\n",
              "      <td>1221260</td>\n",
              "      <td>ff695611-d6e5-4977-a7ca-e4153f1ac5b9</td>\n",
              "      <td>2018-06-10 21:37:28.170</td>\n",
              "      <td>okhttp/3.9.0;WongnaiAndroid 8.16.5.1;Xiaomi;MI...</td>\n",
              "      <td>กุยช่าย</td>\n",
              "      <td>45905.0</td>\n",
              "      <td>50p8hv6hob8acqupldkttsd6fn</td>\n",
              "      <td>6</td>\n",
              "      <td>18.8879</td>\n",
              "      <td>99.027</td>\n",
              "    </tr>\n",
              "    <tr>\n",
              "      <th>1221326</th>\n",
              "      <td>1221352</td>\n",
              "      <td>625c1684-2933-4639-a65a-ec95ba698692</td>\n",
              "      <td>2018-06-15 15:08:26.884</td>\n",
              "      <td>okhttp/3.9.0;WongnaiAndroid 8.16.6;OPPO;A1601</td>\n",
              "      <td>สุกี้  เท็กซัส</td>\n",
              "      <td>146855.0</td>\n",
              "      <td>2fg1qdme6k9iuaklihk8d3n15s</td>\n",
              "      <td>6</td>\n",
              "      <td>18.2576</td>\n",
              "      <td>99.5449</td>\n",
              "    </tr>\n",
              "  </tbody>\n",
              "</table>\n",
              "<p>38377 rows × 10 columns</p>\n",
              "</div>"
            ],
            "text/plain": [
              "         Unnamed: 0                             search_id  ...      lat     long\n",
              "8                 8  02fedb5c-c9cd-46d7-9354-7613ecb7cfdd  ...  13.7209  100.527\n",
              "9                 9  e215d487-0450-4794-830a-ecfc0ab6493b  ...  13.7208  100.527\n",
              "10               10  3a69e702-e54b-497c-9b8f-c3991d4c02ff  ...  13.7209  100.527\n",
              "11               11  03cb2585-738e-4000-afed-e976d123a145  ...  13.7211  100.527\n",
              "12               12  4974a821-2bc0-4efe-9e2d-d602669dc283  ...  13.7208  100.527\n",
              "...             ...                                   ...  ...      ...      ...\n",
              "1220284     1220310  b3d312b0-76a2-4cb7-bd4a-72ea9af69044  ...  13.8786  100.459\n",
              "1220878     1220904  c34bab6f-ff57-4459-918f-c18f70004b15  ...  13.6244  100.387\n",
              "1221150     1221176  6138dc2d-06dc-41b8-bde3-b288d5f5cb3f  ...  13.7411  100.463\n",
              "1221234     1221260  ff695611-d6e5-4977-a7ca-e4153f1ac5b9  ...  18.8879   99.027\n",
              "1221326     1221352  625c1684-2933-4639-a65a-ec95ba698692  ...  18.2576  99.5449\n",
              "\n",
              "[38377 rows x 10 columns]"
            ]
          },
          "metadata": {
            "tags": []
          },
          "execution_count": 36
        }
      ]
    },
    {
      "cell_type": "code",
      "metadata": {
        "colab": {
          "base_uri": "https://localhost:8080/",
          "height": 34
        },
        "id": "Cyi6RZWcBFmN",
        "outputId": "fd43f935-00dd-41c9-98e2-b87448ef052c"
      },
      "source": [
        "search_re.iloc[0,2]"
      ],
      "execution_count": 33,
      "outputs": [
        {
          "output_type": "execute_result",
          "data": {
            "application/vnd.google.colaboratory.intrinsic+json": {
              "type": "string"
            },
            "text/plain": [
              "'2018-06-14 12:34:35.449'"
            ]
          },
          "metadata": {
            "tags": []
          },
          "execution_count": 33
        }
      ]
    },
    {
      "cell_type": "markdown",
      "metadata": {
        "id": "LlZmaaVTBUMk"
      },
      "source": [
        "* เปรียบเทียบจำนวน requests ของช่วงเวลา 11.00-11.59 กับ 23.00-23.59\n",
        "* เปรียบเทียบจำนวน requests ของวันจันทร์-พฤหัสบดี กับ ศุกร์-อาทิตย์"
      ]
    },
    {
      "cell_type": "code",
      "metadata": {
        "colab": {
          "base_uri": "https://localhost:8080/"
        },
        "id": "ZrNOJdvRHnNe",
        "outputId": "7fe7cb9c-33e9-46a6-e7da-869cdb985152"
      },
      "source": [
        "search_re1=search_re['search_timestamp']=='11:00:00'\n",
        "search_re1"
      ],
      "execution_count": 34,
      "outputs": [
        {
          "output_type": "execute_result",
          "data": {
            "text/plain": [
              "0          False\n",
              "1          False\n",
              "2          False\n",
              "3          False\n",
              "4          False\n",
              "           ...  \n",
              "1137615    False\n",
              "1137616    False\n",
              "1137617    False\n",
              "1137618    False\n",
              "1137619    False\n",
              "Name: search_timestamp, Length: 1137620, dtype: bool"
            ]
          },
          "metadata": {
            "tags": []
          },
          "execution_count": 34
        }
      ]
    },
    {
      "cell_type": "code",
      "metadata": {
        "colab": {
          "base_uri": "https://localhost:8080/",
          "height": 966
        },
        "id": "_iZd2Jb6BtEM",
        "outputId": "72e225a9-acd4-45b1-c715-8b18adf41e9c"
      },
      "source": [
        "a=search_re[search_re['search_timestamp']>='11:00:00' ]\n",
        "a"
      ],
      "execution_count": 38,
      "outputs": [
        {
          "output_type": "execute_result",
          "data": {
            "text/html": [
              "<div>\n",
              "<style scoped>\n",
              "    .dataframe tbody tr th:only-of-type {\n",
              "        vertical-align: middle;\n",
              "    }\n",
              "\n",
              "    .dataframe tbody tr th {\n",
              "        vertical-align: top;\n",
              "    }\n",
              "\n",
              "    .dataframe thead th {\n",
              "        text-align: right;\n",
              "    }\n",
              "</style>\n",
              "<table border=\"1\" class=\"dataframe\">\n",
              "  <thead>\n",
              "    <tr style=\"text-align: right;\">\n",
              "      <th></th>\n",
              "      <th>Unnamed: 0</th>\n",
              "      <th>search_id</th>\n",
              "      <th>search_timestamp</th>\n",
              "      <th>user_agent</th>\n",
              "      <th>q</th>\n",
              "      <th>user_id</th>\n",
              "      <th>session_id</th>\n",
              "      <th>number_of_result</th>\n",
              "      <th>lat</th>\n",
              "      <th>long</th>\n",
              "    </tr>\n",
              "  </thead>\n",
              "  <tbody>\n",
              "    <tr>\n",
              "      <th>0</th>\n",
              "      <td>0</td>\n",
              "      <td>683de889-f923-494e-9d46-44a3d67b7259</td>\n",
              "      <td>2018-06-14 12:34:35.449</td>\n",
              "      <td>Wongnai/8.17.3 rv:8.17.3.3921 (iPhone5,4; iOS;...</td>\n",
              "      <td>NaN</td>\n",
              "      <td>NaN</td>\n",
              "      <td>5lqjjikta19d296mo7g2h1k86p</td>\n",
              "      <td>18</td>\n",
              "      <td>12.6347</td>\n",
              "      <td>101.463</td>\n",
              "    </tr>\n",
              "    <tr>\n",
              "      <th>1</th>\n",
              "      <td>1</td>\n",
              "      <td>4a811230-ffa4-4631-a4c8-5d0394137d02</td>\n",
              "      <td>2018-06-14 17:11:19.469</td>\n",
              "      <td>Mozilla/5.0 (iPhone; CPU iPhone OS 11_4 like M...</td>\n",
              "      <td>NaN</td>\n",
              "      <td>NaN</td>\n",
              "      <td>1r3iotmp0o9slom91stdt9vivc</td>\n",
              "      <td>10</td>\n",
              "      <td>14.8009</td>\n",
              "      <td>102.534</td>\n",
              "    </tr>\n",
              "    <tr>\n",
              "      <th>2</th>\n",
              "      <td>2</td>\n",
              "      <td>7ad6ee8e-438e-4bea-9183-74dcef9e358e</td>\n",
              "      <td>2018-06-14 13:22:31.736</td>\n",
              "      <td>Mozilla/5.0 (Linux; Android 7.0; SAMSUNG SM-J7...</td>\n",
              "      <td>NaN</td>\n",
              "      <td>NaN</td>\n",
              "      <td>5ci1eo4v5u9dha4ppgu94ue7p6</td>\n",
              "      <td>8</td>\n",
              "      <td>13.7383</td>\n",
              "      <td>100.371</td>\n",
              "    </tr>\n",
              "    <tr>\n",
              "      <th>3</th>\n",
              "      <td>3</td>\n",
              "      <td>0c17a5f5-fa89-40f4-ae94-a8659268f827</td>\n",
              "      <td>2018-06-02 12:37:27.331</td>\n",
              "      <td>Mozilla/5.0 (Linux; Android 7.1.1; SM-N950F Bu...</td>\n",
              "      <td>NaN</td>\n",
              "      <td>NaN</td>\n",
              "      <td>39n535qgje9kpojp0grhfj8umk</td>\n",
              "      <td>12</td>\n",
              "      <td>12.6669</td>\n",
              "      <td>101.861</td>\n",
              "    </tr>\n",
              "    <tr>\n",
              "      <th>4</th>\n",
              "      <td>4</td>\n",
              "      <td>6870dc3a-5602-44fc-80ed-df0a7783df9d</td>\n",
              "      <td>2018-06-02 11:19:22.404</td>\n",
              "      <td>Mozilla/5.0 (iPhone; CPU iPhone OS 11_3_1 like...</td>\n",
              "      <td>NaN</td>\n",
              "      <td>NaN</td>\n",
              "      <td>5pa03h6lj691to60erver1l8o4</td>\n",
              "      <td>14</td>\n",
              "      <td>12.2372</td>\n",
              "      <td>99.88</td>\n",
              "    </tr>\n",
              "    <tr>\n",
              "      <th>...</th>\n",
              "      <td>...</td>\n",
              "      <td>...</td>\n",
              "      <td>...</td>\n",
              "      <td>...</td>\n",
              "      <td>...</td>\n",
              "      <td>...</td>\n",
              "      <td>...</td>\n",
              "      <td>...</td>\n",
              "      <td>...</td>\n",
              "      <td>...</td>\n",
              "    </tr>\n",
              "    <tr>\n",
              "      <th>1221327</th>\n",
              "      <td>1221353</td>\n",
              "      <td>1c6f3d5a-6a29-4e3c-8808-73a1f22f23c9</td>\n",
              "      <td>2018-06-15 16:34:40.623</td>\n",
              "      <td>okhttp/3.9.0;WongnaiAndroid 8.16.6;OPPO;A1601</td>\n",
              "      <td>NaN</td>\n",
              "      <td>147214.0</td>\n",
              "      <td>2j73lbj97i89nqn7c4kp168fha</td>\n",
              "      <td>6</td>\n",
              "      <td>18.7723</td>\n",
              "      <td>99.0416</td>\n",
              "    </tr>\n",
              "    <tr>\n",
              "      <th>1221328</th>\n",
              "      <td>1221354</td>\n",
              "      <td>0fdc1951-2143-4156-859f-f25d500a1e86</td>\n",
              "      <td>2018-06-15 12:39:49.188</td>\n",
              "      <td>okhttp/3.9.0;WongnaiAndroid 8.16.6;OPPO;A1601</td>\n",
              "      <td>NaN</td>\n",
              "      <td>103978.0</td>\n",
              "      <td>31u3t0thj69acaep8dc07eagg6</td>\n",
              "      <td>6</td>\n",
              "      <td>13.869</td>\n",
              "      <td>100.495</td>\n",
              "    </tr>\n",
              "    <tr>\n",
              "      <th>1221329</th>\n",
              "      <td>1221355</td>\n",
              "      <td>94e02092-6892-4566-959c-4249b91426e1</td>\n",
              "      <td>2018-06-15 17:42:42.824</td>\n",
              "      <td>okhttp/3.9.0;WongnaiAndroid 8.16.6;OPPO;A1601</td>\n",
              "      <td>NaN</td>\n",
              "      <td>57678.0</td>\n",
              "      <td>38gfa3feae9tmpsp8p4tf7okam</td>\n",
              "      <td>6</td>\n",
              "      <td>13.7148</td>\n",
              "      <td>100.534</td>\n",
              "    </tr>\n",
              "    <tr>\n",
              "      <th>1221330</th>\n",
              "      <td>1221356</td>\n",
              "      <td>f50fa482-8a69-4942-a585-9d20b1646c8d</td>\n",
              "      <td>2018-06-15 14:19:32.162</td>\n",
              "      <td>okhttp/3.9.0;WongnaiAndroid 8.16.6;OPPO;A1601</td>\n",
              "      <td>NaN</td>\n",
              "      <td>79313.0</td>\n",
              "      <td>39di90ae8p9ocpmqcvr24pnvpt</td>\n",
              "      <td>6</td>\n",
              "      <td>13.8231</td>\n",
              "      <td>100.062</td>\n",
              "    </tr>\n",
              "    <tr>\n",
              "      <th>1221331</th>\n",
              "      <td>1221357</td>\n",
              "      <td>77975baf-f3fb-4bce-bac6-39795de61ff5</td>\n",
              "      <td>2018-06-15 16:21:31.382</td>\n",
              "      <td>okhttp/3.9.0;WongnaiAndroid 8.16.6;OPPO;A1601</td>\n",
              "      <td>NaN</td>\n",
              "      <td>59499.0</td>\n",
              "      <td>NaN</td>\n",
              "      <td>NaN</td>\n",
              "      <td>NaN</td>\n",
              "      <td>NaN</td>\n",
              "    </tr>\n",
              "  </tbody>\n",
              "</table>\n",
              "<p>1221332 rows × 10 columns</p>\n",
              "</div>"
            ],
            "text/plain": [
              "         Unnamed: 0                             search_id  ...      lat     long\n",
              "0                 0  683de889-f923-494e-9d46-44a3d67b7259  ...  12.6347  101.463\n",
              "1                 1  4a811230-ffa4-4631-a4c8-5d0394137d02  ...  14.8009  102.534\n",
              "2                 2  7ad6ee8e-438e-4bea-9183-74dcef9e358e  ...  13.7383  100.371\n",
              "3                 3  0c17a5f5-fa89-40f4-ae94-a8659268f827  ...  12.6669  101.861\n",
              "4                 4  6870dc3a-5602-44fc-80ed-df0a7783df9d  ...  12.2372    99.88\n",
              "...             ...                                   ...  ...      ...      ...\n",
              "1221327     1221353  1c6f3d5a-6a29-4e3c-8808-73a1f22f23c9  ...  18.7723  99.0416\n",
              "1221328     1221354  0fdc1951-2143-4156-859f-f25d500a1e86  ...   13.869  100.495\n",
              "1221329     1221355  94e02092-6892-4566-959c-4249b91426e1  ...  13.7148  100.534\n",
              "1221330     1221356  f50fa482-8a69-4942-a585-9d20b1646c8d  ...  13.8231  100.062\n",
              "1221331     1221357  77975baf-f3fb-4bce-bac6-39795de61ff5  ...      NaN      NaN\n",
              "\n",
              "[1221332 rows x 10 columns]"
            ]
          },
          "metadata": {
            "tags": []
          },
          "execution_count": 38
        }
      ]
    },
    {
      "cell_type": "code",
      "metadata": {
        "colab": {
          "base_uri": "https://localhost:8080/"
        },
        "id": "CEIJ7W9rJaw3",
        "outputId": "1e4afa8f-ab61-4287-8399-442639f54336"
      },
      "source": [
        "a['search_timestamp']<='11:59:00'"
      ],
      "execution_count": 42,
      "outputs": [
        {
          "output_type": "execute_result",
          "data": {
            "text/plain": [
              "0          False\n",
              "1          False\n",
              "2          False\n",
              "3          False\n",
              "4          False\n",
              "           ...  \n",
              "1221327    False\n",
              "1221328    False\n",
              "1221329    False\n",
              "1221330    False\n",
              "1221331    False\n",
              "Name: search_timestamp, Length: 1221332, dtype: bool"
            ]
          },
          "metadata": {
            "tags": []
          },
          "execution_count": 42
        }
      ]
    },
    {
      "cell_type": "code",
      "metadata": {
        "id": "O3RSNnIWC_Y2"
      },
      "source": [
        "from datetime import datetime"
      ],
      "execution_count": 8,
      "outputs": []
    },
    {
      "cell_type": "code",
      "metadata": {
        "id": "N51AGcSUDfc2"
      },
      "source": [
        ""
      ],
      "execution_count": 12,
      "outputs": []
    },
    {
      "cell_type": "code",
      "metadata": {
        "id": "vorsK5uVDoHC"
      },
      "source": [
        ""
      ],
      "execution_count": null,
      "outputs": []
    }
  ]
}