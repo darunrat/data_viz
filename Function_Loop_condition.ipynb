{
  "nbformat": 4,
  "nbformat_minor": 0,
  "metadata": {
    "colab": {
      "name": "Function_Loop_condition.ipynb",
      "provenance": [],
      "authorship_tag": "ABX9TyOOzqjNx+ZN9N9RYagLe0YC",
      "include_colab_link": true
    },
    "kernelspec": {
      "name": "python3",
      "display_name": "Python 3"
    }
  },
  "cells": [
    {
      "cell_type": "markdown",
      "metadata": {
        "id": "view-in-github",
        "colab_type": "text"
      },
      "source": [
        "<a href=\"https://colab.research.google.com/github/darunrat/data_viz/blob/main/Function_Loop_condition.ipynb\" target=\"_parent\"><img src=\"https://colab.research.google.com/assets/colab-badge.svg\" alt=\"Open In Colab\"/></a>"
      ]
    },
    {
      "cell_type": "code",
      "metadata": {
        "colab": {
          "base_uri": "https://localhost:8080/"
        },
        "id": "5LAxmqocff1C",
        "outputId": "95f2a26c-3d4e-42e0-a1d1-52a36e26e467"
      },
      "source": [
        "name='ดรุณรัตน์'\r\n",
        "surname = 'ราชแข็ง'\r\n",
        "ID='613020968-5'\r\n",
        "\r\n",
        "b=f'ชื่อ {name} นามสกุล {surname} รหัส {ID}'\r\n",
        "print(b)\r\n",
        "\r\n"
      ],
      "execution_count": 4,
      "outputs": [
        {
          "output_type": "stream",
          "text": [
            "ชื่อ ดรุณรัตน์ นามสกุล ราชแข็ง รหัส 613020968-5\n"
          ],
          "name": "stdout"
        }
      ]
    },
    {
      "cell_type": "code",
      "metadata": {
        "id": "m2sOdgFHgVZG"
      },
      "source": [
        ""
      ],
      "execution_count": null,
      "outputs": []
    },
    {
      "cell_type": "markdown",
      "metadata": {
        "id": "1sFe_Jkhg8pg"
      },
      "source": [
        "function"
      ]
    },
    {
      "cell_type": "markdown",
      "metadata": {
        "id": "4UQuf5dfhAak"
      },
      "source": [
        "ทำหน้าที่รับ input มาประมวลผลออกมาเป็น output\r\n",
        "#####f(x)=y"
      ]
    },
    {
      "cell_type": "markdown",
      "metadata": {
        "id": "iuauaW39hMxB"
      },
      "source": [
        "def คือการกำหนดฟังก์ชัน"
      ]
    },
    {
      "cell_type": "markdown",
      "metadata": {
        "id": "EWvsQ1INiXtk"
      },
      "source": [
        "```python\r\n",
        "def function_name(_input_) :\r\n",
        "  do_someting with _input_ to get _output_\r\n",
        "  return _output_\r\n",
        "```\r\n",
        "\r\n",
        " ###### back tick(`) ==> กดค้าง,alt-9>6 ,full keyboard with number\r\n",
        " ##### tilde (~)\r\n",
        "  ##### cury bracket ({ })\r\n",
        "  ##### squre breacket ([ ])"
      ]
    },
    {
      "cell_type": "markdown",
      "metadata": {
        "id": "WYBKd_yEl_1i"
      },
      "source": [
        "funtion มีส่วนสำคัญทั้งหมด 4 ส่วน \r\n",
        "1. บอก python ว่าเราจะเขียนฟังชั่นชื่ออะไร ```def function_name (ขาดไม่ได้) : ```\r\n",
        "2. กำหนดตัวแปรที่จะเป็น input  ``` _input _``` (ขาดได้)\r\n",
        "3. ส่วนประมวลผล ````do_someting with  _input_  to get  _output_ ```(ขาดไม่ได้) \r\n",
        "4. ส่วน return_output_(ขาดได้)"
      ]
    },
    {
      "cell_type": "code",
      "metadata": {
        "colab": {
          "base_uri": "https://localhost:8080/",
          "height": 34
        },
        "id": "vE9Szl2Zg_xK",
        "outputId": "880fd0e4-d8be-4935-91f8-54dbd9a58b71"
      },
      "source": [
        "def print_name(name1,surname1,ID1) :\r\n",
        " st =f'ชื่อ {name} นามสกุล {surname} รหัส {ID} '\r\n",
        " return st\r\n",
        "print_name('ราชแข็ง','613020968-5','ดรุณรัตน์'  )"
      ],
      "execution_count": 7,
      "outputs": [
        {
          "output_type": "execute_result",
          "data": {
            "application/vnd.google.colaboratory.intrinsic+json": {
              "type": "string"
            },
            "text/plain": [
              "'ชื่อ ดรุณรัตน์ นามสกุล ราชแข็ง รหัส 613020968-5 '"
            ]
          },
          "metadata": {
            "tags": []
          },
          "execution_count": 7
        }
      ]
    },
    {
      "cell_type": "code",
      "metadata": {
        "colab": {
          "base_uri": "https://localhost:8080/"
        },
        "id": "Nq8lQewWn9cI",
        "outputId": "ccfb620c-7b98-4867-cae0-33f4d6be02b8"
      },
      "source": [
        "print(print_name(name1='ดรุณรัตน์' ,surname1='ราชแข็ง' ,ID1='613020968-5'))"
      ],
      "execution_count": 31,
      "outputs": [
        {
          "output_type": "stream",
          "text": [
            "ชื่อ ดรุณรัตน์ นามสกุล ราชแข็ง รหัส 613020968-5 \n"
          ],
          "name": "stdout"
        }
      ]
    },
    {
      "cell_type": "code",
      "metadata": {
        "id": "2RU3HdSzrw8v"
      },
      "source": [
        ""
      ],
      "execution_count": null,
      "outputs": []
    },
    {
      "cell_type": "code",
      "metadata": {
        "colab": {
          "base_uri": "https://localhost:8080/"
        },
        "id": "q57Vnp3hrxRj",
        "outputId": "ed517ae6-39f0-41c4-c8d6-d9cdf20f58b3"
      },
      "source": [
        "print(print_name('ดรุณรัตน์' ,'ราชแข็ง' ,'613020968-5'))"
      ],
      "execution_count": 21,
      "outputs": [
        {
          "output_type": "stream",
          "text": [
            "ชื่อ ดรุณรัตน์ นามสกุล ราชแข็ง รหัส 613020968-5 \n"
          ],
          "name": "stdout"
        }
      ]
    },
    {
      "cell_type": "code",
      "metadata": {
        "id": "E5JJ3HoopgOv"
      },
      "source": [
        "def print_name2(surname2,ID2,name2):\r\n",
        "  st=f'ชิ่อ {name2} นามสกุล {surname2} รหัส {ID2}'\r\n",
        "  print(st)\r\n",
        "  print_name2(name2='ดรุณรัตน์', surname2='ราชแข็ง', ID2='613020968-5')"
      ],
      "execution_count": 34,
      "outputs": []
    },
    {
      "cell_type": "markdown",
      "metadata": {
        "id": "br53C9h-rWZ_"
      },
      "source": [
        "ฟังก์ชันไม่ต้องมี input"
      ]
    },
    {
      "cell_type": "code",
      "metadata": {
        "id": "tXFPMoVVlXKr"
      },
      "source": [
        "def pi() :\r\n",
        "  return 3.14159265359\r\n",
        "  "
      ],
      "execution_count": 17,
      "outputs": []
    },
    {
      "cell_type": "code",
      "metadata": {
        "colab": {
          "base_uri": "https://localhost:8080/"
        },
        "id": "CHjaOKo6qxtj",
        "outputId": "6b15a560-021c-4478-c3de-ec13b07b45a9"
      },
      "source": [
        "pi()*(2**2) #หาพื้นที่ของวงกลมที่มีรัศมีเท่ากับ pi*r^2"
      ],
      "execution_count": 20,
      "outputs": [
        {
          "output_type": "execute_result",
          "data": {
            "text/plain": [
              "12.56637061436"
            ]
          },
          "metadata": {
            "tags": []
          },
          "execution_count": 20
        }
      ]
    },
    {
      "cell_type": "markdown",
      "metadata": {
        "id": "XHBlxutHrb7j"
      },
      "source": [
        "เราสามารถกำหนดค่า default ให้กับฟังก์ชันได้"
      ]
    },
    {
      "cell_type": "code",
      "metadata": {
        "id": "H5FExaH1q0Q8"
      },
      "source": [
        "def print_2line_default(name,surname,ID,grade='F') :\r\n",
        "  st= f' ชื่อ {name} นามสกุล  {surname} รหัส  {ID}   '\r\n",
        "  print(st)\r\n",
        "  st2= f'เกรดวิชา Data Viz >>> {grade}'\r\n",
        "  print(st2)"
      ],
      "execution_count": 24,
      "outputs": []
    },
    {
      "cell_type": "code",
      "metadata": {
        "colab": {
          "base_uri": "https://localhost:8080/"
        },
        "id": "vmxucZOstODe",
        "outputId": "4e204506-6cf9-47fb-da0d-969f4c11f474"
      },
      "source": [
        "print_2line_default('ดรุณรัตน์','ราชแข็ง','ราชแข็ง')"
      ],
      "execution_count": 28,
      "outputs": [
        {
          "output_type": "stream",
          "text": [
            " ชื่อ ดรุณรัตน์ นามสกุล  ราชแข็ง รหัส  ราชแข็ง   \n",
            "เกรดวิชา Data Viz >>> F\n"
          ],
          "name": "stdout"
        }
      ]
    },
    {
      "cell_type": "code",
      "metadata": {
        "colab": {
          "base_uri": "https://localhost:8080/"
        },
        "id": "XCMe0uIsssV6",
        "outputId": "0a021aa3-7505-4fd5-faf5-ddfcba17c00f"
      },
      "source": [
        "print_2line_default('ดรุณรัตน์','ราชแข็ง','ราชแข็ง','A')"
      ],
      "execution_count": 25,
      "outputs": [
        {
          "output_type": "stream",
          "text": [
            " ชื่อ ดรุณรัตน์ นามสกุล  ราชแข็ง รหัส  ราชแข็ง   \n",
            "เกรดวิชา Data Viz >>> A\n"
          ],
          "name": "stdout"
        }
      ]
    },
    {
      "cell_type": "code",
      "metadata": {
        "id": "jrJyldsGtJhB"
      },
      "source": [
        ""
      ],
      "execution_count": null,
      "outputs": []
    },
    {
      "cell_type": "markdown",
      "metadata": {
        "id": "3OVAucy-0eZh"
      },
      "source": [
        "#Loop การวนซ้ำ"
      ]
    },
    {
      "cell_type": "markdown",
      "metadata": {
        "id": "Ti6LWx1q1OOm"
      },
      "source": [
        "for เป็นคำที่ใช้บอกบอก pyhon ว่าเรากำลังเขียน loop โดยforจะดนดิ่งสมาชิกจาก ```list``` มาทำ ```process do_```"
      ]
    },
    {
      "cell_type": "code",
      "metadata": {
        "colab": {
          "base_uri": "https://localhost:8080/"
        },
        "id": "8hp438591FMT",
        "outputId": "a1fa2d7c-fa05-429d-9550-01d923451511"
      },
      "source": [
        "for i in [1,2,3] :\r\n",
        "  o=i**2\r\n",
        "  print (f'this member = {i} affter process={o}' )\r\n"
      ],
      "execution_count": 30,
      "outputs": [
        {
          "output_type": "stream",
          "text": [
            "this member = 1 affter process=1\n",
            "this member = 2 affter process=4\n",
            "this member = 3 affter process=9\n"
          ],
          "name": "stdout"
        }
      ]
    },
    {
      "cell_type": "code",
      "metadata": {
        "id": "HfTkX2JR1prW"
      },
      "source": [
        ""
      ],
      "execution_count": null,
      "outputs": []
    }
  ]
}