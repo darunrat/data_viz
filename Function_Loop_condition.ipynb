{
  "nbformat": 4,
  "nbformat_minor": 0,
  "metadata": {
    "colab": {
      "name": "Function_Loop_condition.ipynb",
      "provenance": [],
      "authorship_tag": "ABX9TyMgdpUweNOHO6bi3BnUQtYL",
      "include_colab_link": true
    },
    "kernelspec": {
      "name": "python3",
      "display_name": "Python 3"
    }
  },
  "cells": [
    {
      "cell_type": "markdown",
      "metadata": {
        "id": "view-in-github",
        "colab_type": "text"
      },
      "source": [
        "<a href=\"https://colab.research.google.com/github/darunrat/data_viz/blob/main/Function_Loop_condition.ipynb\" target=\"_parent\"><img src=\"https://colab.research.google.com/assets/colab-badge.svg\" alt=\"Open In Colab\"/></a>"
      ]
    },
    {
      "cell_type": "code",
      "metadata": {
        "colab": {
          "base_uri": "https://localhost:8080/"
        },
        "id": "5LAxmqocff1C",
        "outputId": "95f2a26c-3d4e-42e0-a1d1-52a36e26e467"
      },
      "source": [
        "name='ดรุณรัตน์'\r\n",
        "surname = 'ราชแข็ง'\r\n",
        "ID='613020968-5'\r\n",
        "\r\n",
        "b=f'ชื่อ {name} นามสกุล {surname} รหัส {ID}'\r\n",
        "print(b)\r\n",
        "\r\n"
      ],
      "execution_count": null,
      "outputs": [
        {
          "output_type": "stream",
          "text": [
            "ชื่อ ดรุณรัตน์ นามสกุล ราชแข็ง รหัส 613020968-5\n"
          ],
          "name": "stdout"
        }
      ]
    },
    {
      "cell_type": "code",
      "metadata": {
        "id": "m2sOdgFHgVZG"
      },
      "source": [
        ""
      ],
      "execution_count": null,
      "outputs": []
    },
    {
      "cell_type": "markdown",
      "metadata": {
        "id": "1sFe_Jkhg8pg"
      },
      "source": [
        "function"
      ]
    },
    {
      "cell_type": "markdown",
      "metadata": {
        "id": "4UQuf5dfhAak"
      },
      "source": [
        "ทำหน้าที่รับ input มาประมวลผลออกมาเป็น output\r\n",
        "#####f(x)=y"
      ]
    },
    {
      "cell_type": "markdown",
      "metadata": {
        "id": "iuauaW39hMxB"
      },
      "source": [
        "def คือการกำหนดฟังก์ชัน"
      ]
    },
    {
      "cell_type": "markdown",
      "metadata": {
        "id": "EWvsQ1INiXtk"
      },
      "source": [
        "```python\r\n",
        "def function_name(_input_) :\r\n",
        "  do_someting with _input_ to get _output_\r\n",
        "  return _output_\r\n",
        "```\r\n",
        "\r\n",
        " ###### back tick(`) ==> กดค้าง,alt-9>6 ,full keyboard with number\r\n",
        " ##### tilde (~)\r\n",
        "  ##### cury bracket ({ })\r\n",
        "  ##### squre breacket ([ ])"
      ]
    },
    {
      "cell_type": "markdown",
      "metadata": {
        "id": "WYBKd_yEl_1i"
      },
      "source": [
        "funtion มีส่วนสำคัญทั้งหมด 4 ส่วน \r\n",
        "1. บอก python ว่าเราจะเขียนฟังชั่นชื่ออะไร ```def function_name (ขาดไม่ได้) : ```\r\n",
        "2. กำหนดตัวแปรที่จะเป็น input  ``` _input _``` (ขาดได้)\r\n",
        "3. ส่วนประมวลผล ````do_someting with  _input_  to get  _output_ ```(ขาดไม่ได้) \r\n",
        "4. ส่วน return_output_(ขาดได้)"
      ]
    },
    {
      "cell_type": "code",
      "metadata": {
        "colab": {
          "base_uri": "https://localhost:8080/",
          "height": 34
        },
        "id": "vE9Szl2Zg_xK",
        "outputId": "880fd0e4-d8be-4935-91f8-54dbd9a58b71"
      },
      "source": [
        "def print_name(name1,surname1,ID1) :\r\n",
        " st =f'ชื่อ {name} นามสกุล {surname} รหัส {ID} '\r\n",
        " return st\r\n",
        "print_name('ราชแข็ง','613020968-5','ดรุณรัตน์'  )"
      ],
      "execution_count": null,
      "outputs": [
        {
          "output_type": "execute_result",
          "data": {
            "application/vnd.google.colaboratory.intrinsic+json": {
              "type": "string"
            },
            "text/plain": [
              "'ชื่อ ดรุณรัตน์ นามสกุล ราชแข็ง รหัส 613020968-5 '"
            ]
          },
          "metadata": {
            "tags": []
          },
          "execution_count": 7
        }
      ]
    },
    {
      "cell_type": "code",
      "metadata": {
        "colab": {
          "base_uri": "https://localhost:8080/"
        },
        "id": "Nq8lQewWn9cI",
        "outputId": "ccfb620c-7b98-4867-cae0-33f4d6be02b8"
      },
      "source": [
        "print(print_name(name1='ดรุณรัตน์' ,surname1='ราชแข็ง' ,ID1='613020968-5'))"
      ],
      "execution_count": null,
      "outputs": [
        {
          "output_type": "stream",
          "text": [
            "ชื่อ ดรุณรัตน์ นามสกุล ราชแข็ง รหัส 613020968-5 \n"
          ],
          "name": "stdout"
        }
      ]
    },
    {
      "cell_type": "code",
      "metadata": {
        "id": "2RU3HdSzrw8v"
      },
      "source": [
        ""
      ],
      "execution_count": null,
      "outputs": []
    },
    {
      "cell_type": "code",
      "metadata": {
        "colab": {
          "base_uri": "https://localhost:8080/"
        },
        "id": "q57Vnp3hrxRj",
        "outputId": "ed517ae6-39f0-41c4-c8d6-d9cdf20f58b3"
      },
      "source": [
        "print(print_name('ดรุณรัตน์' ,'ราชแข็ง' ,'613020968-5'))"
      ],
      "execution_count": null,
      "outputs": [
        {
          "output_type": "stream",
          "text": [
            "ชื่อ ดรุณรัตน์ นามสกุล ราชแข็ง รหัส 613020968-5 \n"
          ],
          "name": "stdout"
        }
      ]
    },
    {
      "cell_type": "code",
      "metadata": {
        "id": "E5JJ3HoopgOv"
      },
      "source": [
        "def print_name2(surname2,ID2,name2):\r\n",
        "  st=f'ชิ่อ {name2} นามสกุล {surname2} รหัส {ID2}'\r\n",
        "  print(st)\r\n",
        "  print_name2(name2='ดรุณรัตน์', surname2='ราชแข็ง', ID2='613020968-5')"
      ],
      "execution_count": null,
      "outputs": []
    },
    {
      "cell_type": "markdown",
      "metadata": {
        "id": "br53C9h-rWZ_"
      },
      "source": [
        "ฟังก์ชันไม่ต้องมี input"
      ]
    },
    {
      "cell_type": "code",
      "metadata": {
        "id": "tXFPMoVVlXKr"
      },
      "source": [
        "def pi() :\r\n",
        "  return 3.14159265359\r\n",
        "  "
      ],
      "execution_count": null,
      "outputs": []
    },
    {
      "cell_type": "code",
      "metadata": {
        "colab": {
          "base_uri": "https://localhost:8080/"
        },
        "id": "CHjaOKo6qxtj",
        "outputId": "6b15a560-021c-4478-c3de-ec13b07b45a9"
      },
      "source": [
        "pi()*(2**2) #หาพื้นที่ของวงกลมที่มีรัศมีเท่ากับ pi*r^2"
      ],
      "execution_count": null,
      "outputs": [
        {
          "output_type": "execute_result",
          "data": {
            "text/plain": [
              "12.56637061436"
            ]
          },
          "metadata": {
            "tags": []
          },
          "execution_count": 20
        }
      ]
    },
    {
      "cell_type": "markdown",
      "metadata": {
        "id": "XHBlxutHrb7j"
      },
      "source": [
        "เราสามารถกำหนดค่า default ให้กับฟังก์ชันได้"
      ]
    },
    {
      "cell_type": "code",
      "metadata": {
        "id": "H5FExaH1q0Q8"
      },
      "source": [
        "def print_2line_default(name,surname,ID,grade='F') :\r\n",
        "  st= f' ชื่อ {name} นามสกุล  {surname} รหัส  {ID}   '\r\n",
        "  print(st)\r\n",
        "  st2= f'เกรดวิชา Data Viz >>> {grade}'\r\n",
        "  print(st2)"
      ],
      "execution_count": null,
      "outputs": []
    },
    {
      "cell_type": "code",
      "metadata": {
        "colab": {
          "base_uri": "https://localhost:8080/"
        },
        "id": "vmxucZOstODe",
        "outputId": "4e204506-6cf9-47fb-da0d-969f4c11f474"
      },
      "source": [
        "print_2line_default('ดรุณรัตน์','ราชแข็ง','ราชแข็ง')"
      ],
      "execution_count": null,
      "outputs": [
        {
          "output_type": "stream",
          "text": [
            " ชื่อ ดรุณรัตน์ นามสกุล  ราชแข็ง รหัส  ราชแข็ง   \n",
            "เกรดวิชา Data Viz >>> F\n"
          ],
          "name": "stdout"
        }
      ]
    },
    {
      "cell_type": "code",
      "metadata": {
        "colab": {
          "base_uri": "https://localhost:8080/"
        },
        "id": "XCMe0uIsssV6",
        "outputId": "0a021aa3-7505-4fd5-faf5-ddfcba17c00f"
      },
      "source": [
        "print_2line_default('ดรุณรัตน์','ราชแข็ง','ราชแข็ง','A')"
      ],
      "execution_count": null,
      "outputs": [
        {
          "output_type": "stream",
          "text": [
            " ชื่อ ดรุณรัตน์ นามสกุล  ราชแข็ง รหัส  ราชแข็ง   \n",
            "เกรดวิชา Data Viz >>> A\n"
          ],
          "name": "stdout"
        }
      ]
    },
    {
      "cell_type": "code",
      "metadata": {
        "id": "jrJyldsGtJhB"
      },
      "source": [
        ""
      ],
      "execution_count": null,
      "outputs": []
    },
    {
      "cell_type": "markdown",
      "metadata": {
        "id": "3OVAucy-0eZh"
      },
      "source": [
        "#Loop การวนซ้ำ"
      ]
    },
    {
      "cell_type": "markdown",
      "metadata": {
        "id": "Ti6LWx1q1OOm"
      },
      "source": [
        "for เป็นคำที่ใช้บอกบอก pyhon ว่าเรากำลังเขียน loop โดยforจะดนดิ่งสมาชิกจาก ```list``` มาทำ ```process do_```"
      ]
    },
    {
      "cell_type": "code",
      "metadata": {
        "colab": {
          "base_uri": "https://localhost:8080/"
        },
        "id": "8hp438591FMT",
        "outputId": "a1fa2d7c-fa05-429d-9550-01d923451511"
      },
      "source": [
        "for i in [1,2,3] :\r\n",
        "  o=i**2\r\n",
        "  print (f'this member = {i} affter process={o}' )\r\n"
      ],
      "execution_count": null,
      "outputs": [
        {
          "output_type": "stream",
          "text": [
            "this member = 1 affter process=1\n",
            "this member = 2 affter process=4\n",
            "this member = 3 affter process=9\n"
          ],
          "name": "stdout"
        }
      ]
    },
    {
      "cell_type": "markdown",
      "metadata": {
        "id": "eqJQ7N7sVUi6"
      },
      "source": [
        "ตัวอย่างการใช้คำสั่ง for ในการวนซ้ำของ i เมื่อ iคือ '  ' และคำสั่ง print(f'{i}->/') เพื่อกำหนดให้ผลลัพธ์แสดงสัญลักษณ์ ->/ จากนั้นเพิ่มคำสั่ง "
      ]
    },
    {
      "cell_type": "code",
      "metadata": {
        "id": "HfTkX2JR1prW",
        "colab": {
          "base_uri": "https://localhost:8080/"
        },
        "outputId": "c2c60940-d3f5-4674-8c5a-e1b9a76d35dd"
      },
      "source": [
        "for i in 'Darunrat' :\r\n",
        "  print(f'{i} -> / ',end='  ') #printแบบไม่เว้นบรทัด"
      ],
      "execution_count": null,
      "outputs": [
        {
          "output_type": "stream",
          "text": [
            "D -> /   a -> /   r -> /   u -> /   n -> /   r -> /   a -> /   t -> /   "
          ],
          "name": "stdout"
        }
      ]
    },
    {
      "cell_type": "code",
      "metadata": {
        "colab": {
          "base_uri": "https://localhost:8080/"
        },
        "id": "WudHHvouW767",
        "outputId": "a050f44a-335b-4182-c1ed-540796525ac2"
      },
      "source": [
        "for i in 'Darunrat' :\r\n",
        "  print(f'{i} -> / ',end=' , ') #printแบบไม่เว้นบรทัด"
      ],
      "execution_count": null,
      "outputs": [
        {
          "output_type": "stream",
          "text": [
            "D -> /  , a -> /  , r -> /  , u -> /  , n -> /  , r -> /  , a -> /  , t -> /  , "
          ],
          "name": "stdout"
        }
      ]
    },
    {
      "cell_type": "markdown",
      "metadata": {
        "id": "_WrDahxIXOPg"
      },
      "source": [
        "#สร้าง list ตัวเลขอัติโนมัติ range ()"
      ]
    },
    {
      "cell_type": "code",
      "metadata": {
        "colab": {
          "base_uri": "https://localhost:8080/"
        },
        "id": "5wj-v8KVWwrb",
        "outputId": "fbd9cd92-f827-4bbd-ef45-af52ff75d5ae"
      },
      "source": [
        "range_output=range(5) #ห้ามตั้งชื่อตัวแปรเป็นชื่อเดียวกับฟังก์ชัน\r\n",
        "print(range_output)\r\n"
      ],
      "execution_count": null,
      "outputs": [
        {
          "output_type": "stream",
          "text": [
            "range(0, 5)\n"
          ],
          "name": "stdout"
        }
      ]
    },
    {
      "cell_type": "code",
      "metadata": {
        "colab": {
          "base_uri": "https://localhost:8080/"
        },
        "id": "Fjvtb741YNd4",
        "outputId": "9984b75c-318d-40ef-d8bd-e4de88be158e"
      },
      "source": [
        "range_output=range(5) #ห้ามตั้งชื่อตัวแปรเป็นชื่อเดียวกับฟังก์ชัน\r\n",
        "print(list(range_output))\r\n"
      ],
      "execution_count": null,
      "outputs": [
        {
          "output_type": "stream",
          "text": [
            "[0, 1, 2, 3, 4]\n"
          ],
          "name": "stdout"
        }
      ]
    },
    {
      "cell_type": "code",
      "metadata": {
        "id": "czUA7VNIW9U_",
        "colab": {
          "base_uri": "https://localhost:8080/"
        },
        "outputId": "261e2ced-c448-45f5-f0da-9799b752abc2"
      },
      "source": [
        "for i in range(100):\r\n",
        "  print('งง',end=' ')"
      ],
      "execution_count": null,
      "outputs": [
        {
          "output_type": "stream",
          "text": [
            "งง งง งง งง งง งง งง งง งง งง งง งง งง งง งง งง งง งง งง งง งง งง งง งง งง งง งง งง งง งง งง งง งง งง งง งง งง งง งง งง งง งง งง งง งง งง งง งง งง งง งง งง งง งง งง งง งง งง งง งง งง งง งง งง งง งง งง งง งง งง งง งง งง งง งง งง งง งง งง งง งง งง งง งง งง งง งง งง งง งง งง งง งง งง งง งง งง งง งง งง "
          ],
          "name": "stdout"
        }
      ]
    },
    {
      "cell_type": "code",
      "metadata": {
        "id": "4qFo7VtTYiCF",
        "colab": {
          "base_uri": "https://localhost:8080/"
        },
        "outputId": "5d4c41b7-f0e4-4981-ebe2-6b79f8652532"
      },
      "source": [
        "list(range(1,11)) #เริ่มต้นเป็นวงทึบ จบเป็นวงกลมโปร่ง เหมือน list slicing"
      ],
      "execution_count": null,
      "outputs": [
        {
          "output_type": "execute_result",
          "data": {
            "text/plain": [
              "[1, 2, 3, 4, 5, 6, 7, 8, 9, 10]"
            ]
          },
          "metadata": {
            "tags": []
          },
          "execution_count": 8
        }
      ]
    },
    {
      "cell_type": "code",
      "metadata": {
        "id": "8mbaqZw2cdRs",
        "colab": {
          "base_uri": "https://localhost:8080/"
        },
        "outputId": "9c282324-76fc-4785-a945-db91e9c489b5"
      },
      "source": [
        "list(range(-3,20,4)) #เริ่มตั้งแต่-3เพิ่มขึ้นทีล่ะ4 ไปจนถึง20"
      ],
      "execution_count": null,
      "outputs": [
        {
          "output_type": "execute_result",
          "data": {
            "text/plain": [
              "[-3, 1, 5, 9, 13, 17]"
            ]
          },
          "metadata": {
            "tags": []
          },
          "execution_count": 11
        }
      ]
    },
    {
      "cell_type": "markdown",
      "metadata": {
        "id": "D9jAB0hjc8HK"
      },
      "source": [
        "loop in loop\r\n",
        "ใช้ for loop ซ้อนกัน2รอบ\r\n"
      ]
    },
    {
      "cell_type": "code",
      "metadata": {
        "colab": {
          "base_uri": "https://localhost:8080/"
        },
        "id": "FkWyZ_OUcjPp",
        "outputId": "b9564892-8ebc-4cac-83c8-ac348d9e467d"
      },
      "source": [
        "for name1 in range(2,5):\r\n",
        "  print(f'now name1= {name1}')\r\n",
        "  for name2 in range(1,13) :\r\n",
        "    print(name1,' x ',name2,' = ',name1*name2)\r\n",
        "  print('the inter loop id end')"
      ],
      "execution_count": null,
      "outputs": [
        {
          "output_type": "stream",
          "text": [
            "now name1= 2\n",
            "2  x  1  =  2\n",
            "2  x  2  =  4\n",
            "2  x  3  =  6\n",
            "2  x  4  =  8\n",
            "2  x  5  =  10\n",
            "2  x  6  =  12\n",
            "2  x  7  =  14\n",
            "2  x  8  =  16\n",
            "2  x  9  =  18\n",
            "2  x  10  =  20\n",
            "2  x  11  =  22\n",
            "2  x  12  =  24\n",
            "the inter loop id end\n",
            "now name1= 3\n",
            "3  x  1  =  3\n",
            "3  x  2  =  6\n",
            "3  x  3  =  9\n",
            "3  x  4  =  12\n",
            "3  x  5  =  15\n",
            "3  x  6  =  18\n",
            "3  x  7  =  21\n",
            "3  x  8  =  24\n",
            "3  x  9  =  27\n",
            "3  x  10  =  30\n",
            "3  x  11  =  33\n",
            "3  x  12  =  36\n",
            "the inter loop id end\n",
            "now name1= 4\n",
            "4  x  1  =  4\n",
            "4  x  2  =  8\n",
            "4  x  3  =  12\n",
            "4  x  4  =  16\n",
            "4  x  5  =  20\n",
            "4  x  6  =  24\n",
            "4  x  7  =  28\n",
            "4  x  8  =  32\n",
            "4  x  9  =  36\n",
            "4  x  10  =  40\n",
            "4  x  11  =  44\n",
            "4  x  12  =  48\n",
            "the inter loop id end\n"
          ],
          "name": "stdout"
        }
      ]
    },
    {
      "cell_type": "markdown",
      "metadata": {
        "id": "1nd5IVe2fFRb"
      },
      "source": [
        "loop in function"
      ]
    },
    {
      "cell_type": "code",
      "metadata": {
        "id": "5FobSa2PdmM2"
      },
      "source": [
        "list_friends=[' may',' A',' nam',' aum' ,' nat ']"
      ],
      "execution_count": null,
      "outputs": []
    },
    {
      "cell_type": "code",
      "metadata": {
        "id": "wlP6hkxQfcEb"
      },
      "source": [
        "def print_feelings(I,friends,feeling='miss you'):\r\n",
        "  for friend in friends:\r\n",
        "    print(f'{I} {feeling} {friend}')"
      ],
      "execution_count": 16,
      "outputs": []
    },
    {
      "cell_type": "code",
      "metadata": {
        "colab": {
          "base_uri": "https://localhost:8080/"
        },
        "id": "sECofaOTf4ET",
        "outputId": "68a2fd52-6260-44ca-e860-56e1ac0b3f44"
      },
      "source": [
        "print_feelings('m', list_friends )"
      ],
      "execution_count": null,
      "outputs": [
        {
          "output_type": "stream",
          "text": [
            "m miss you  may\n",
            "m miss you  A\n",
            "m miss you  nam\n",
            "m miss you  aum\n",
            "m miss you  nat \n"
          ],
          "name": "stdout"
        }
      ]
    },
    {
      "cell_type": "code",
      "metadata": {
        "colab": {
          "base_uri": "https://localhost:8080/"
        },
        "id": "mxcZEqjhh3ff",
        "outputId": "d08f58a7-ec38-424c-8eba-065907ebc269"
      },
      "source": [
        "print_feelings('m', list_friends ,feeling='love' )"
      ],
      "execution_count": null,
      "outputs": [
        {
          "output_type": "stream",
          "text": [
            "m love  may\n",
            "m love  A\n",
            "m love  nam\n",
            "m love  aum\n",
            "m love  nat \n"
          ],
          "name": "stdout"
        }
      ]
    },
    {
      "cell_type": "markdown",
      "metadata": {
        "id": "ZKfX6NTfkAJC"
      },
      "source": [
        "condition"
      ]
    },
    {
      "cell_type": "markdown",
      "metadata": {
        "id": "dvK1WurtkGtf"
      },
      "source": [
        "True/false การวนลูปโดยมีเงื่อนไข"
      ]
    },
    {
      "cell_type": "markdown",
      "metadata": {
        "id": "Oam83s-SkZOw"
      },
      "source": [
        "```python\r\n",
        "if condition :\r\n",
        "    do something\r\n",
        "elif condition\r\n",
        "    do another thing\r\n",
        " else :\r\n",
        "    do...\r\n",
        "    ```"
      ]
    },
    {
      "cell_type": "code",
      "metadata": {
        "id": "IgjCe4d4lgHo"
      },
      "source": [
        "F=['m','may','miw']"
      ],
      "execution_count": null,
      "outputs": []
    },
    {
      "cell_type": "code",
      "metadata": {
        "colab": {
          "base_uri": "https://localhost:8080/"
        },
        "id": "XVm8ZkSIgDvS",
        "outputId": "acaed2d3-25ea-44ff-e98d-a2b3cea92e29"
      },
      "source": [
        "for name1 in F :\r\n",
        "  for name2 in F :\r\n",
        "    print(name1,'love',name2)"
      ],
      "execution_count": null,
      "outputs": [
        {
          "output_type": "stream",
          "text": [
            "m love m\n",
            "m love may\n",
            "m love miw\n",
            "may love m\n",
            "may love may\n",
            "may love miw\n",
            "miw love m\n",
            "miw love may\n",
            "miw love miw\n"
          ],
          "name": "stdout"
        }
      ]
    },
    {
      "cell_type": "code",
      "metadata": {
        "id": "P1oesN36lc-B"
      },
      "source": [
        ""
      ],
      "execution_count": null,
      "outputs": []
    },
    {
      "cell_type": "code",
      "metadata": {
        "colab": {
          "base_uri": "https://localhost:8080/"
        },
        "id": "CCYgAZcHl02r",
        "outputId": "ec72b253-4933-46f5-867f-baaf84ac2446"
      },
      "source": [
        "for name1 in F :\r\n",
        "  for name2 in F :\r\n",
        "    if name1 != name2:\r\n",
        "      print(name1,'love',name2)"
      ],
      "execution_count": null,
      "outputs": [
        {
          "output_type": "stream",
          "text": [
            "m love may\n",
            "m love miw\n",
            "may love m\n",
            "may love miw\n",
            "miw love m\n",
            "miw love may\n"
          ],
          "name": "stdout"
        }
      ]
    },
    {
      "cell_type": "code",
      "metadata": {
        "colab": {
          "base_uri": "https://localhost:8080/"
        },
        "id": "TDvBv6QlmIV2",
        "outputId": "d3fbda3f-0396-4c3b-a16f-5a2477b6e2e0"
      },
      "source": [
        "for name1 in F :\r\n",
        "  for name2 in F :\r\n",
        "    if name1 == name2:\r\n",
        "      print(name1,'love',name2)"
      ],
      "execution_count": null,
      "outputs": [
        {
          "output_type": "stream",
          "text": [
            "m love m\n",
            "may love may\n",
            "miw love miw\n"
          ],
          "name": "stdout"
        }
      ]
    },
    {
      "cell_type": "code",
      "metadata": {
        "colab": {
          "base_uri": "https://localhost:8080/"
        },
        "id": "h0mznW5Smalx",
        "outputId": "be49c85f-def4-496b-d514-95e412480f25"
      },
      "source": [
        "for name1 in F :\r\n",
        "  for name2 in F :\r\n",
        "    if name1 == name2:\r\n",
        "      'do nothing'\r\n",
        "    else :\r\n",
        "       print(name1,'love',name2)"
      ],
      "execution_count": null,
      "outputs": [
        {
          "output_type": "stream",
          "text": [
            "m love may\n",
            "m love miw\n",
            "may love m\n",
            "may love miw\n",
            "miw love m\n",
            "miw love may\n"
          ],
          "name": "stdout"
        }
      ]
    },
    {
      "cell_type": "code",
      "metadata": {
        "colab": {
          "base_uri": "https://localhost:8080/"
        },
        "id": "4OOtXg-UmLE8",
        "outputId": "a5e3f572-5a34-42d4-a109-446ef448ba1f"
      },
      "source": [
        "for name1 in F :\r\n",
        "  for name2 in F :\r\n",
        "    if name1 != name2:\r\n",
        "      'do nothing'\r\n",
        "    else :\r\n",
        "       print(name1,'love',name2)"
      ],
      "execution_count": null,
      "outputs": [
        {
          "output_type": "stream",
          "text": [
            "m love m\n",
            "may love may\n",
            "miw love miw\n"
          ],
          "name": "stdout"
        }
      ]
    },
    {
      "cell_type": "markdown",
      "metadata": {
        "id": "_IYrXpSymx4e"
      },
      "source": [
        "#####== เท่ากัน\r\n",
        "#####!=ไม่เท่ากัน\r\n",
        "#####>=มากกว่า\r\n",
        "#####<=น้อยกว่า"
      ]
    },
    {
      "cell_type": "code",
      "metadata": {
        "id": "qQG8er6vmXBk"
      },
      "source": [
        ""
      ],
      "execution_count": null,
      "outputs": []
    },
    {
      "cell_type": "markdown",
      "metadata": {
        "id": "rDBLaOpkn9-k"
      },
      "source": [
        "#HW4"
      ]
    },
    {
      "cell_type": "markdown",
      "metadata": {
        "id": "gvO-vx96n96_"
      },
      "source": [
        "เขียนfunction ตัดเกรด โดยที่ input เป็นคะแนน(0-100) , output เป็นเกรด (F-A) วนลูปตัดเกรด input=[1,50,65,90,101,-5,49]"
      ]
    },
    {
      "cell_type": "markdown",
      "metadata": {
        "id": "p3Mley_-SMjE"
      },
      "source": [
        "# กำหนด\r\n",
        "ถ้าคะแนนอยู่ระหว่างมากว่าหรือเท่ากับ 0 แต่น้อยกว่า50 จะได้เกรด F\r\n",
        "\r\n",
        "ถ้าคะแนนอยู่ระหว่างมากว่าหรือเท่ากับ 50 แต่น้อยกว่า55 จะได้เกรด D\r\n",
        "\r\n",
        "ถ้าคะแนนอยู่ระหว่างมากว่าหรือเท่ากับ 55 แต่น้อยกว่า60 จะได้เกรด D+\r\n",
        "\r\n",
        "ถ้าคะแนนอยู่ระหว่างมากว่าหรือเท่ากับ 60 แต่น้อยกว่า65 จะได้เกรด C\r\n",
        "\r\n",
        "ถ้าคะแนนอยู่ระหว่างมากว่าหรือเท่ากับ 65แต่น้อยกว่า70 จะได้เกรด C+\r\n",
        "\r\n",
        "ถ้าคะแนนอยู่ระหว่างมากว่าหรือเท่ากับ 70 แต่น้อยกว่า75 จะได้เกรด B\r\n",
        "\r\n",
        "ถ้าคะแนนอยู่ระหว่างมากว่าหรือเท่ากับ 75 แต่น้อยกว่า80 จะได้เกรด B+\r\n",
        "\r\n",
        "ถ้าคะแนนอยู่ระหว่างมากว่าหรือเท่ากับ 80 จะได้เกรด A\r\n",
        "\r\n",
        "แต่ว่าค่าคะแนนจะต้องไม่ต่ำกว่า 0 และมากกว่า 100 ไม่งั้นจะเกิด error\r\n"
      ]
    },
    {
      "cell_type": "markdown",
      "metadata": {
        "id": "8yHTcQ0rCumI"
      },
      "source": [
        ""
      ]
    },
    {
      "cell_type": "code",
      "metadata": {
        "id": "7rTmeMHDeC7V"
      },
      "source": [
        "input =[1,50,65,90,101,-5,49]"
      ],
      "execution_count": 77,
      "outputs": []
    },
    {
      "cell_type": "code",
      "metadata": {
        "id": "KAHuGYnQVg0F"
      },
      "source": [
        "def  print_grade(score):\r\n",
        "  if score>=0 and score<50:print(f'ถ้ามีคะแนน {score} คะแนน จะได้เกรด F')  \r\n",
        "  if score>=50 and score<55:print(f'ถ้ามีคะแนน {score} คะแนน จะได้เกรด D')\r\n",
        "  if score>=55 and score<60:print(f'ถ้ามีคะแนน {score} คะแนน จะได้เกรด D+')\r\n",
        "  if score>=60 and score<65:print(f'ถ้ามีคะแนน {score} คะแนน จะได้เกรด C')\r\n",
        "  if score>=65 and score<70:print(f'ถ้ามีคะแนน {score} คะแนน จะได้เกรด C+')\r\n",
        "  if score>=70 and score<75:print(f'ถ้ามีคะแนน {score} คะแนน จะได้เกรด B')\r\n",
        "  if score>=75 and score<80:print(f'ถ้ามีคะแนน {score} คะแนน จะได้เกรด B+')\r\n",
        "  if score>=80:print(f'ถ้ามีคะแนน {score} คะแนน จะได้เกรด A')\r\n",
        "  if score <0  : print(f'คะแนนerror')\r\n",
        "  if score >=100 : print(f'คะแนนerror')"
      ],
      "execution_count": 91,
      "outputs": []
    },
    {
      "cell_type": "code",
      "metadata": {
        "id": "mLxF_qhBeky6",
        "outputId": "6dda8880-7f2a-46c6-c2f0-599bdd6671e3",
        "colab": {
          "base_uri": "https://localhost:8080/"
        }
      },
      "source": [
        "for score in input:\r\n",
        "  print_grade(score)"
      ],
      "execution_count": 92,
      "outputs": [
        {
          "output_type": "stream",
          "text": [
            "ถ้ามีคะแนน 1 คะแนน จะได้เกรด F\n",
            "ถ้ามีคะแนน 50 คะแนน จะได้เกรด D\n",
            "ถ้ามีคะแนน 65 คะแนน จะได้เกรด C+\n",
            "ถ้ามีคะแนน 90 คะแนน จะได้เกรด A\n",
            "ถ้ามีคะแนน 101 คะแนน จะได้เกรด A\n",
            "คะแนนerror\n",
            "คะแนนerror\n",
            "ถ้ามีคะแนน 49 คะแนน จะได้เกรด F\n"
          ],
          "name": "stdout"
        }
      ]
    },
    {
      "cell_type": "code",
      "metadata": {
        "id": "TopNsOYfVZOo"
      },
      "source": [
        ""
      ],
      "execution_count": 113,
      "outputs": []
    },
    {
      "cell_type": "code",
      "metadata": {
        "id": "5TVYvLY1VZMN"
      },
      "source": [
        ""
      ],
      "execution_count": 111,
      "outputs": []
    },
    {
      "cell_type": "code",
      "metadata": {
        "id": "D2tgBFBgVZG2"
      },
      "source": [
        ""
      ],
      "execution_count": null,
      "outputs": []
    },
    {
      "cell_type": "code",
      "metadata": {
        "id": "0R2dZqY2SLN5"
      },
      "source": [
        ""
      ],
      "execution_count": null,
      "outputs": []
    }
  ]
}